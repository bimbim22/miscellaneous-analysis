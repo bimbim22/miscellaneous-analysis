{
  "nbformat": 4,
  "nbformat_minor": 0,
  "metadata": {
    "colab": {
      "name": "Brain Tumour.ipynb",
      "provenance": [],
      "collapsed_sections": [
        "ezS04kiPBW4p",
        "ejegIfUrBiqc",
        "qz75NzFqV1Ij",
        "yBQCdnaw2o0o",
        "zdqIH1k74IzM"
      ]
    },
    "kernelspec": {
      "name": "python3",
      "display_name": "Python 3"
    },
    "language_info": {
      "name": "python"
    },
    "accelerator": "GPU",
    "gpuClass": "standard"
  },
  "cells": [
    {
      "cell_type": "code",
      "metadata": {
        "id": "5ZELWDPcgQ5Z"
      },
      "source": [
        "import numpy as np\n",
        "import keras\n",
        "import pandas as pd\n",
        "import nibabel as nib\n",
        "import matplotlib.pyplot as plt\n",
        "import cv2\n",
        "import tensorflow as tf\n",
        "import os\n",
        "from tqdm import tqdm"
      ],
      "execution_count": null,
      "outputs": []
    },
    {
      "cell_type": "markdown",
      "metadata": {
        "id": "ezS04kiPBW4p"
      },
      "source": [
        "### Rearrange data and define loader functions"
      ]
    },
    {
      "cell_type": "code",
      "metadata": {
        "colab": {
          "base_uri": "https://localhost:8080/"
        },
        "id": "Lzx0qtiEn_1b",
        "outputId": "82f87fe9-979a-471d-bf13-75f59345aa18"
      },
      "source": [
        "image_data_path = './drive/MyDrive/Brain Tumour/Task01_BrainTumour/imagesTr/'\n",
        "label_data_path = './drive/MyDrive/Brain Tumour/Task01_BrainTumour/labelsTr/'\n",
        "\n",
        "image_paths = [image_data_path + name \n",
        "               for name in os.listdir(image_data_path) \n",
        "               if not name.startswith(\".\")]\n",
        "\n",
        "label_paths = [label_data_path + name\n",
        "               for name in os.listdir(label_data_path)\n",
        "               if not name.startswith(\".\")]\n",
        "\n",
        "image_paths = sorted(image_paths)\n",
        "label_paths = sorted(label_paths)\n",
        "\n",
        "len(image_paths), len(label_paths)"
      ],
      "execution_count": null,
      "outputs": [
        {
          "output_type": "execute_result",
          "data": {
            "text/plain": [
              "(484, 484)"
            ]
          },
          "metadata": {},
          "execution_count": 2
        }
      ]
    },
    {
      "cell_type": "code",
      "metadata": {
        "id": "S55qArK9B2mD"
      },
      "source": [
        "start_layer = 7\n",
        "end_layer = 146 # 140\n",
        "start_height = 34\n",
        "end_height = 203 # 170\n",
        "start_width = 20\n",
        "end_width = 209 # 190"
      ],
      "execution_count": null,
      "outputs": []
    },
    {
      "cell_type": "code",
      "metadata": {
        "id": "lFBRfrKHpfNb"
      },
      "source": [
        "def load_one_sample(image_path, label_path):\n",
        "\n",
        "  image = nib.load(image_path).get_fdata().astype('float32')\n",
        "  label = nib.load(label_path).get_fdata().astype(np.int64)  # the original dtype is float64\n",
        "\n",
        "  return image, label\n",
        "\n",
        "def preprocess_from_path(image_path, label_path):\n",
        "\n",
        "  image, label = load_one_sample(image_path, label_path)\n",
        "\n",
        "  image = image[start_height:end_height+1, start_width:end_width+1, start_layer:end_layer+1, :]\n",
        "  image = np.reshape(image, (170, 190, 140 * 4))\n",
        "  image = [cv2.resize(image[:, :, i], (95, 85)) for i in range(560)]\n",
        "  image = np.reshape(image, (140, 4, 85, 95))\n",
        "  image = np.moveaxis(image, 1, 3)\n",
        "\n",
        "  label = label[start_height:end_height+1, start_width:end_width+1, start_layer:end_layer+1]\n",
        "  label = [cv2.resize(label[:, :, i] + np.ones((170, 190)), (95, 85)) for i in range(140)]\n",
        "  label = [np.array(label)[i, :, :] - np.ones((85, 95)) for i in range(140)]\n",
        "  label = np.array(label)\n",
        "  label = np.expand_dims(label, 3).astype(np.int64)\n",
        "\n",
        "  return image, label"
      ],
      "execution_count": null,
      "outputs": []
    },
    {
      "cell_type": "code",
      "metadata": {
        "colab": {
          "base_uri": "https://localhost:8080/",
          "height": 313
        },
        "id": "Qnp9omxiF-l2",
        "outputId": "0a031e46-0cf0-4d85-89b0-e704009a8c09"
      },
      "source": [
        "image_example, label_example = preprocess_from_path(image_paths[9], label_paths[9])\n",
        "print(image_example.shape, label_example.shape, type(label_example))\n",
        "\n",
        "plt.figure(figsize = (10, 5))\n",
        "plt.subplot(1, 2, 1)\n",
        "plt.imshow(image_example[100, :, :, 0])\n",
        "plt.subplot(1, 2, 2)\n",
        "plt.imshow(label_example[100, :, :, 0])"
      ],
      "execution_count": null,
      "outputs": [
        {
          "output_type": "stream",
          "name": "stdout",
          "text": [
            "(140, 85, 95, 4) (140, 85, 95, 1) <class 'numpy.ndarray'>\n"
          ]
        },
        {
          "output_type": "execute_result",
          "data": {
            "text/plain": [
              "<matplotlib.image.AxesImage at 0x7f0dbc11e0d0>"
            ]
          },
          "metadata": {},
          "execution_count": 5
        },
        {
          "output_type": "display_data",
          "data": {
            "text/plain": [
              "<Figure size 720x360 with 2 Axes>"
            ],
            "image/png": "[encoded data removed]"
          },
          "metadata": {
            "needs_background": "light"
          }
        }
      ]
    },
    {
      "cell_type": "code",
      "source": [
        "label_example"
      ],
      "metadata": {
        "id": "6i-SCunqd0qY"
      },
      "execution_count": null,
      "outputs": []
    },
    {
      "cell_type": "markdown",
      "metadata": {
        "id": "ejegIfUrBiqc"
      },
      "source": [
        "### TFRecord"
      ]
    },
    {
      "cell_type": "code",
      "metadata": {
        "id": "mQ0tRUscpzjy"
      },
      "source": [
        "def image_feature(value):\n",
        "  return tf.train.Feature(bytes_list = tf.train.BytesList(value = value)) ##\n",
        "\n",
        "def float_feature(value):\n",
        "  return tf.train.Feature(float_list = tf.train.FloatList(value = value))\n",
        "\n",
        "def int64_feature(value):\n",
        "  return tf.train.Feature(int64_list = tf.train.Int64List(value = value))\n",
        "\n",
        "def create_example(image_path, label_path):\n",
        "  image, label = preprocess_from_path(image_path, label_path)\n",
        "  image, label = image.ravel(), label.ravel()\n",
        "  feature = {'image': float_feature(image),\n",
        "             'label': int64_feature(label)}\n",
        "  example = tf.train.Example(features = tf.train.Features(feature = feature))\n",
        "  return example\n",
        "\n",
        "def parse_tfrecord(example):\n",
        "  feature = {'image': tf.io.FixedLenFeature([140, 85, 95, 4], tf.float32),\n",
        "             'label': tf.io.FixedLenFeature([140, 85, 95, 1], tf.int64)}\n",
        "  parsed_example = tf.io.parse_single_example(example, feature)\n",
        "  return parsed_example"
      ],
      "execution_count": null,
      "outputs": []
    },
    {
      "cell_type": "code",
      "metadata": {
        "id": "-bhVUGb-N9UQ"
      },
      "source": [
        "tf.config.run_functions_eagerly(True)"
      ],
      "execution_count": null,
      "outputs": []
    },
    {
      "cell_type": "code",
      "metadata": {
        "id": "fBwJy6UwEur9",
        "colab": {
          "base_uri": "https://localhost:8080/"
        },
        "outputId": "4676de7b-381f-45c9-de91-441a9d8482ec"
      },
      "source": [
        "train_writer = tf.io.TFRecordWriter('train.tfrecords')\n",
        "valid_writer = tf.io.TFRecordWriter('valid.tfrecords')\n",
        "\n",
        "for i in range(1,2):\n",
        "  example = create_example(image_paths[i], label_paths[i])\n",
        "  train_writer.write(example.SerializeToString())\n",
        "train_writer.close()\n",
        "\n",
        "for i in range(2,3):\n",
        "  example = create_example(image_paths[i], label_paths[i])\n",
        "  valid_writer.write(example.SerializeToString())\n",
        "valid_writer.close()\n",
        "\n",
        "serialised_train_set = tf.data.TFRecordDataset('train.tfrecords')\n",
        "serialised_valid_set = tf.data.TFRecordDataset('valid.tfrecords')\n",
        "\n",
        "serialised_train_set = serialised_train_set.map(parse_tfrecord)\n",
        "serialised_valid_set = serialised_valid_set.map(parse_tfrecord)"
      ],
      "execution_count": null,
      "outputs": [
        {
          "output_type": "stream",
          "name": "stderr",
          "text": [
            "/usr/local/lib/python3.7/dist-packages/tensorflow/python/data/ops/structured_function.py:265: UserWarning: Even though the `tf.config.experimental_run_functions_eagerly` option is set, this option does not apply to tf.data functions. To force eager execution of tf.data functions, please use `tf.data.experimental.enable_debug_mode()`.\n",
            "  \"Even though the `tf.config.experimental_run_functions_eagerly` \"\n"
          ]
        }
      ]
    },
    {
      "cell_type": "code",
      "metadata": {
        "colab": {
          "base_uri": "https://localhost:8080/",
          "height": 268
        },
        "id": "fgkHpCzT-4Gd",
        "outputId": "14d4322a-3e20-4705-fa2c-b6f1a5736b27"
      },
      "source": [
        "for features in serialised_valid_set.take(100):\n",
        "  plt.imshow(features['label'][90, :, :, 0])"
      ],
      "execution_count": null,
      "outputs": [
        {
          "output_type": "display_data",
          "data": {
            "text/plain": [
              "<Figure size 432x288 with 1 Axes>"
            ],
            "image/png": "[encoded data removed]"
          },
          "metadata": {
            "needs_background": "light"
          }
        }
      ]
    },
    {
      "cell_type": "code",
      "source": [
        "for features in serialised_valid_set.take(100):\n",
        "  print(features['label'].shape)"
      ],
      "metadata": {
        "colab": {
          "base_uri": "https://localhost:8080/"
        },
        "id": "APdpy0RVTrMg",
        "outputId": "5348eba1-2131-49fe-9839-4b2c98c5c25a"
      },
      "execution_count": null,
      "outputs": [
        {
          "output_type": "stream",
          "name": "stdout",
          "text": [
            "(140, 85, 95, 1)\n"
          ]
        }
      ]
    },
    {
      "cell_type": "markdown",
      "metadata": {
        "id": "QtqO1_kbBn0c"
      },
      "source": [
        "### Model"
      ]
    },
    {
      "cell_type": "code",
      "metadata": {
        "id": "y9gw_9rhN3cW"
      },
      "source": [
        "from tensorflow.keras.layers import Conv2D, Conv2DTranspose, Input, Rescaling\n",
        "\n",
        "num_classes = 4\n",
        "\n",
        "unet_beginner_version = tf.keras.Sequential([\n",
        "\n",
        "Input(shape = (85, 95, 4), name = 'image'),\n",
        "Rescaling(scale = 1./255),\n",
        "Conv2D(filters = 64, kernel_size = 3, strides = 1, activation = 'relu', padding = 'same'),\n",
        "Conv2D(filters = 64, kernel_size = 3, activation = 'relu', padding = 'same'),\n",
        "Conv2D(filters = 128, kernel_size = 3, strides = 1, activation = 'relu', padding = 'same'),\n",
        "Conv2D(filters = 128, kernel_size = 3, activation = 'relu', padding = 'same'),\n",
        "Conv2D(filters = 256, kernel_size = 3, strides = 1, activation = 'relu', padding = 'same'),\n",
        "Conv2D(filters = 256, kernel_size = 3, activation = 'relu', padding = 'same'),\n",
        "Conv2D(filters = 512, kernel_size = 3, activation = 'relu', strides = 1, padding = 'same'),\n",
        "Conv2D(filters = 512, kernel_size = 3, activation = 'relu', padding = 'same'),\n",
        "Conv2D(filters = 1024, kernel_size = 3, activation = 'relu', strides = 1, padding = 'same'),\n",
        "Conv2D(filters = 1024, kernel_size = 3, activation = 'relu', padding = 'same'),\n",
        "\n",
        "Conv2DTranspose(filters = 1024, kernel_size = 3, activation = 'relu', padding = 'same'),\n",
        "Conv2DTranspose(filters = 1024, kernel_size = 3, activation = 'relu', strides = 1, padding = 'same'),\n",
        "Conv2DTranspose(filters = 512, kernel_size = 3, activation = 'relu', padding = 'same'),\n",
        "Conv2DTranspose(filters = 512, kernel_size = 3, strides = 1, activation = 'relu', padding = 'same'),\n",
        "Conv2DTranspose(filters = 256, kernel_size = 3, activation = 'relu', padding = 'same'),\n",
        "Conv2DTranspose(filters = 256, kernel_size = 3, strides = 1, activation = 'relu', padding = 'same'),\n",
        "Conv2DTranspose(filters = 128, kernel_size = 3, activation = 'relu', padding = 'same'),\n",
        "Conv2DTranspose(filters = 128, kernel_size = 3, strides = 1, activation = 'relu', padding = 'same'),\n",
        "Conv2DTranspose(filters = 64, kernel_size = 3, activation = 'relu', padding = 'same'),\n",
        "Conv2DTranspose(filters = 64, kernel_size = 3, strides = 1, activation = 'relu', padding = 'same'),\n",
        "\n",
        "\n",
        "Conv2D(filters = num_classes, kernel_size = 3, activation = 'softmax', padding = 'same')\n",
        "\n",
        "])"
      ],
      "execution_count": null,
      "outputs": []
    },
    {
      "cell_type": "code",
      "source": [
        "unet_beginner_version.summary()"
      ],
      "metadata": {
        "id": "3d7vlUtFasij"
      },
      "execution_count": null,
      "outputs": []
    },
    {
      "cell_type": "code",
      "metadata": {
        "id": "1_F3XqwrOMAb"
      },
      "source": [
        "unet_beginner_version.compile(optimizer = 'adam', loss = 'sparse_categorical_crossentropy')"
      ],
      "execution_count": null,
      "outputs": []
    },
    {
      "cell_type": "code",
      "metadata": {
        "id": "U_WKLLQOPxFS"
      },
      "source": [
        "def get_image_and_label(features):\n",
        "  image, label = features['image'], features['label']\n",
        "  return image, label\n",
        "\n",
        "def get_dataset(tfrecord_names):\n",
        "\n",
        "  dataset = (tf.data.TFRecordDataset(tfrecord_names)\n",
        "             .map(parse_tfrecord)\n",
        "             .map(get_image_and_label))\n",
        "\n",
        "  return dataset"
      ],
      "execution_count": null,
      "outputs": []
    },
    {
      "cell_type": "code",
      "metadata": {
        "id": "UktKYW-KOSWt",
        "colab": {
          "base_uri": "https://localhost:8080/",
          "height": 450
        },
        "outputId": "2b57590d-a780-439a-cf6a-04c0b70925c7"
      },
      "source": [
        "train_set = get_dataset('train.tfrecords')\n",
        "valid_set = get_dataset('valid.tfrecords')\n",
        "\n",
        "callback = tf.keras.callbacks.ModelCheckpoint('drive/MyDrive/test.h5')\n",
        "\n",
        "#unet_beginner_version = tf.keras.models.load_model('drive/MyDrive/test.h5')\n",
        "\n",
        "history = unet_beginner_version.fit(train_set,\n",
        "                          validation_data = valid_set,\n",
        "                          callbacks = callback,\n",
        "                          batch_size = 16,\n",
        "                          epochs = 20)"
      ],
      "execution_count": null,
      "outputs": [
        {
          "output_type": "stream",
          "name": "stdout",
          "text": [
            "Epoch 1/20\n"
          ]
        },
        {
          "output_type": "error",
          "ename": "ResourceExhaustedError",
          "evalue": "ignored",
          "traceback": [
            "\u001b[0;31m---------------------------------------------------------------------------\u001b[0m",
            "\u001b[0;31mResourceExhaustedError\u001b[0m                    Traceback (most recent call last)",
            "\u001b[0;32m<ipython-input-16-f8cac14f5e21>\u001b[0m in \u001b[0;36m<module>\u001b[0;34m\u001b[0m\n\u001b[1;32m     10\u001b[0m                           \u001b[0mcallbacks\u001b[0m \u001b[0;34m=\u001b[0m \u001b[0mcallback\u001b[0m\u001b[0;34m,\u001b[0m\u001b[0;34m\u001b[0m\u001b[0;34m\u001b[0m\u001b[0m\n\u001b[1;32m     11\u001b[0m                           \u001b[0mbatch_size\u001b[0m \u001b[0;34m=\u001b[0m \u001b[0;36m16\u001b[0m\u001b[0;34m,\u001b[0m\u001b[0;34m\u001b[0m\u001b[0;34m\u001b[0m\u001b[0m\n\u001b[0;32m---> 12\u001b[0;31m                           epochs = 20)\n\u001b[0m",
            "\u001b[0;32m/usr/local/lib/python3.7/dist-packages/keras/utils/traceback_utils.py\u001b[0m in \u001b[0;36merror_handler\u001b[0;34m(*args, **kwargs)\u001b[0m\n\u001b[1;32m     65\u001b[0m     \u001b[0;32mexcept\u001b[0m \u001b[0mException\u001b[0m \u001b[0;32mas\u001b[0m \u001b[0me\u001b[0m\u001b[0;34m:\u001b[0m  \u001b[0;31m# pylint: disable=broad-except\u001b[0m\u001b[0;34m\u001b[0m\u001b[0;34m\u001b[0m\u001b[0m\n\u001b[1;32m     66\u001b[0m       \u001b[0mfiltered_tb\u001b[0m \u001b[0;34m=\u001b[0m \u001b[0m_process_traceback_frames\u001b[0m\u001b[0;34m(\u001b[0m\u001b[0me\u001b[0m\u001b[0;34m.\u001b[0m\u001b[0m__traceback__\u001b[0m\u001b[0;34m)\u001b[0m\u001b[0;34m\u001b[0m\u001b[0;34m\u001b[0m\u001b[0m\n\u001b[0;32m---> 67\u001b[0;31m       \u001b[0;32mraise\u001b[0m \u001b[0me\u001b[0m\u001b[0;34m.\u001b[0m\u001b[0mwith_traceback\u001b[0m\u001b[0;34m(\u001b[0m\u001b[0mfiltered_tb\u001b[0m\u001b[0;34m)\u001b[0m \u001b[0;32mfrom\u001b[0m \u001b[0;32mNone\u001b[0m\u001b[0;34m\u001b[0m\u001b[0;34m\u001b[0m\u001b[0m\n\u001b[0m\u001b[1;32m     68\u001b[0m     \u001b[0;32mfinally\u001b[0m\u001b[0;34m:\u001b[0m\u001b[0;34m\u001b[0m\u001b[0;34m\u001b[0m\u001b[0m\n\u001b[1;32m     69\u001b[0m       \u001b[0;32mdel\u001b[0m \u001b[0mfiltered_tb\u001b[0m\u001b[0;34m\u001b[0m\u001b[0;34m\u001b[0m\u001b[0m\n",
            "\u001b[0;32m/usr/local/lib/python3.7/dist-packages/tensorflow/python/framework/ops.py\u001b[0m in \u001b[0;36mraise_from_not_ok_status\u001b[0;34m(e, name)\u001b[0m\n\u001b[1;32m   7184\u001b[0m \u001b[0;32mdef\u001b[0m \u001b[0mraise_from_not_ok_status\u001b[0m\u001b[0;34m(\u001b[0m\u001b[0me\u001b[0m\u001b[0;34m,\u001b[0m \u001b[0mname\u001b[0m\u001b[0;34m)\u001b[0m\u001b[0;34m:\u001b[0m\u001b[0;34m\u001b[0m\u001b[0;34m\u001b[0m\u001b[0m\n\u001b[1;32m   7185\u001b[0m   \u001b[0me\u001b[0m\u001b[0;34m.\u001b[0m\u001b[0mmessage\u001b[0m \u001b[0;34m+=\u001b[0m \u001b[0;34m(\u001b[0m\u001b[0;34m\" name: \"\u001b[0m \u001b[0;34m+\u001b[0m \u001b[0mname\u001b[0m \u001b[0;32mif\u001b[0m \u001b[0mname\u001b[0m \u001b[0;32mis\u001b[0m \u001b[0;32mnot\u001b[0m \u001b[0;32mNone\u001b[0m \u001b[0;32melse\u001b[0m \u001b[0;34m\"\"\u001b[0m\u001b[0;34m)\u001b[0m\u001b[0;34m\u001b[0m\u001b[0;34m\u001b[0m\u001b[0m\n\u001b[0;32m-> 7186\u001b[0;31m   \u001b[0;32mraise\u001b[0m \u001b[0mcore\u001b[0m\u001b[0;34m.\u001b[0m\u001b[0m_status_to_exception\u001b[0m\u001b[0;34m(\u001b[0m\u001b[0me\u001b[0m\u001b[0;34m)\u001b[0m \u001b[0;32mfrom\u001b[0m \u001b[0;32mNone\u001b[0m  \u001b[0;31m# pylint: disable=protected-access\u001b[0m\u001b[0;34m\u001b[0m\u001b[0;34m\u001b[0m\u001b[0m\n\u001b[0m\u001b[1;32m   7187\u001b[0m \u001b[0;34m\u001b[0m\u001b[0m\n\u001b[1;32m   7188\u001b[0m \u001b[0;34m\u001b[0m\u001b[0m\n",
            "\u001b[0;31mResourceExhaustedError\u001b[0m: Exception encountered when calling layer \"conv2d_7\" (type Conv2D).\n\nOOM when allocating tensor with shape[140,512,85,95] and type float on /job:localhost/replica:0/task:0/device:GPU:0 by allocator GPU_0_bfc [Op:Conv2D]\n\nCall arguments received:\n  • inputs=tf.Tensor(shape=(140, 85, 95, 512), dtype=float32)"
          ]
        }
      ]
    },
    {
      "cell_type": "code",
      "metadata": {
        "id": "2J1_xO9-JZt2"
      },
      "source": [
        "# unet_beginner_version = tf.keras.models.load_model('drive/MyDrive/test.h5')"
      ],
      "execution_count": null,
      "outputs": []
    },
    {
      "cell_type": "code",
      "source": [
        "def show_result(image_path, label_path, layer):\n",
        "\n",
        "  one_image, one_label = preprocess_from_path(image_path, label_path)\n",
        "  predicted_label = unet_beginner_version.predict(np.expand_dims(one_image[layer, :, :, :], 0))[0]\n",
        "\n",
        "  # plot and compare the result\n",
        "\n",
        "  plt.figure(figsize = (20, 5))\n",
        "  plt.subplot(1, 4, 1)\n",
        "  plt.imshow(one_image[layer, :, :, 0])\n",
        "  plt.axis('off')\n",
        "\n",
        "  plt.subplot(1, 4, 2)\n",
        "  plt.imshow(one_label[layer, :, :, 0])\n",
        "  plt.axis('off')\n",
        "\n",
        "  plt.subplot(1, 4, 3)\n",
        "  plt.imshow(predicted_label[:, :, 3])\n",
        "  plt.axis('off')\n",
        "\n",
        "  plt.subplot(1, 4, 4)\n",
        "  plt.imshow(np.argmax(predicted_label, axis = -1))\n",
        "  plt.axis('off')\n",
        "\n",
        "  plt.savefig('drive/MyDrive/mypic')\n",
        "\n",
        "  return predicted_label\n"
      ],
      "metadata": {
        "id": "HTvgYMmcQkzF"
      },
      "execution_count": null,
      "outputs": []
    },
    {
      "cell_type": "code",
      "source": [
        "predicted_label = show_result(image_paths[2], label_paths[2], 90)\n",
        "predicted_label.shape"
      ],
      "metadata": {
        "id": "xCRtY7H7Uzg9"
      },
      "execution_count": null,
      "outputs": []
    },
    {
      "cell_type": "code",
      "source": [
        "plt.imshow(np.argmax(predicted_label, axis = 2))"
      ],
      "metadata": {
        "id": "DZMbk7DxaEfX"
      },
      "execution_count": null,
      "outputs": []
    },
    {
      "cell_type": "markdown",
      "source": [
        "### Testing"
      ],
      "metadata": {
        "id": "qz75NzFqV1Ij"
      }
    },
    {
      "cell_type": "code",
      "source": [
        ""
      ],
      "metadata": {
        "id": "uF-MNikvV33k"
      },
      "execution_count": null,
      "outputs": []
    },
    {
      "cell_type": "markdown",
      "metadata": {
        "id": "yBQCdnaw2o0o"
      },
      "source": [
        "### **Check for informative range**"
      ]
    },
    {
      "cell_type": "code",
      "metadata": {
        "id": "hPtb1RyE2-J5"
      },
      "source": [
        "def check_informative_layers_range_by_images(image_example):\n",
        "  informative_layers = []\n",
        "  for i in range(155):\n",
        "    unique_numbers = np.unique(image_example[:, :, i, :])\n",
        "    if len(unique_numbers) == 1:\n",
        "      pass\n",
        "    else:\n",
        "      informative_layers.append(i)\n",
        "  informative_layers_range = np.array([[informative_layers[0], informative_layers[-1]]])\n",
        "  return informative_layers_range\n",
        "\n",
        "def check_informative_layers_range_by_labels(label_example):\n",
        "  informative_layers = []\n",
        "  for i in range(155):\n",
        "    unique_numbers = np.unique(label_example[:, :, i])\n",
        "    if len(unique_numbers) == 1:\n",
        "      pass\n",
        "    else:\n",
        "      informative_layers.append(i)\n",
        "  informative_layers_range = np.array([[informative_layers[0], informative_layers[-1]]])\n",
        "  return informative_layers_range"
      ],
      "execution_count": null,
      "outputs": []
    },
    {
      "cell_type": "code",
      "metadata": {
        "id": "yyEsyTyP3E35"
      },
      "source": [
        "def check_informative_height_range(image_example):\n",
        "  informative_height_range = []\n",
        "  for i in range(240):\n",
        "    number_of_unique_numbers = len(np.unique(image_example[i, :, :, :]))\n",
        "    if number_of_unique_numbers == 1:\n",
        "      pass\n",
        "    else:\n",
        "      informative_height_range.append(i)\n",
        "  informative_height_range = np.array([[informative_height_range[0], informative_height_range[-1]]])\n",
        "  return informative_height_range\n",
        "\n",
        "def check_informative_width_range(image_example):\n",
        "  informative_width_range = []\n",
        "  for i in range(240):\n",
        "    number_of_unique_numbers = len(np.unique(image_example[:, i, :, :]))\n",
        "    if number_of_unique_numbers == 1:\n",
        "      pass\n",
        "    else:\n",
        "      informative_width_range.append(i)\n",
        "  informative_width_range = np.array([[informative_width_range[0], informative_width_range[-1]]])\n",
        "  return informative_width_range"
      ],
      "execution_count": null,
      "outputs": []
    },
    {
      "cell_type": "code",
      "metadata": {
        "id": "x7r5xQQvpOIU",
        "colab": {
          "base_uri": "https://localhost:8080/",
          "height": 380
        },
        "outputId": "17aa3759-ef72-4d39-afe5-fa14f3cf393e"
      },
      "source": [
        "informative_layers_all_examples = np.empty((484, 2))\n",
        "informative_height_all_examples = np.empty((484, 2))\n",
        "informative_width_all_examples = np.empty((484, 2))\n",
        "\n",
        "for i in range(484):\n",
        "  \n",
        "  image_example, label_example = load_one_sample(image_paths[i], label_paths[i])\n",
        "\n",
        "  informative_layers_all_examples[i] = check_informative_layers_range_by_labels(label_example)\n",
        "  informative_height_all_examples[i] = check_informative_height_range(image_example) \n",
        "  informative_width_all_examples[i] = check_informative_width_range(image_example)\n"
      ],
      "execution_count": null,
      "outputs": [
        {
          "output_type": "error",
          "ename": "KeyboardInterrupt",
          "evalue": "ignored",
          "traceback": [
            "\u001b[0;31m---------------------------------------------------------------------------\u001b[0m",
            "\u001b[0;31mKeyboardInterrupt\u001b[0m                         Traceback (most recent call last)",
            "\u001b[0;32m<ipython-input-19-9ec15dcd8d07>\u001b[0m in \u001b[0;36m<module>\u001b[0;34m\u001b[0m\n\u001b[1;32m      5\u001b[0m \u001b[0;32mfor\u001b[0m \u001b[0mi\u001b[0m \u001b[0;32min\u001b[0m \u001b[0mrange\u001b[0m\u001b[0;34m(\u001b[0m\u001b[0;36m484\u001b[0m\u001b[0;34m)\u001b[0m\u001b[0;34m:\u001b[0m\u001b[0;34m\u001b[0m\u001b[0;34m\u001b[0m\u001b[0m\n\u001b[1;32m      6\u001b[0m \u001b[0;34m\u001b[0m\u001b[0m\n\u001b[0;32m----> 7\u001b[0;31m   \u001b[0mimage_example\u001b[0m\u001b[0;34m,\u001b[0m \u001b[0mlabel_example\u001b[0m \u001b[0;34m=\u001b[0m \u001b[0mload_one_sample\u001b[0m\u001b[0;34m(\u001b[0m\u001b[0mimage_paths\u001b[0m\u001b[0;34m[\u001b[0m\u001b[0mi\u001b[0m\u001b[0;34m]\u001b[0m\u001b[0;34m,\u001b[0m \u001b[0mlabel_paths\u001b[0m\u001b[0;34m[\u001b[0m\u001b[0mi\u001b[0m\u001b[0;34m]\u001b[0m\u001b[0;34m)\u001b[0m\u001b[0;34m\u001b[0m\u001b[0;34m\u001b[0m\u001b[0m\n\u001b[0m\u001b[1;32m      8\u001b[0m \u001b[0;34m\u001b[0m\u001b[0m\n\u001b[1;32m      9\u001b[0m   \u001b[0minformative_layers_all_examples\u001b[0m\u001b[0;34m[\u001b[0m\u001b[0mi\u001b[0m\u001b[0;34m]\u001b[0m \u001b[0;34m=\u001b[0m \u001b[0mcheck_informative_layers_range_by_labels\u001b[0m\u001b[0;34m(\u001b[0m\u001b[0mlabel_example\u001b[0m\u001b[0;34m)\u001b[0m\u001b[0;34m\u001b[0m\u001b[0;34m\u001b[0m\u001b[0m\n",
            "\u001b[0;32m<ipython-input-4-27828ab9dba9>\u001b[0m in \u001b[0;36mload_one_sample\u001b[0;34m(image_path, label_path)\u001b[0m\n\u001b[1;32m      1\u001b[0m \u001b[0;32mdef\u001b[0m \u001b[0mload_one_sample\u001b[0m\u001b[0;34m(\u001b[0m\u001b[0mimage_path\u001b[0m\u001b[0;34m,\u001b[0m \u001b[0mlabel_path\u001b[0m\u001b[0;34m)\u001b[0m\u001b[0;34m:\u001b[0m\u001b[0;34m\u001b[0m\u001b[0;34m\u001b[0m\u001b[0m\n\u001b[1;32m      2\u001b[0m \u001b[0;34m\u001b[0m\u001b[0m\n\u001b[0;32m----> 3\u001b[0;31m   \u001b[0mimage\u001b[0m \u001b[0;34m=\u001b[0m \u001b[0mnib\u001b[0m\u001b[0;34m.\u001b[0m\u001b[0mload\u001b[0m\u001b[0;34m(\u001b[0m\u001b[0mimage_path\u001b[0m\u001b[0;34m)\u001b[0m\u001b[0;34m.\u001b[0m\u001b[0mget_fdata\u001b[0m\u001b[0;34m(\u001b[0m\u001b[0;34m)\u001b[0m\u001b[0;34m.\u001b[0m\u001b[0mastype\u001b[0m\u001b[0;34m(\u001b[0m\u001b[0;34m'float32'\u001b[0m\u001b[0;34m)\u001b[0m\u001b[0;34m\u001b[0m\u001b[0;34m\u001b[0m\u001b[0m\n\u001b[0m\u001b[1;32m      4\u001b[0m   \u001b[0mlabel\u001b[0m \u001b[0;34m=\u001b[0m \u001b[0mnib\u001b[0m\u001b[0;34m.\u001b[0m\u001b[0mload\u001b[0m\u001b[0;34m(\u001b[0m\u001b[0mlabel_path\u001b[0m\u001b[0;34m)\u001b[0m\u001b[0;34m.\u001b[0m\u001b[0mget_fdata\u001b[0m\u001b[0;34m(\u001b[0m\u001b[0;34m)\u001b[0m\u001b[0;34m.\u001b[0m\u001b[0mastype\u001b[0m\u001b[0;34m(\u001b[0m\u001b[0mnp\u001b[0m\u001b[0;34m.\u001b[0m\u001b[0mint64\u001b[0m\u001b[0;34m)\u001b[0m  \u001b[0;31m# the original dtype is float64\u001b[0m\u001b[0;34m\u001b[0m\u001b[0;34m\u001b[0m\u001b[0m\n\u001b[1;32m      5\u001b[0m \u001b[0;34m\u001b[0m\u001b[0m\n",
            "\u001b[0;32m/usr/local/lib/python3.7/dist-packages/nibabel/dataobj_images.py\u001b[0m in \u001b[0;36mget_fdata\u001b[0;34m(self, caching, dtype)\u001b[0m\n\u001b[1;32m    354\u001b[0m         \u001b[0;31m# For array proxies, will attempt to confine data array to dtype\u001b[0m\u001b[0;34m\u001b[0m\u001b[0;34m\u001b[0m\u001b[0;34m\u001b[0m\u001b[0m\n\u001b[1;32m    355\u001b[0m         \u001b[0;31m# during scaling\u001b[0m\u001b[0;34m\u001b[0m\u001b[0;34m\u001b[0m\u001b[0;34m\u001b[0m\u001b[0m\n\u001b[0;32m--> 356\u001b[0;31m         \u001b[0mdata\u001b[0m \u001b[0;34m=\u001b[0m \u001b[0mnp\u001b[0m\u001b[0;34m.\u001b[0m\u001b[0masanyarray\u001b[0m\u001b[0;34m(\u001b[0m\u001b[0mself\u001b[0m\u001b[0;34m.\u001b[0m\u001b[0m_dataobj\u001b[0m\u001b[0;34m,\u001b[0m \u001b[0mdtype\u001b[0m\u001b[0;34m=\u001b[0m\u001b[0mdtype\u001b[0m\u001b[0;34m)\u001b[0m\u001b[0;34m\u001b[0m\u001b[0;34m\u001b[0m\u001b[0m\n\u001b[0m\u001b[1;32m    357\u001b[0m         \u001b[0;32mif\u001b[0m \u001b[0mcaching\u001b[0m \u001b[0;34m==\u001b[0m \u001b[0;34m'fill'\u001b[0m\u001b[0;34m:\u001b[0m\u001b[0;34m\u001b[0m\u001b[0;34m\u001b[0m\u001b[0m\n\u001b[1;32m    358\u001b[0m             \u001b[0mself\u001b[0m\u001b[0;34m.\u001b[0m\u001b[0m_fdata_cache\u001b[0m \u001b[0;34m=\u001b[0m \u001b[0mdata\u001b[0m\u001b[0;34m\u001b[0m\u001b[0;34m\u001b[0m\u001b[0m\n",
            "\u001b[0;32m/usr/local/lib/python3.7/dist-packages/nibabel/arrayproxy.py\u001b[0m in \u001b[0;36m__array__\u001b[0;34m(self, dtype)\u001b[0m\n\u001b[1;32m    391\u001b[0m             \u001b[0mScaled\u001b[0m \u001b[0mimage\u001b[0m \u001b[0mdata\u001b[0m \u001b[0;32mwith\u001b[0m \u001b[0mtype\u001b[0m\u001b[0;31m \u001b[0m\u001b[0;31m`\u001b[0m\u001b[0mdtype\u001b[0m\u001b[0;31m`\u001b[0m\u001b[0;34m.\u001b[0m\u001b[0;34m\u001b[0m\u001b[0;34m\u001b[0m\u001b[0m\n\u001b[1;32m    392\u001b[0m         \"\"\"\n\u001b[0;32m--> 393\u001b[0;31m         \u001b[0marr\u001b[0m \u001b[0;34m=\u001b[0m \u001b[0mself\u001b[0m\u001b[0;34m.\u001b[0m\u001b[0m_get_scaled\u001b[0m\u001b[0;34m(\u001b[0m\u001b[0mdtype\u001b[0m\u001b[0;34m=\u001b[0m\u001b[0mdtype\u001b[0m\u001b[0;34m,\u001b[0m \u001b[0mslicer\u001b[0m\u001b[0;34m=\u001b[0m\u001b[0;34m(\u001b[0m\u001b[0;34m)\u001b[0m\u001b[0;34m)\u001b[0m\u001b[0;34m\u001b[0m\u001b[0;34m\u001b[0m\u001b[0m\n\u001b[0m\u001b[1;32m    394\u001b[0m         \u001b[0;32mif\u001b[0m \u001b[0mdtype\u001b[0m \u001b[0;32mis\u001b[0m \u001b[0;32mnot\u001b[0m \u001b[0;32mNone\u001b[0m\u001b[0;34m:\u001b[0m\u001b[0;34m\u001b[0m\u001b[0;34m\u001b[0m\u001b[0m\n\u001b[1;32m    395\u001b[0m             \u001b[0marr\u001b[0m \u001b[0;34m=\u001b[0m \u001b[0marr\u001b[0m\u001b[0;34m.\u001b[0m\u001b[0mastype\u001b[0m\u001b[0;34m(\u001b[0m\u001b[0mdtype\u001b[0m\u001b[0;34m,\u001b[0m \u001b[0mcopy\u001b[0m\u001b[0;34m=\u001b[0m\u001b[0;32mFalse\u001b[0m\u001b[0;34m)\u001b[0m\u001b[0;34m\u001b[0m\u001b[0;34m\u001b[0m\u001b[0m\n",
            "\u001b[0;32m/usr/local/lib/python3.7/dist-packages/nibabel/arrayproxy.py\u001b[0m in \u001b[0;36m_get_scaled\u001b[0;34m(self, dtype, slicer)\u001b[0m\n\u001b[1;32m    358\u001b[0m             \u001b[0mscl_inter\u001b[0m \u001b[0;34m=\u001b[0m \u001b[0mscl_inter\u001b[0m\u001b[0;34m.\u001b[0m\u001b[0mastype\u001b[0m\u001b[0;34m(\u001b[0m\u001b[0muse_dtype\u001b[0m\u001b[0;34m)\u001b[0m\u001b[0;34m\u001b[0m\u001b[0;34m\u001b[0m\u001b[0m\n\u001b[1;32m    359\u001b[0m         \u001b[0;31m# Read array and upcast as necessary for big slopes, intercepts\u001b[0m\u001b[0;34m\u001b[0m\u001b[0;34m\u001b[0m\u001b[0;34m\u001b[0m\u001b[0m\n\u001b[0;32m--> 360\u001b[0;31m         \u001b[0mscaled\u001b[0m \u001b[0;34m=\u001b[0m \u001b[0mapply_read_scaling\u001b[0m\u001b[0;34m(\u001b[0m\u001b[0mself\u001b[0m\u001b[0;34m.\u001b[0m\u001b[0m_get_unscaled\u001b[0m\u001b[0;34m(\u001b[0m\u001b[0mslicer\u001b[0m\u001b[0;34m=\u001b[0m\u001b[0mslicer\u001b[0m\u001b[0;34m)\u001b[0m\u001b[0;34m,\u001b[0m \u001b[0mscl_slope\u001b[0m\u001b[0;34m,\u001b[0m \u001b[0mscl_inter\u001b[0m\u001b[0;34m)\u001b[0m\u001b[0;34m\u001b[0m\u001b[0;34m\u001b[0m\u001b[0m\n\u001b[0m\u001b[1;32m    361\u001b[0m         \u001b[0;32mif\u001b[0m \u001b[0mdtype\u001b[0m \u001b[0;32mis\u001b[0m \u001b[0;32mnot\u001b[0m \u001b[0;32mNone\u001b[0m\u001b[0;34m:\u001b[0m\u001b[0;34m\u001b[0m\u001b[0;34m\u001b[0m\u001b[0m\n\u001b[1;32m    362\u001b[0m             \u001b[0mscaled\u001b[0m \u001b[0;34m=\u001b[0m \u001b[0mscaled\u001b[0m\u001b[0;34m.\u001b[0m\u001b[0mastype\u001b[0m\u001b[0;34m(\u001b[0m\u001b[0mnp\u001b[0m\u001b[0;34m.\u001b[0m\u001b[0mpromote_types\u001b[0m\u001b[0;34m(\u001b[0m\u001b[0mscaled\u001b[0m\u001b[0;34m.\u001b[0m\u001b[0mdtype\u001b[0m\u001b[0;34m,\u001b[0m \u001b[0mdtype\u001b[0m\u001b[0;34m)\u001b[0m\u001b[0;34m,\u001b[0m \u001b[0mcopy\u001b[0m\u001b[0;34m=\u001b[0m\u001b[0;32mFalse\u001b[0m\u001b[0;34m)\u001b[0m\u001b[0;34m\u001b[0m\u001b[0;34m\u001b[0m\u001b[0m\n",
            "\u001b[0;32m/usr/local/lib/python3.7/dist-packages/nibabel/arrayproxy.py\u001b[0m in \u001b[0;36m_get_unscaled\u001b[0;34m(self, slicer)\u001b[0m\n\u001b[1;32m    337\u001b[0m                                        \u001b[0moffset\u001b[0m\u001b[0;34m=\u001b[0m\u001b[0mself\u001b[0m\u001b[0;34m.\u001b[0m\u001b[0m_offset\u001b[0m\u001b[0;34m,\u001b[0m\u001b[0;34m\u001b[0m\u001b[0;34m\u001b[0m\u001b[0m\n\u001b[1;32m    338\u001b[0m                                        \u001b[0morder\u001b[0m\u001b[0;34m=\u001b[0m\u001b[0mself\u001b[0m\u001b[0;34m.\u001b[0m\u001b[0morder\u001b[0m\u001b[0;34m,\u001b[0m\u001b[0;34m\u001b[0m\u001b[0;34m\u001b[0m\u001b[0m\n\u001b[0;32m--> 339\u001b[0;31m                                        mmap=self._mmap)\n\u001b[0m\u001b[1;32m    340\u001b[0m         \u001b[0;32mwith\u001b[0m \u001b[0mself\u001b[0m\u001b[0;34m.\u001b[0m\u001b[0m_get_fileobj\u001b[0m\u001b[0;34m(\u001b[0m\u001b[0;34m)\u001b[0m \u001b[0;32mas\u001b[0m \u001b[0mfileobj\u001b[0m\u001b[0;34m:\u001b[0m\u001b[0;34m\u001b[0m\u001b[0;34m\u001b[0m\u001b[0m\n\u001b[1;32m    341\u001b[0m             return fileslice(fileobj,\n",
            "\u001b[0;32m/usr/local/lib/python3.7/dist-packages/nibabel/volumeutils.py\u001b[0m in \u001b[0;36marray_from_file\u001b[0;34m(shape, in_dtype, infile, offset, order, mmap)\u001b[0m\n\u001b[1;32m    521\u001b[0m     \u001b[0;32mif\u001b[0m \u001b[0mhasattr\u001b[0m\u001b[0;34m(\u001b[0m\u001b[0minfile\u001b[0m\u001b[0;34m,\u001b[0m \u001b[0;34m'readinto'\u001b[0m\u001b[0;34m)\u001b[0m\u001b[0;34m:\u001b[0m\u001b[0;34m\u001b[0m\u001b[0;34m\u001b[0m\u001b[0m\n\u001b[1;32m    522\u001b[0m         \u001b[0mdata_bytes\u001b[0m \u001b[0;34m=\u001b[0m \u001b[0mbytearray\u001b[0m\u001b[0;34m(\u001b[0m\u001b[0mn_bytes\u001b[0m\u001b[0;34m)\u001b[0m\u001b[0;34m\u001b[0m\u001b[0;34m\u001b[0m\u001b[0m\n\u001b[0;32m--> 523\u001b[0;31m         \u001b[0mn_read\u001b[0m \u001b[0;34m=\u001b[0m \u001b[0minfile\u001b[0m\u001b[0;34m.\u001b[0m\u001b[0mreadinto\u001b[0m\u001b[0;34m(\u001b[0m\u001b[0mdata_bytes\u001b[0m\u001b[0;34m)\u001b[0m\u001b[0;34m\u001b[0m\u001b[0;34m\u001b[0m\u001b[0m\n\u001b[0m\u001b[1;32m    524\u001b[0m         \u001b[0mneeds_copy\u001b[0m \u001b[0;34m=\u001b[0m \u001b[0;32mFalse\u001b[0m\u001b[0;34m\u001b[0m\u001b[0;34m\u001b[0m\u001b[0m\n\u001b[1;32m    525\u001b[0m     \u001b[0;32melse\u001b[0m\u001b[0;34m:\u001b[0m\u001b[0;34m\u001b[0m\u001b[0;34m\u001b[0m\u001b[0m\n",
            "\u001b[0;32m/usr/lib/python3.7/gzip.py\u001b[0m in \u001b[0;36mread\u001b[0;34m(self, size)\u001b[0m\n\u001b[1;32m    285\u001b[0m             \u001b[0;32mimport\u001b[0m \u001b[0merrno\u001b[0m\u001b[0;34m\u001b[0m\u001b[0;34m\u001b[0m\u001b[0m\n\u001b[1;32m    286\u001b[0m             \u001b[0;32mraise\u001b[0m \u001b[0mOSError\u001b[0m\u001b[0;34m(\u001b[0m\u001b[0merrno\u001b[0m\u001b[0;34m.\u001b[0m\u001b[0mEBADF\u001b[0m\u001b[0;34m,\u001b[0m \u001b[0;34m\"read() on write-only GzipFile object\"\u001b[0m\u001b[0;34m)\u001b[0m\u001b[0;34m\u001b[0m\u001b[0;34m\u001b[0m\u001b[0m\n\u001b[0;32m--> 287\u001b[0;31m         \u001b[0;32mreturn\u001b[0m \u001b[0mself\u001b[0m\u001b[0;34m.\u001b[0m\u001b[0m_buffer\u001b[0m\u001b[0;34m.\u001b[0m\u001b[0mread\u001b[0m\u001b[0;34m(\u001b[0m\u001b[0msize\u001b[0m\u001b[0;34m)\u001b[0m\u001b[0;34m\u001b[0m\u001b[0;34m\u001b[0m\u001b[0m\n\u001b[0m\u001b[1;32m    288\u001b[0m \u001b[0;34m\u001b[0m\u001b[0m\n\u001b[1;32m    289\u001b[0m     \u001b[0;32mdef\u001b[0m \u001b[0mread1\u001b[0m\u001b[0;34m(\u001b[0m\u001b[0mself\u001b[0m\u001b[0;34m,\u001b[0m \u001b[0msize\u001b[0m\u001b[0;34m=\u001b[0m\u001b[0;34m-\u001b[0m\u001b[0;36m1\u001b[0m\u001b[0;34m)\u001b[0m\u001b[0;34m:\u001b[0m\u001b[0;34m\u001b[0m\u001b[0;34m\u001b[0m\u001b[0m\n",
            "\u001b[0;32m/usr/lib/python3.7/_compression.py\u001b[0m in \u001b[0;36mreadinto\u001b[0;34m(self, b)\u001b[0m\n\u001b[1;32m     66\u001b[0m     \u001b[0;32mdef\u001b[0m \u001b[0mreadinto\u001b[0m\u001b[0;34m(\u001b[0m\u001b[0mself\u001b[0m\u001b[0;34m,\u001b[0m \u001b[0mb\u001b[0m\u001b[0;34m)\u001b[0m\u001b[0;34m:\u001b[0m\u001b[0;34m\u001b[0m\u001b[0;34m\u001b[0m\u001b[0m\n\u001b[1;32m     67\u001b[0m         \u001b[0;32mwith\u001b[0m \u001b[0mmemoryview\u001b[0m\u001b[0;34m(\u001b[0m\u001b[0mb\u001b[0m\u001b[0;34m)\u001b[0m \u001b[0;32mas\u001b[0m \u001b[0mview\u001b[0m\u001b[0;34m,\u001b[0m \u001b[0mview\u001b[0m\u001b[0;34m.\u001b[0m\u001b[0mcast\u001b[0m\u001b[0;34m(\u001b[0m\u001b[0;34m\"B\"\u001b[0m\u001b[0;34m)\u001b[0m \u001b[0;32mas\u001b[0m \u001b[0mbyte_view\u001b[0m\u001b[0;34m:\u001b[0m\u001b[0;34m\u001b[0m\u001b[0;34m\u001b[0m\u001b[0m\n\u001b[0;32m---> 68\u001b[0;31m             \u001b[0mdata\u001b[0m \u001b[0;34m=\u001b[0m \u001b[0mself\u001b[0m\u001b[0;34m.\u001b[0m\u001b[0mread\u001b[0m\u001b[0;34m(\u001b[0m\u001b[0mlen\u001b[0m\u001b[0;34m(\u001b[0m\u001b[0mbyte_view\u001b[0m\u001b[0;34m)\u001b[0m\u001b[0;34m)\u001b[0m\u001b[0;34m\u001b[0m\u001b[0;34m\u001b[0m\u001b[0m\n\u001b[0m\u001b[1;32m     69\u001b[0m             \u001b[0mbyte_view\u001b[0m\u001b[0;34m[\u001b[0m\u001b[0;34m:\u001b[0m\u001b[0mlen\u001b[0m\u001b[0;34m(\u001b[0m\u001b[0mdata\u001b[0m\u001b[0;34m)\u001b[0m\u001b[0;34m]\u001b[0m \u001b[0;34m=\u001b[0m \u001b[0mdata\u001b[0m\u001b[0;34m\u001b[0m\u001b[0;34m\u001b[0m\u001b[0m\n\u001b[1;32m     70\u001b[0m         \u001b[0;32mreturn\u001b[0m \u001b[0mlen\u001b[0m\u001b[0;34m(\u001b[0m\u001b[0mdata\u001b[0m\u001b[0;34m)\u001b[0m\u001b[0;34m\u001b[0m\u001b[0;34m\u001b[0m\u001b[0m\n",
            "\u001b[0;32m/usr/lib/python3.7/gzip.py\u001b[0m in \u001b[0;36mread\u001b[0;34m(self, size)\u001b[0m\n\u001b[1;32m    480\u001b[0m             \u001b[0mbuf\u001b[0m \u001b[0;34m=\u001b[0m \u001b[0mself\u001b[0m\u001b[0;34m.\u001b[0m\u001b[0m_fp\u001b[0m\u001b[0;34m.\u001b[0m\u001b[0mread\u001b[0m\u001b[0;34m(\u001b[0m\u001b[0mio\u001b[0m\u001b[0;34m.\u001b[0m\u001b[0mDEFAULT_BUFFER_SIZE\u001b[0m\u001b[0;34m)\u001b[0m\u001b[0;34m\u001b[0m\u001b[0;34m\u001b[0m\u001b[0m\n\u001b[1;32m    481\u001b[0m \u001b[0;34m\u001b[0m\u001b[0m\n\u001b[0;32m--> 482\u001b[0;31m             \u001b[0muncompress\u001b[0m \u001b[0;34m=\u001b[0m \u001b[0mself\u001b[0m\u001b[0;34m.\u001b[0m\u001b[0m_decompressor\u001b[0m\u001b[0;34m.\u001b[0m\u001b[0mdecompress\u001b[0m\u001b[0;34m(\u001b[0m\u001b[0mbuf\u001b[0m\u001b[0;34m,\u001b[0m \u001b[0msize\u001b[0m\u001b[0;34m)\u001b[0m\u001b[0;34m\u001b[0m\u001b[0;34m\u001b[0m\u001b[0m\n\u001b[0m\u001b[1;32m    483\u001b[0m             \u001b[0;32mif\u001b[0m \u001b[0mself\u001b[0m\u001b[0;34m.\u001b[0m\u001b[0m_decompressor\u001b[0m\u001b[0;34m.\u001b[0m\u001b[0munconsumed_tail\u001b[0m \u001b[0;34m!=\u001b[0m \u001b[0;34mb\"\"\u001b[0m\u001b[0;34m:\u001b[0m\u001b[0;34m\u001b[0m\u001b[0;34m\u001b[0m\u001b[0m\n\u001b[1;32m    484\u001b[0m                 \u001b[0mself\u001b[0m\u001b[0;34m.\u001b[0m\u001b[0m_fp\u001b[0m\u001b[0;34m.\u001b[0m\u001b[0mprepend\u001b[0m\u001b[0;34m(\u001b[0m\u001b[0mself\u001b[0m\u001b[0;34m.\u001b[0m\u001b[0m_decompressor\u001b[0m\u001b[0;34m.\u001b[0m\u001b[0munconsumed_tail\u001b[0m\u001b[0;34m)\u001b[0m\u001b[0;34m\u001b[0m\u001b[0;34m\u001b[0m\u001b[0m\n",
            "\u001b[0;31mKeyboardInterrupt\u001b[0m: "
          ]
        }
      ]
    },
    {
      "cell_type": "code",
      "metadata": {
        "id": "7VOwP7UQ6bIJ"
      },
      "source": [
        "acceptable_layer_range = [informative_layers_all_examples.min(axis = 0)[0], informative_layers_all_examples.max(axis = 0)[1]]\n",
        "print('acceptable_layer_range', acceptable_layer_range)\n",
        "acceptable_height_range = [informative_height_all_examples.min(axis = 0)[0], informative_height_all_examples.max(axis = 0)[1]]\n",
        "print('acceptable_height_range', acceptable_height_range)\n",
        "acceptable_width_range = [informative_width_all_examples.min(axis = 0)[0], informative_width_all_examples.max(axis = 0)[1]]\n",
        "print('acceptable_width_range', acceptable_width_range)"
      ],
      "execution_count": null,
      "outputs": []
    },
    {
      "cell_type": "code",
      "metadata": {
        "id": "g0Zz4EhW4ZPb"
      },
      "source": [
        "start_layer = informative_layers_all_examples.min(axis = 0)[0]\n",
        "end_layer = informative_layers_all_examples.max(axis = 0)[1]\n",
        "\n",
        "start_height = informative_height_all_examples.min(axis = 0)[0]\n",
        "end_height = informative_height_all_examples.max(axis = 0)[1]\n",
        "\n",
        "start_width = informative_width_all_examples.min(axis = 0)[0]\n",
        "end_width = informative_width_all_examples.max(axis = 0)[1]"
      ],
      "execution_count": null,
      "outputs": []
    },
    {
      "cell_type": "code",
      "metadata": {
        "id": "0TDjFQZo5A6k"
      },
      "source": [
        "start_layer = 7\n",
        "end_layer = 145\n",
        "start_height = 38\n",
        "end_height = 199\n",
        "start_width = 19\n",
        "end_width = 210"
      ],
      "execution_count": null,
      "outputs": []
    },
    {
      "cell_type": "code",
      "metadata": {
        "id": "v6qW3QN84C5N"
      },
      "source": [
        "plt.figure(figsize = (15, 25))\n",
        "for i in range(150):\n",
        "  plt.subplot(15, 10, i+1)\n",
        "  plt.imshow(image_example[53:189, 21:197, i, 0])\n",
        "  plt.title(f'layer {i}')\n",
        "  plt.axis('off')"
      ],
      "execution_count": null,
      "outputs": []
    },
    {
      "cell_type": "code",
      "metadata": {
        "id": "Vh82OaymE_sj"
      },
      "source": [
        "image_example, label_example = load_one_sample(image_paths[0], label_paths[0])\n",
        "informative_layers = check_informative_layers_range_by_labels(label_example)\n",
        "print('informative_layers', informative_layers)\n",
        "informative_height_range = check_informative_height_range(image_example)\n",
        "print('informative_height_range', informative_height_range)\n",
        "informative_width_range = check_informative_width_range(image_example)\n",
        "print('informative_width_range', informative_width_range)"
      ],
      "execution_count": null,
      "outputs": []
    },
    {
      "cell_type": "markdown",
      "metadata": {
        "id": "zdqIH1k74IzM"
      },
      "source": [
        "### Next"
      ]
    },
    {
      "cell_type": "code",
      "metadata": {
        "id": "M5lQvRwA_TSk"
      },
      "source": [
        "def preprocess(image_path, label_path):\n",
        "\n",
        "  image, label = load_one_sample(image_path, label_path)\n",
        "\n",
        "  image = image[start_height:end_height+1, start_width:end_width+1, start_layer:end_layer+1, :]\n",
        "  image = tf.experimental.numpy.moveaxis(image, 2, 0)\n",
        "  label = label[start_height:end_height+1, start_width:end_width+1, start_layer:end_layer+1]\n",
        "  label = tf.experimental.numpy.moveaxis(label, 2, 0)\n",
        "\n",
        "  return image, label"
      ],
      "execution_count": null,
      "outputs": []
    },
    {
      "cell_type": "code",
      "metadata": {
        "id": "L_ai4N-k_UKu"
      },
      "source": [
        "num_layers = end_layer - start_layer + 1\n",
        "height = end_height - start_height + 1\n",
        "width = end_width - start_width + 1\n",
        "train_images = np.empty((484 * num_layers, height, width, 4))\n",
        "\n",
        "for i in tqdm(range(484)):\n",
        "\n",
        "  image, _ = preprocess(image_paths[i], label_paths[i])\n",
        "  train_images[num_layers * i : num_layers * (i+1)] = image"
      ],
      "execution_count": null,
      "outputs": []
    },
    {
      "cell_type": "markdown",
      "metadata": {
        "id": "_DJ0YToq_Wuw"
      },
      "source": [
        "### Next next"
      ]
    },
    {
      "cell_type": "code",
      "metadata": {
        "id": "1WDWj0vBMwBN"
      },
      "source": [
        "image_filenames = tf.constant(image_paths)\n",
        "label_filenames = tf.constant(label_paths)\n",
        "\n",
        "dataset = tf.data.Dataset.from_tensor_slices((image_filenames, label_filenames))\n",
        "\n",
        "for image, label in dataset.take(1):\n",
        "    print(image)\n",
        "    print(label)"
      ],
      "execution_count": null,
      "outputs": []
    },
    {
      "cell_type": "code",
      "metadata": {
        "id": "Nu0OOW18nyHk"
      },
      "source": [
        "def wrapper_load(img_path, label_path):\n",
        "  img, label = tf.py_function(func = load_one_sample, inp = [img_path, label_path], Tout = [tf.float32, tf.uint8])\n",
        "  return img, label\n",
        "\n",
        "dataset = tf.data.Dataset.from_tensor_slices((image_paths, label_paths)).map(wrapper_load)"
      ],
      "execution_count": null,
      "outputs": []
    },
    {
      "cell_type": "code",
      "metadata": {
        "id": "flbpsrzghPVk"
      },
      "source": [
        "image_example.shape"
      ],
      "execution_count": null,
      "outputs": []
    },
    {
      "cell_type": "markdown",
      "metadata": {
        "id": "klXBkNuPMXZY"
      },
      "source": [
        "### The model"
      ]
    },
    {
      "cell_type": "code",
      "metadata": {
        "id": "BfYHTQj1pgWn"
      },
      "source": [
        "ten_labels = tf.keras.utils.to_categorical(ten_labels)"
      ],
      "execution_count": null,
      "outputs": []
    },
    {
      "cell_type": "code",
      "metadata": {
        "id": "2Omc1BMUte38"
      },
      "source": [
        "from random import Random\n",
        "# Random(1357).shuffle(ten_images)\n",
        "# Random(1357).shuffle(ten_labels)\n",
        "\n",
        "train_images = ten_images[:155 * 3]\n",
        "train_labels = ten_labels[:155 * 3]\n",
        "val_images = ten_images[-155 * 1:]\n",
        "val_labels = ten_labels[-155 * 1:]"
      ],
      "execution_count": null,
      "outputs": []
    },
    {
      "cell_type": "code",
      "metadata": {
        "id": "pP1kYcqWv0kK"
      },
      "source": [
        "train_images.shape, val_labels.shape"
      ],
      "execution_count": null,
      "outputs": []
    },
    {
      "cell_type": "code",
      "metadata": {
        "id": "JNoh0x7Rv42k"
      },
      "source": [
        "from tensorflow.keras.layers import Conv2D, Conv2DTranspose, Input, Rescaling, MaxPooling2D, Dropout\n",
        "\n",
        "num_classes = 4\n",
        "\n",
        "unet_beginner_version = tf.keras.Sequential([\n",
        "\n",
        "Input(shape = (240, 240, 4)),\n",
        "Rescaling(scale = 1./255),\n",
        "Conv2D(filters = 64, kernel_size = 3, strides = 1, activation = 'relu', padding = 'same'),\n",
        "Conv2D(filters = 64, kernel_size = 3, activation = 'relu', padding = 'same'),\n",
        "Dropout(0.5),\n",
        "Conv2D(filters = 128, kernel_size = 3, strides = 1, activation = 'relu', padding = 'same'),\n",
        "Conv2D(filters = 128, kernel_size = 3, activation = 'relu', padding = 'same'),\n",
        "Dropout(0.5),\n",
        "Conv2D(filters = 256, kernel_size = 3, strides = 1, activation = 'relu', padding = 'same'),\n",
        "Conv2D(filters = 256, kernel_size = 3, activation = 'relu', padding = 'same'),\n",
        "\n",
        "\n",
        "Conv2DTranspose(filters = 256, kernel_size = 3, activation = 'relu', padding = 'same'),\n",
        "Conv2DTranspose(filters = 256, kernel_size = 3, strides = 1, activation = 'relu', padding = 'same'),\n",
        "Conv2DTranspose(filters = 128, kernel_size = 3, activation = 'relu', padding = 'same'),\n",
        "Conv2DTranspose(filters = 128, kernel_size = 3, strides = 1, activation = 'relu', padding = 'same'),\n",
        "Conv2DTranspose(filters = 64, kernel_size = 3, activation = 'relu', padding = 'same'),\n",
        "Conv2DTranspose(filters = 64, kernel_size = 3, strides = 1, activation = 'relu', padding = 'same'),\n",
        "\n",
        "Conv2D(filters = num_classes, kernel_size = 3, activation = 'softmax', padding = 'same')\n",
        "\n",
        "])"
      ],
      "execution_count": null,
      "outputs": []
    },
    {
      "cell_type": "code",
      "metadata": {
        "id": "DetdmjorudG9"
      },
      "source": [
        "train_generator = tf.keras.preprocessing.image.ImageDataGenerator(rotation_range = 45)\n",
        "val_generator = tf.keras.preprocessing.image.ImageDataGenerator(rotation_range = 45)\n",
        "\n",
        "aug_train_set = train_generator.flow(train_images, train_labels, batch_size = 32)\n",
        "aug_val_set = val_generator.flow(val_images, val_labels, batch_size = 32)\n",
        "\n",
        "steps_per_epoch = train_images.shape[0] // 32\n",
        "validation_steps = val_images.shape[0] // 32"
      ],
      "execution_count": null,
      "outputs": []
    },
    {
      "cell_type": "code",
      "metadata": {
        "id": "hW3iy623wLFI"
      },
      "source": [
        "unet_beginner_version.compile(optimizer = tf.keras.optimizers.Adam(lr = 0.001),\n",
        "                              loss = 'categorical_crossentropy')\n",
        "\n",
        "callbacks = [\n",
        "    tf.keras.callbacks.ModelCheckpoint(\"drive/MyDrive/Brain Tumour/draft.keras\",\n",
        "                                    save_best_only=True)]"
      ],
      "execution_count": null,
      "outputs": []
    },
    {
      "cell_type": "code",
      "metadata": {
        "id": "aI4BSu1ywNVH"
      },
      "source": [
        "history = unet_beginner_version.fit(aug_train_set, steps_per_epoch = steps_per_epoch,\n",
        "                                    validation_data = aug_val_set, validation_steps = validation_step,\n",
        "                                    batch_size = 32,\n",
        "                                    callbacks = [callbacks],\n",
        "                                    epochs = 2)"
      ],
      "execution_count": null,
      "outputs": []
    },
    {
      "cell_type": "code",
      "metadata": {
        "id": "kvoknun8eI69"
      },
      "source": [
        "unet_beginner_version = tf.keras.models.load_model('drive/MyDrive/Brain Tumour/draft.keras')"
      ],
      "execution_count": null,
      "outputs": []
    },
    {
      "cell_type": "code",
      "metadata": {
        "id": "SYRj2fBfDCT0"
      },
      "source": [
        "from tensorflow.keras.layers import *\n",
        "\n",
        "def unet(input_size = (240, 240, 4)):\n",
        "\n",
        "    inputs = Input(input_size)\n",
        "    inputs = Rescaling(scale = 1./255)(inputs)\n",
        "    conv1 = Conv2D(64, 3, activation = 'relu', padding = 'same', kernel_initializer = 'he_normal')(inputs)\n",
        "    conv1 = Conv2D(64, 3, activation = 'relu', padding = 'same', kernel_initializer = 'he_normal')(conv1)\n",
        "    pool1 = MaxPooling2D(pool_size=(2, 2))(conv1)\n",
        "    conv2 = Conv2D(128, 3, activation = 'relu', padding = 'same', kernel_initializer = 'he_normal')(pool1)\n",
        "    conv2 = Conv2D(128, 3, activation = 'relu', padding = 'same', kernel_initializer = 'he_normal')(conv2)\n",
        "    pool2 = MaxPooling2D(pool_size=(2, 2))(conv2)\n",
        "    conv3 = Conv2D(256, 3, activation = 'relu', padding = 'same', kernel_initializer = 'he_normal')(pool2)\n",
        "    conv3 = Conv2D(256, 3, activation = 'relu', padding = 'same', kernel_initializer = 'he_normal')(conv3)\n",
        "    pool3 = MaxPooling2D(pool_size=(2, 2))(conv3)\n",
        "    conv4 = Conv2D(512, 3, activation = 'relu', padding = 'same', kernel_initializer = 'he_normal')(pool3)\n",
        "    conv4 = Conv2D(512, 3, activation = 'relu', padding = 'same', kernel_initializer = 'he_normal')(conv4)\n",
        "    # drop4 = Dropout(0.5)(conv4)\n",
        "    # pool4 = MaxPooling2D(pool_size=(2, 2))(drop4)\n",
        "\n",
        "    # conv5 = Conv2D(1024, 3, activation = 'relu', padding = 'same', kernel_initializer = 'he_normal')(pool4)\n",
        "    # conv5 = Conv2D(1024, 3, activation = 'relu', padding = 'same', kernel_initializer = 'he_normal')(conv5)\n",
        "    # drop5 = Dropout(0.5)(conv5)\n",
        "\n",
        "    drop5 = Dropout(0.5)(conv4)\n",
        "\n",
        "    #up6 = Conv2D(512, 2, activation = 'relu', padding = 'same', kernel_initializer = 'he_normal')(UpSampling2D(size = (2,2))(drop5))\n",
        "    #merge6 = concatenate([drop4,up6], axis = 3)\n",
        "    #conv6 = Conv2D(512, 3, activation = 'relu', padding = 'same', kernel_initializer = 'he_normal')(merge6)\n",
        "    #conv6 = Conv2D(512, 3, activation = 'relu', padding = 'same', kernel_initializer = 'he_normal')(conv6)\n",
        "    up7 = Conv2D(256, 2, activation = 'relu', padding = 'same', kernel_initializer = 'he_normal')(UpSampling2D(size = (2,2))(drop5))\n",
        "    #up7 = Conv2D(256, 2, activation = 'relu', padding = 'same', kernel_initializer = 'he_normal')(UpSampling2D(size = (2,2))(conv6))\n",
        "    merge7 = concatenate([conv3,up7], axis = 3)\n",
        "    conv7 = Conv2D(256, 3, activation = 'relu', padding = 'same', kernel_initializer = 'he_normal')(merge7)\n",
        "    conv7 = Conv2D(256, 3, activation = 'relu', padding = 'same', kernel_initializer = 'he_normal')(conv7)\n",
        "\n",
        "    up8 = Conv2D(128, 2, activation = 'relu', padding = 'same', kernel_initializer = 'he_normal')(UpSampling2D(size = (2,2))(conv7))\n",
        "    merge8 = concatenate([conv2,up8], axis = 3)\n",
        "    conv8 = Conv2D(128, 3, activation = 'relu', padding = 'same', kernel_initializer = 'he_normal')(merge8)\n",
        "    conv8 = Conv2D(128, 3, activation = 'relu', padding = 'same', kernel_initializer = 'he_normal')(conv8)\n",
        "\n",
        "    up9 = Conv2D(64, 2, activation = 'relu', padding = 'same', kernel_initializer = 'he_normal')(UpSampling2D(size = (2,2))(conv8))\n",
        "    merge9 = concatenate([conv1,up9], axis = 3)\n",
        "    conv9 = Conv2D(64, 3, activation = 'relu', padding = 'same', kernel_initializer = 'he_normal')(merge9)\n",
        "    conv9 = Conv2D(64, 3, activation = 'relu', padding = 'same', kernel_initializer = 'he_normal')(conv9)\n",
        "    conv9 = Conv2D(2, 3, activation = 'relu', padding = 'same', kernel_initializer = 'he_normal')(conv9)\n",
        "    conv10 = Conv2D(filters = 4, kernel_size = 1, activation = 'softmax')(conv9)\n",
        "\n",
        "    model = tf.keras.models.Model(inputs = inputs, outputs = conv10)\n",
        "\n",
        "    model.compile(optimizer = tf.keras.optimizers.Adam(lr = 1e-4), loss = 'categorical_crossentropy', metrics = ['mse'])\n",
        "\n",
        "    return model"
      ],
      "execution_count": null,
      "outputs": []
    },
    {
      "cell_type": "code",
      "metadata": {
        "colab": {
          "base_uri": "https://localhost:8080/"
        },
        "id": "hXXSrCmxE3yy",
        "outputId": "f2cfffe6-831a-47e4-db5a-ff2041276949"
      },
      "source": [
        "callbacks = [\n",
        "    tf.keras.callbacks.ModelCheckpoint(\"drive/MyDrive/Brain Tumour/draft.keras\",\n",
        "                                    save_best_only=True)]\n",
        "model = unet(input_size = (240, 240, 4))"
      ],
      "execution_count": null,
      "outputs": [
        {
          "output_type": "stream",
          "name": "stderr",
          "text": [
            "/usr/local/lib/python3.7/dist-packages/keras/optimizer_v2/adam.py:105: UserWarning: The `lr` argument is deprecated, use `learning_rate` instead.\n",
            "  super(Adam, self).__init__(name, **kwargs)\n"
          ]
        }
      ]
    },
    {
      "cell_type": "code",
      "metadata": {
        "id": "5i9Qjy_po_4e"
      },
      "source": [
        "train_generator = tf.keras.preprocessing.image.ImageDataGenerator(rotation_range = 45)\n",
        "val_generator = tf.keras.preprocessing.image.ImageDataGenerator(rotation_range = 45)\n",
        "\n",
        "aug_train_set = train_generator.flow(train_images, train_labels, batch_size = 32)\n",
        "aug_val_set = val_generator.flow(val_images, val_labels, batch_size = 32)\n",
        "\n",
        "steps_per_epoch = train_images.shape[0] // 32\n",
        "validation_steps = val_images.shape[0] // 32"
      ],
      "execution_count": null,
      "outputs": []
    },
    {
      "cell_type": "code",
      "metadata": {
        "id": "M0Jr-B1JD04X",
        "colab": {
          "base_uri": "https://localhost:8080/"
        },
        "outputId": "fb75357f-dc6b-4ad1-a8b9-4a020c220a91"
      },
      "source": [
        "history = model.fit(aug_train_set, steps_per_epoch = steps_per_epoch,\n",
        "                              validation_data = aug_val_set, validation_steps = validation_steps,\n",
        "                             batch_size = 32,\n",
        "                              callbacks = callbacks,\n",
        "                              epochs = 2)"
      ],
      "execution_count": null,
      "outputs": [
        {
          "output_type": "stream",
          "name": "stdout",
          "text": [
            "Epoch 1/2\n",
            "14/14 [==============================] - 2030s 145s/step - loss: 2.4522 - mse: 0.1874 - val_loss: 1.3830 - val_mse: 0.1871\n",
            "Epoch 2/2\n",
            "14/14 [==============================] - 2041s 146s/step - loss: 1.3812 - mse: 0.1653 - val_loss: 1.1773 - val_mse: 0.1583\n"
          ]
        }
      ]
    },
    {
      "cell_type": "code",
      "metadata": {
        "id": "IkoA3XMmfA99",
        "colab": {
          "base_uri": "https://localhost:8080/"
        },
        "outputId": "93ab4a61-8722-45c1-9b4e-c996b022904c"
      },
      "source": [
        "one_predicted_example = unet_beginner_version.predict(val_images[:155])\n",
        "\n",
        "val_images[:155].shape, one_predicted_example.shape"
      ],
      "execution_count": null,
      "outputs": [
        {
          "output_type": "execute_result",
          "data": {
            "text/plain": [
              "((155, 240, 240, 4), (155, 240, 240, 4))"
            ]
          },
          "metadata": {},
          "execution_count": 9
        }
      ]
    },
    {
      "cell_type": "code",
      "metadata": {
        "colab": {
          "base_uri": "https://localhost:8080/"
        },
        "id": "ucmZ935mLqco",
        "outputId": "967c20f4-8cdc-4546-95af-c8e1edd08e3c"
      },
      "source": [
        "one_predicted_example_label = np.argmax(one_predicted_example, axis = -1)\n",
        "print(one_predicted_example_label.shape)\n",
        "np.unique(one_predicted_example_label)"
      ],
      "execution_count": null,
      "outputs": [
        {
          "output_type": "stream",
          "name": "stdout",
          "text": [
            "(155, 240, 240)\n"
          ]
        },
        {
          "output_type": "execute_result",
          "data": {
            "text/plain": [
              "array([0, 1, 2])"
            ]
          },
          "metadata": {},
          "execution_count": 10
        }
      ]
    },
    {
      "cell_type": "code",
      "metadata": {
        "colab": {
          "base_uri": "https://localhost:8080/",
          "height": 320
        },
        "id": "WtNZyWI_fyTA",
        "outputId": "b79d07d0-629f-418c-d136-94088d070995"
      },
      "source": [
        "plt.figure(figsize = (5, 5))\n",
        "plt.imshow(np.argmax(val_labels[:155], axis = -1)[100, :, :])\n",
        "plt.axis('off')"
      ],
      "execution_count": null,
      "outputs": [
        {
          "output_type": "execute_result",
          "data": {
            "text/plain": [
              "(-0.5, 239.5, 239.5, -0.5)"
            ]
          },
          "metadata": {},
          "execution_count": 11
        },
        {
          "output_type": "display_data",
          "data": {
            "image/png": "[encoded data removed]",
            "text/plain": [
              "<Figure size 360x360 with 1 Axes>"
            ]
          },
          "metadata": {
            "needs_background": "light"
          }
        }
      ]
    },
    {
      "cell_type": "code",
      "metadata": {
        "colab": {
          "base_uri": "https://localhost:8080/",
          "height": 320
        },
        "id": "NLTzLY_hM4Vr",
        "outputId": "3b2e8510-c7ae-41fb-a257-2490351cdcb1"
      },
      "source": [
        "plt.figure(figsize = (5, 5))\n",
        "plt.imshow(one_predicted_example_label[100, :, :])\n",
        "plt.axis('off')"
      ],
      "execution_count": null,
      "outputs": [
        {
          "output_type": "execute_result",
          "data": {
            "text/plain": [
              "(-0.5, 239.5, 239.5, -0.5)"
            ]
          },
          "metadata": {},
          "execution_count": 12
        },
        {
          "output_type": "display_data",
          "data": {
            "image/png": "[encoded data removed]",
            "text/plain": [
              "<Figure size 360x360 with 1 Axes>"
            ]
          },
          "metadata": {
            "needs_background": "light"
          }
        }
      ]
    },
    {
      "cell_type": "code",
      "metadata": {
        "id": "I3FIuOiHu_DT"
      },
      "source": [
        "a = np.argmax(one_predicted_example, axis = -1)"
      ],
      "execution_count": null,
      "outputs": []
    },
    {
      "cell_type": "code",
      "metadata": {
        "id": "l6Of6aNEr9Ot"
      },
      "source": [
        ""
      ],
      "execution_count": null,
      "outputs": []
    },
    {
      "cell_type": "code",
      "source": [
        ""
      ],
      "metadata": {
        "id": "LUJZ_jDPaDgp"
      },
      "execution_count": null,
      "outputs": []
    },
    {
      "cell_type": "markdown",
      "source": [
        "### draft"
      ],
      "metadata": {
        "id": "XNIgYwwWaEps"
      }
    },
    {
      "cell_type": "code",
      "source": [
        "import scipy.stats as stats\n",
        "stats.norm.cdf(1.5) - stats.norm.cdf(-1.5)\n",
        "stats.norm.ppf(0.9) * 2 + 12"
      ],
      "metadata": {
        "colab": {
          "base_uri": "https://localhost:8080/"
        },
        "id": "mfJMAueTb5m7",
        "outputId": "26c762a9-9bd4-4a6f-d5fe-255549107a70"
      },
      "execution_count": null,
      "outputs": [
        {
          "output_type": "execute_result",
          "data": {
            "text/plain": [
              "14.5631031310892"
            ]
          },
          "metadata": {},
          "execution_count": 13
        }
      ]
    }
  ]
}