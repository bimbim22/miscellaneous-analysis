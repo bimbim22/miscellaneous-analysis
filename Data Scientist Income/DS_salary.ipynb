{
  "cells": [
    {
      "cell_type": "markdown",
      "metadata": {
        "id": "wjDl5P5PlsT3"
      },
      "source": [
        "# Import Libraries and Load Data"
      ]
    },
    {
      "cell_type": "code",
      "execution_count": 2,
      "metadata": {
        "id": "K9DwpZhdoMf9",
        "colab": {
          "base_uri": "https://localhost:8080/"
        },
        "outputId": "ac65c6c7-80bc-4565-d530-fbe6ac395155"
      },
      "outputs": [
        {
          "output_type": "stream",
          "name": "stdout",
          "text": [
            "Installing collected packages: tangled-up-in-unicode, scipy, visions, imagehash, phik, htmlmin, confuse, pandas-profiling\n",
            "  Attempting uninstall: scipy\n",
            "    Found existing installation: scipy 1.4.1\n",
            "    Uninstalling scipy-1.4.1:\n",
            "      Successfully uninstalled scipy-1.4.1\n",
            "  Attempting uninstall: pandas-profiling\n",
            "    Found existing installation: pandas-profiling 1.4.1\n",
            "    Uninstalling pandas-profiling-1.4.1:\n",
            "      Successfully uninstalled pandas-profiling-1.4.1\n",
            "\u001b[31mERROR: pip's dependency resolver does not currently take into account all the packages that are installed. This behaviour is the source of the following dependency conflicts.\n",
            "albumentations 0.1.12 requires imgaug<0.2.7,>=0.2.5, but you have imgaug 0.2.9 which is incompatible.\u001b[0m\n",
            "Successfully installed confuse-1.7.0 htmlmin-0.1.12 imagehash-4.2.1 pandas-profiling-2.7.1 phik-0.12.0 scipy-1.7.3 tangled-up-in-unicode-0.2.0 visions-0.4.1\n"
          ]
        }
      ],
      "source": [
        "!pip install pandas_profiling==2.7.1"
      ]
    },
    {
      "cell_type": "code",
      "execution_count": 3,
      "metadata": {
        "id": "qsvAVvxznLOw"
      },
      "outputs": [],
      "source": [
        "import numpy as np\n",
        "import pandas as pd\n",
        "import tensorflow as tf\n",
        "import pandas_profiling\n",
        "import seaborn as sns\n",
        "import matplotlib.pyplot as plt"
      ]
    },
    {
      "cell_type": "code",
      "execution_count": 4,
      "metadata": {
        "id": "D-SRmwHDC7Gl"
      },
      "outputs": [],
      "source": [
        "raw_data_2016 = pd.read_csv('drive/MyDrive/datasets/DS salary/2016/2016 Stack Overflow Survey Results/2016 Stack Overflow Survey Responses.csv')"
      ]
    },
    {
      "cell_type": "code",
      "execution_count": 5,
      "metadata": {
        "id": "fcReTAbwDBI8",
        "colab": {
          "base_uri": "https://localhost:8080/",
          "height": 0
        },
        "outputId": "6280f505-37c6-4620-f3a2-64ab3ac734cc"
      },
      "outputs": [
        {
          "output_type": "execute_result",
          "data": {
            "text/html": [
              "\n",
              "  <div id=\"df-dd204bff-8515-4bc5-8d2c-3c772d7c9cf7\">\n",
              "    <div class=\"colab-df-container\">\n",
              "      <div>\n",
              "<style scoped>\n",
              "    .dataframe tbody tr th:only-of-type {\n",
              "        vertical-align: middle;\n",
              "    }\n",
              "\n",
              "    .dataframe tbody tr th {\n",
              "        vertical-align: top;\n",
              "    }\n",
              "\n",
              "    .dataframe thead th {\n",
              "        text-align: right;\n",
              "    }\n",
              "</style>\n",
              "<table border=\"1\" class=\"dataframe\">\n",
              "  <thead>\n",
              "    <tr style=\"text-align: right;\">\n",
              "      <th></th>\n",
              "      <th>Unnamed: 0</th>\n",
              "      <th>collector</th>\n",
              "      <th>country</th>\n",
              "      <th>un_subregion</th>\n",
              "      <th>so_region</th>\n",
              "      <th>age_range</th>\n",
              "      <th>age_midpoint</th>\n",
              "      <th>gender</th>\n",
              "      <th>self_identification</th>\n",
              "      <th>occupation</th>\n",
              "      <th>occupation_group</th>\n",
              "      <th>experience_range</th>\n",
              "      <th>experience_midpoint</th>\n",
              "      <th>salary_range</th>\n",
              "      <th>salary_midpoint</th>\n",
              "      <th>big_mac_index</th>\n",
              "      <th>tech_do</th>\n",
              "      <th>tech_want</th>\n",
              "      <th>aliens</th>\n",
              "      <th>programming_ability</th>\n",
              "      <th>employment_status</th>\n",
              "      <th>industry</th>\n",
              "      <th>company_size_range</th>\n",
              "      <th>team_size_range</th>\n",
              "      <th>women_on_team</th>\n",
              "      <th>remote</th>\n",
              "      <th>job_satisfaction</th>\n",
              "      <th>job_discovery</th>\n",
              "      <th>dev_environment</th>\n",
              "      <th>commit_frequency</th>\n",
              "      <th>hobby</th>\n",
              "      <th>dogs_vs_cats</th>\n",
              "      <th>desktop_os</th>\n",
              "      <th>unit_testing</th>\n",
              "      <th>rep_range</th>\n",
              "      <th>visit_frequency</th>\n",
              "      <th>why_learn_new_tech</th>\n",
              "      <th>education</th>\n",
              "      <th>open_to_new_job</th>\n",
              "      <th>new_job_value</th>\n",
              "      <th>job_search_annoyance</th>\n",
              "      <th>interview_likelihood</th>\n",
              "      <th>how_to_improve_interview_process</th>\n",
              "      <th>star_wars_vs_star_trek</th>\n",
              "      <th>agree_tech</th>\n",
              "      <th>agree_notice</th>\n",
              "      <th>agree_problemsolving</th>\n",
              "      <th>agree_diversity</th>\n",
              "      <th>agree_adblocker</th>\n",
              "      <th>agree_alcohol</th>\n",
              "      <th>agree_loveboss</th>\n",
              "      <th>agree_nightcode</th>\n",
              "      <th>agree_legacy</th>\n",
              "      <th>agree_mars</th>\n",
              "      <th>important_variety</th>\n",
              "      <th>important_control</th>\n",
              "      <th>important_sameend</th>\n",
              "      <th>important_newtech</th>\n",
              "      <th>important_buildnew</th>\n",
              "      <th>important_buildexisting</th>\n",
              "      <th>important_promotion</th>\n",
              "      <th>important_companymission</th>\n",
              "      <th>important_wfh</th>\n",
              "      <th>important_ownoffice</th>\n",
              "      <th>developer_challenges</th>\n",
              "      <th>why_stack_overflow</th>\n",
              "    </tr>\n",
              "  </thead>\n",
              "  <tbody>\n",
              "    <tr>\n",
              "      <th>0</th>\n",
              "      <td>1888</td>\n",
              "      <td>Facebook</td>\n",
              "      <td>Afghanistan</td>\n",
              "      <td>Southern Asia</td>\n",
              "      <td>Central Asia</td>\n",
              "      <td>20-24</td>\n",
              "      <td>22.0</td>\n",
              "      <td>Male</td>\n",
              "      <td>Programmer</td>\n",
              "      <td>NaN</td>\n",
              "      <td>NaN</td>\n",
              "      <td>NaN</td>\n",
              "      <td>NaN</td>\n",
              "      <td>NaN</td>\n",
              "      <td>NaN</td>\n",
              "      <td>NaN</td>\n",
              "      <td>NaN</td>\n",
              "      <td>NaN</td>\n",
              "      <td>NaN</td>\n",
              "      <td>NaN</td>\n",
              "      <td>NaN</td>\n",
              "      <td>NaN</td>\n",
              "      <td>NaN</td>\n",
              "      <td>NaN</td>\n",
              "      <td>NaN</td>\n",
              "      <td>NaN</td>\n",
              "      <td>NaN</td>\n",
              "      <td>NaN</td>\n",
              "      <td>NaN</td>\n",
              "      <td>NaN</td>\n",
              "      <td>NaN</td>\n",
              "      <td>NaN</td>\n",
              "      <td>NaN</td>\n",
              "      <td>NaN</td>\n",
              "      <td>NaN</td>\n",
              "      <td>NaN</td>\n",
              "      <td>NaN</td>\n",
              "      <td>NaN</td>\n",
              "      <td>NaN</td>\n",
              "      <td>NaN</td>\n",
              "      <td>NaN</td>\n",
              "      <td>NaN</td>\n",
              "      <td>NaN</td>\n",
              "      <td>NaN</td>\n",
              "      <td>NaN</td>\n",
              "      <td>NaN</td>\n",
              "      <td>NaN</td>\n",
              "      <td>NaN</td>\n",
              "      <td>NaN</td>\n",
              "      <td>NaN</td>\n",
              "      <td>NaN</td>\n",
              "      <td>NaN</td>\n",
              "      <td>NaN</td>\n",
              "      <td>NaN</td>\n",
              "      <td>NaN</td>\n",
              "      <td>NaN</td>\n",
              "      <td>NaN</td>\n",
              "      <td>NaN</td>\n",
              "      <td>NaN</td>\n",
              "      <td>NaN</td>\n",
              "      <td>NaN</td>\n",
              "      <td>NaN</td>\n",
              "      <td>NaN</td>\n",
              "      <td>NaN</td>\n",
              "      <td>NaN</td>\n",
              "      <td>NaN</td>\n",
              "    </tr>\n",
              "    <tr>\n",
              "      <th>1</th>\n",
              "      <td>4637</td>\n",
              "      <td>Facebook</td>\n",
              "      <td>Afghanistan</td>\n",
              "      <td>Southern Asia</td>\n",
              "      <td>Central Asia</td>\n",
              "      <td>30-34</td>\n",
              "      <td>32.0</td>\n",
              "      <td>Male</td>\n",
              "      <td>Developer; Engineer; Programmer</td>\n",
              "      <td>Mobile developer - iOS</td>\n",
              "      <td>Mobile Dev (Android, iOS, WP &amp; Multi-Platform)</td>\n",
              "      <td>6 - 10 years</td>\n",
              "      <td>8.0</td>\n",
              "      <td>$40,000 - $50,000</td>\n",
              "      <td>45000.0</td>\n",
              "      <td>NaN</td>\n",
              "      <td>iOS; Objective-C</td>\n",
              "      <td>Swift</td>\n",
              "      <td>Yes</td>\n",
              "      <td>7.0</td>\n",
              "      <td>Employed full-time</td>\n",
              "      <td>Consulting</td>\n",
              "      <td>100-499 employees</td>\n",
              "      <td>15-20 people</td>\n",
              "      <td>3</td>\n",
              "      <td>I rarely work remotely</td>\n",
              "      <td>I love my job</td>\n",
              "      <td>I knew I wanted to work here. I sought out the...</td>\n",
              "      <td>TextMate; Xcode</td>\n",
              "      <td>Multiple times a day</td>\n",
              "      <td>1-2 hours per week</td>\n",
              "      <td>Cats</td>\n",
              "      <td>Mac OS X</td>\n",
              "      <td>No</td>\n",
              "      <td>1</td>\n",
              "      <td>Multiple times a day</td>\n",
              "      <td>To keep my skills up to date</td>\n",
              "      <td>I'm self-taught; On-the-job training; B.S. in ...</td>\n",
              "      <td>I am not interested in new job opportunities</td>\n",
              "      <td>Salary; Ability to make or influence important...</td>\n",
              "      <td>Taking time off work to interview</td>\n",
              "      <td>10%</td>\n",
              "      <td>Show me more live code; Introduce me to the te...</td>\n",
              "      <td>Star Wars</td>\n",
              "      <td>Agree completely</td>\n",
              "      <td>Agree completely</td>\n",
              "      <td>Agree completely</td>\n",
              "      <td>Agree somewhat</td>\n",
              "      <td>Agree completely</td>\n",
              "      <td>Neutral</td>\n",
              "      <td>Agree somewhat</td>\n",
              "      <td>Neutral</td>\n",
              "      <td>Agree somewhat</td>\n",
              "      <td>Disagree somewhat</td>\n",
              "      <td>This is very important</td>\n",
              "      <td>This is very important</td>\n",
              "      <td>This is somewhat important</td>\n",
              "      <td>This is very important</td>\n",
              "      <td>This is very important</td>\n",
              "      <td>I don't care about this</td>\n",
              "      <td>This is somewhat important</td>\n",
              "      <td>This is somewhat important</td>\n",
              "      <td>I don't care about this</td>\n",
              "      <td>I don't care about this</td>\n",
              "      <td>Unrealistic expectations; Interacting with non...</td>\n",
              "      <td>To get help for my job; Because I can't do my ...</td>\n",
              "    </tr>\n",
              "    <tr>\n",
              "      <th>2</th>\n",
              "      <td>11164</td>\n",
              "      <td>Facebook</td>\n",
              "      <td>Afghanistan</td>\n",
              "      <td>Southern Asia</td>\n",
              "      <td>Central Asia</td>\n",
              "      <td>NaN</td>\n",
              "      <td>NaN</td>\n",
              "      <td>NaN</td>\n",
              "      <td>NaN</td>\n",
              "      <td>NaN</td>\n",
              "      <td>NaN</td>\n",
              "      <td>NaN</td>\n",
              "      <td>NaN</td>\n",
              "      <td>NaN</td>\n",
              "      <td>NaN</td>\n",
              "      <td>NaN</td>\n",
              "      <td>NaN</td>\n",
              "      <td>NaN</td>\n",
              "      <td>NaN</td>\n",
              "      <td>NaN</td>\n",
              "      <td>NaN</td>\n",
              "      <td>NaN</td>\n",
              "      <td>NaN</td>\n",
              "      <td>NaN</td>\n",
              "      <td>NaN</td>\n",
              "      <td>NaN</td>\n",
              "      <td>NaN</td>\n",
              "      <td>NaN</td>\n",
              "      <td>NaN</td>\n",
              "      <td>NaN</td>\n",
              "      <td>NaN</td>\n",
              "      <td>NaN</td>\n",
              "      <td>NaN</td>\n",
              "      <td>NaN</td>\n",
              "      <td>NaN</td>\n",
              "      <td>NaN</td>\n",
              "      <td>NaN</td>\n",
              "      <td>NaN</td>\n",
              "      <td>NaN</td>\n",
              "      <td>NaN</td>\n",
              "      <td>NaN</td>\n",
              "      <td>NaN</td>\n",
              "      <td>NaN</td>\n",
              "      <td>NaN</td>\n",
              "      <td>NaN</td>\n",
              "      <td>NaN</td>\n",
              "      <td>NaN</td>\n",
              "      <td>NaN</td>\n",
              "      <td>NaN</td>\n",
              "      <td>NaN</td>\n",
              "      <td>NaN</td>\n",
              "      <td>NaN</td>\n",
              "      <td>NaN</td>\n",
              "      <td>NaN</td>\n",
              "      <td>NaN</td>\n",
              "      <td>NaN</td>\n",
              "      <td>NaN</td>\n",
              "      <td>NaN</td>\n",
              "      <td>NaN</td>\n",
              "      <td>NaN</td>\n",
              "      <td>NaN</td>\n",
              "      <td>NaN</td>\n",
              "      <td>NaN</td>\n",
              "      <td>NaN</td>\n",
              "      <td>NaN</td>\n",
              "      <td>NaN</td>\n",
              "    </tr>\n",
              "    <tr>\n",
              "      <th>3</th>\n",
              "      <td>21378</td>\n",
              "      <td>Facebook</td>\n",
              "      <td>Afghanistan</td>\n",
              "      <td>Southern Asia</td>\n",
              "      <td>Central Asia</td>\n",
              "      <td>NaN</td>\n",
              "      <td>NaN</td>\n",
              "      <td>Female</td>\n",
              "      <td>Engineer</td>\n",
              "      <td>DevOps</td>\n",
              "      <td>DevOps</td>\n",
              "      <td>11+ years</td>\n",
              "      <td>13.0</td>\n",
              "      <td>Less than $10,000</td>\n",
              "      <td>5000.0</td>\n",
              "      <td>NaN</td>\n",
              "      <td>NaN</td>\n",
              "      <td>NaN</td>\n",
              "      <td>Other (please specify)</td>\n",
              "      <td>8.0</td>\n",
              "      <td>Freelance / Contractor</td>\n",
              "      <td>Finance / Banking</td>\n",
              "      <td>100-499 employees</td>\n",
              "      <td>1-4 people</td>\n",
              "      <td>2</td>\n",
              "      <td>Part-time remote</td>\n",
              "      <td>I love my job</td>\n",
              "      <td>Other</td>\n",
              "      <td>Visual Studio</td>\n",
              "      <td>Multiple times a day</td>\n",
              "      <td>2-5 hours per week</td>\n",
              "      <td>Cats</td>\n",
              "      <td>Other Linux</td>\n",
              "      <td>Yes</td>\n",
              "      <td>I'm not sure</td>\n",
              "      <td>Once a week</td>\n",
              "      <td>NaN</td>\n",
              "      <td>I'm self-taught; On-the-job training</td>\n",
              "      <td>I'm not actively looking, but I am open to new...</td>\n",
              "      <td>Office location; Remote working option; Flexib...</td>\n",
              "      <td>Other (please specify)</td>\n",
              "      <td>0%</td>\n",
              "      <td>Be more flexible about interview scheduling; O...</td>\n",
              "      <td>NaN</td>\n",
              "      <td>Agree completely</td>\n",
              "      <td>Neutral</td>\n",
              "      <td>Agree somewhat</td>\n",
              "      <td>Agree somewhat</td>\n",
              "      <td>Agree completely</td>\n",
              "      <td>Disagree completely</td>\n",
              "      <td>Disagree completely</td>\n",
              "      <td>Agree completely</td>\n",
              "      <td>Agree somewhat</td>\n",
              "      <td>Disagree completely</td>\n",
              "      <td>This is somewhat important</td>\n",
              "      <td>I don't care about this</td>\n",
              "      <td>I don't care about this</td>\n",
              "      <td>This is somewhat important</td>\n",
              "      <td>This is very important</td>\n",
              "      <td>This is very important</td>\n",
              "      <td>I don't care about this</td>\n",
              "      <td>I don't care about this</td>\n",
              "      <td>This is very important</td>\n",
              "      <td>This is somewhat important</td>\n",
              "      <td>Corporate policies; Interacting with non-techn...</td>\n",
              "      <td>To get help for my job; Beacause I love to learn</td>\n",
              "    </tr>\n",
              "    <tr>\n",
              "      <th>4</th>\n",
              "      <td>30280</td>\n",
              "      <td>Facebook</td>\n",
              "      <td>Afghanistan</td>\n",
              "      <td>Southern Asia</td>\n",
              "      <td>Central Asia</td>\n",
              "      <td>&gt; 60</td>\n",
              "      <td>65.0</td>\n",
              "      <td>Prefer not to disclose</td>\n",
              "      <td>Developer; Engineer; Programmer; Sr. Developer...</td>\n",
              "      <td>NaN</td>\n",
              "      <td>NaN</td>\n",
              "      <td>NaN</td>\n",
              "      <td>NaN</td>\n",
              "      <td>NaN</td>\n",
              "      <td>NaN</td>\n",
              "      <td>NaN</td>\n",
              "      <td>NaN</td>\n",
              "      <td>NaN</td>\n",
              "      <td>NaN</td>\n",
              "      <td>NaN</td>\n",
              "      <td>NaN</td>\n",
              "      <td>NaN</td>\n",
              "      <td>NaN</td>\n",
              "      <td>NaN</td>\n",
              "      <td>NaN</td>\n",
              "      <td>NaN</td>\n",
              "      <td>NaN</td>\n",
              "      <td>NaN</td>\n",
              "      <td>NaN</td>\n",
              "      <td>NaN</td>\n",
              "      <td>NaN</td>\n",
              "      <td>NaN</td>\n",
              "      <td>NaN</td>\n",
              "      <td>NaN</td>\n",
              "      <td>NaN</td>\n",
              "      <td>NaN</td>\n",
              "      <td>NaN</td>\n",
              "      <td>NaN</td>\n",
              "      <td>NaN</td>\n",
              "      <td>NaN</td>\n",
              "      <td>NaN</td>\n",
              "      <td>NaN</td>\n",
              "      <td>NaN</td>\n",
              "      <td>NaN</td>\n",
              "      <td>NaN</td>\n",
              "      <td>NaN</td>\n",
              "      <td>NaN</td>\n",
              "      <td>NaN</td>\n",
              "      <td>NaN</td>\n",
              "      <td>NaN</td>\n",
              "      <td>NaN</td>\n",
              "      <td>NaN</td>\n",
              "      <td>NaN</td>\n",
              "      <td>NaN</td>\n",
              "      <td>NaN</td>\n",
              "      <td>NaN</td>\n",
              "      <td>NaN</td>\n",
              "      <td>NaN</td>\n",
              "      <td>NaN</td>\n",
              "      <td>NaN</td>\n",
              "      <td>NaN</td>\n",
              "      <td>NaN</td>\n",
              "      <td>NaN</td>\n",
              "      <td>NaN</td>\n",
              "      <td>NaN</td>\n",
              "      <td>NaN</td>\n",
              "    </tr>\n",
              "  </tbody>\n",
              "</table>\n",
              "</div>\n",
              "      <button class=\"colab-df-convert\" onclick=\"convertToInteractive('df-dd204bff-8515-4bc5-8d2c-3c772d7c9cf7')\"\n",
              "              title=\"Convert this dataframe to an interactive table.\"\n",
              "              style=\"display:none;\">\n",
              "        \n",
              "  <svg xmlns=\"http://www.w3.org/2000/svg\" height=\"24px\"viewBox=\"0 0 24 24\"\n",
              "       width=\"24px\">\n",
              "    <path d=\"M0 0h24v24H0V0z\" fill=\"none\"/>\n",
              "    <path d=\"M18.56 5.44l.94 2.06.94-2.06 2.06-.94-2.06-.94-.94-2.06-.94 2.06-2.06.94zm-11 1L8.5 8.5l.94-2.06 2.06-.94-2.06-.94L8.5 2.5l-.94 2.06-2.06.94zm10 10l.94 2.06.94-2.06 2.06-.94-2.06-.94-.94-2.06-.94 2.06-2.06.94z\"/><path d=\"M17.41 7.96l-1.37-1.37c-.4-.4-.92-.59-1.43-.59-.52 0-1.04.2-1.43.59L10.3 9.45l-7.72 7.72c-.78.78-.78 2.05 0 2.83L4 21.41c.39.39.9.59 1.41.59.51 0 1.02-.2 1.41-.59l7.78-7.78 2.81-2.81c.8-.78.8-2.07 0-2.86zM5.41 20L4 18.59l7.72-7.72 1.47 1.35L5.41 20z\"/>\n",
              "  </svg>\n",
              "      </button>\n",
              "      \n",
              "  <style>\n",
              "    .colab-df-container {\n",
              "      display:flex;\n",
              "      flex-wrap:wrap;\n",
              "      gap: 12px;\n",
              "    }\n",
              "\n",
              "    .colab-df-convert {\n",
              "      background-color: #E8F0FE;\n",
              "      border: none;\n",
              "      border-radius: 50%;\n",
              "      cursor: pointer;\n",
              "      display: none;\n",
              "      fill: #1967D2;\n",
              "      height: 32px;\n",
              "      padding: 0 0 0 0;\n",
              "      width: 32px;\n",
              "    }\n",
              "\n",
              "    .colab-df-convert:hover {\n",
              "      background-color: #E2EBFA;\n",
              "      box-shadow: 0px 1px 2px rgba(60, 64, 67, 0.3), 0px 1px 3px 1px rgba(60, 64, 67, 0.15);\n",
              "      fill: #174EA6;\n",
              "    }\n",
              "\n",
              "    [theme=dark] .colab-df-convert {\n",
              "      background-color: #3B4455;\n",
              "      fill: #D2E3FC;\n",
              "    }\n",
              "\n",
              "    [theme=dark] .colab-df-convert:hover {\n",
              "      background-color: #434B5C;\n",
              "      box-shadow: 0px 1px 3px 1px rgba(0, 0, 0, 0.15);\n",
              "      filter: drop-shadow(0px 1px 2px rgba(0, 0, 0, 0.3));\n",
              "      fill: #FFFFFF;\n",
              "    }\n",
              "  </style>\n",
              "\n",
              "      <script>\n",
              "        const buttonEl =\n",
              "          document.querySelector('#df-dd204bff-8515-4bc5-8d2c-3c772d7c9cf7 button.colab-df-convert');\n",
              "        buttonEl.style.display =\n",
              "          google.colab.kernel.accessAllowed ? 'block' : 'none';\n",
              "\n",
              "        async function convertToInteractive(key) {\n",
              "          const element = document.querySelector('#df-dd204bff-8515-4bc5-8d2c-3c772d7c9cf7');\n",
              "          const dataTable =\n",
              "            await google.colab.kernel.invokeFunction('convertToInteractive',\n",
              "                                                     [key], {});\n",
              "          if (!dataTable) return;\n",
              "\n",
              "          const docLinkHtml = 'Like what you see? Visit the ' +\n",
              "            '<a target=\"_blank\" href=https://colab.research.google.com/notebooks/data_table.ipynb>data table notebook</a>'\n",
              "            + ' to learn more about interactive tables.';\n",
              "          element.innerHTML = '';\n",
              "          dataTable['output_type'] = 'display_data';\n",
              "          await google.colab.output.renderOutput(dataTable, element);\n",
              "          const docLink = document.createElement('div');\n",
              "          docLink.innerHTML = docLinkHtml;\n",
              "          element.appendChild(docLink);\n",
              "        }\n",
              "      </script>\n",
              "    </div>\n",
              "  </div>\n",
              "  "
            ],
            "text/plain": [
              "   Unnamed: 0  ...                                 why_stack_overflow\n",
              "0        1888  ...                                                NaN\n",
              "1        4637  ...  To get help for my job; Because I can't do my ...\n",
              "2       11164  ...                                                NaN\n",
              "3       21378  ...   To get help for my job; Beacause I love to learn\n",
              "4       30280  ...                                                NaN\n",
              "\n",
              "[5 rows x 66 columns]"
            ]
          },
          "metadata": {},
          "execution_count": 5
        }
      ],
      "source": [
        "raw_data_2016.head(5)"
      ]
    },
    {
      "cell_type": "markdown",
      "metadata": {
        "id": "XRYGN30cl1j8"
      },
      "source": [
        "# Exploring Data"
      ]
    },
    {
      "cell_type": "code",
      "execution_count": null,
      "metadata": {
        "colab": {
          "base_uri": "https://localhost:8080/"
        },
        "id": "fKYSmB5FFQ-z",
        "outputId": "1d0d9adf-85e3-4eb3-d6ff-af98e8f80f5e"
      },
      "outputs": [
        {
          "data": {
            "text/plain": [
              "Index(['Unnamed: 0', 'collector', 'country', 'un_subregion', 'so_region',\n",
              "       'age_range', 'age_midpoint', 'gender', 'self_identification',\n",
              "       'occupation', 'occupation_group', 'experience_range',\n",
              "       'experience_midpoint', 'salary_range', 'salary_midpoint',\n",
              "       'big_mac_index', 'tech_do', 'tech_want', 'aliens',\n",
              "       'programming_ability', 'employment_status', 'industry',\n",
              "       'company_size_range', 'team_size_range', 'women_on_team', 'remote',\n",
              "       'job_satisfaction', 'job_discovery', 'dev_environment',\n",
              "       'commit_frequency', 'hobby', 'dogs_vs_cats', 'desktop_os',\n",
              "       'unit_testing', 'rep_range', 'visit_frequency', 'why_learn_new_tech',\n",
              "       'education', 'open_to_new_job', 'new_job_value', 'job_search_annoyance',\n",
              "       'interview_likelihood', 'how_to_improve_interview_process',\n",
              "       'star_wars_vs_star_trek', 'agree_tech', 'agree_notice',\n",
              "       'agree_problemsolving', 'agree_diversity', 'agree_adblocker',\n",
              "       'agree_alcohol', 'agree_loveboss', 'agree_nightcode', 'agree_legacy',\n",
              "       'agree_mars', 'important_variety', 'important_control',\n",
              "       'important_sameend', 'important_newtech', 'important_buildnew',\n",
              "       'important_buildexisting', 'important_promotion',\n",
              "       'important_companymission', 'important_wfh', 'important_ownoffice',\n",
              "       'developer_challenges', 'why_stack_overflow'],\n",
              "      dtype='object')"
            ]
          },
          "execution_count": 35,
          "metadata": {},
          "output_type": "execute_result"
        }
      ],
      "source": [
        "raw_data_2016.columns"
      ]
    },
    {
      "cell_type": "code",
      "execution_count": null,
      "metadata": {
        "id": "5T_EyKunoZAZ"
      },
      "outputs": [],
      "source": [
        "# pandas_profiling.ProfileReport(raw_data_2016)"
      ]
    },
    {
      "cell_type": "markdown",
      "metadata": {
        "id": "wTz9SZWImCgZ"
      },
      "source": [
        "# Data Cleaning"
      ]
    },
    {
      "cell_type": "markdown",
      "metadata": {
        "id": "kYUGd9MfnSz3"
      },
      "source": [
        "## Removing irrelvelant features 1"
      ]
    },
    {
      "cell_type": "markdown",
      "metadata": {
        "id": "E11Oj99Cqi5F"
      },
      "source": [
        "'employment_status', 'remote', 'job_discovery', 'gender'"
      ]
    },
    {
      "cell_type": "code",
      "execution_count": null,
      "metadata": {
        "colab": {
          "base_uri": "https://localhost:8080/"
        },
        "id": "F1ASF2EMngR8",
        "outputId": "7b2fd2e9-b337-4288-f467-ef9d2d14f83b"
      },
      "outputs": [
        {
          "name": "stdout",
          "output_type": "stream",
          "text": [
            "66 19 47\n"
          ]
        }
      ],
      "source": [
        "all_features = raw_data_2016.columns\n",
        "useful_features = ['country', 'age_midpoint', 'experience_midpoint', 'salary_midpoint', 'programming_ability', 'remote',\n",
        "                   'occupation_group', 'company_size_range', 'employment_status', 'gender', 'job_satisfaction', 'industry',\n",
        "                   'important_promotion', 'important_companymission', 'education',\n",
        "                   'job_discovery', 'hobby', 'open_to_new_job', 'agree_loveboss']\n",
        "irrelevant_features = np.setdiff1d(all_features, useful_features)\n",
        "\n",
        "print(len(all_features), len(useful_features), len(irrelevant_features))"
      ]
    },
    {
      "cell_type": "code",
      "execution_count": null,
      "metadata": {
        "colab": {
          "base_uri": "https://localhost:8080/"
        },
        "id": "O4KtuJKdWQlh",
        "outputId": "c3d0b222-aaf8-46a0-b1a1-0a6dc4517987"
      },
      "outputs": [
        {
          "name": "stdout",
          "output_type": "stream",
          "text": [
            "(24647, 19)\n",
            "Index(['country', 'age_midpoint', 'gender', 'occupation_group',\n",
            "       'experience_midpoint', 'salary_midpoint', 'programming_ability',\n",
            "       'employment_status', 'industry', 'company_size_range', 'remote',\n",
            "       'job_satisfaction', 'job_discovery', 'hobby', 'education',\n",
            "       'open_to_new_job', 'agree_loveboss', 'important_promotion',\n",
            "       'important_companymission'],\n",
            "      dtype='object')\n"
          ]
        }
      ],
      "source": [
        "data_2016 = raw_data_2016.drop(irrelevant_features, axis = 1)\n",
        "data_2016 = data_2016.dropna()\n",
        "for feature in useful_features:\n",
        "    data_2016 = data_2016.drop(data_2016[data_2016[feature] == 'Other (please specify)'].index, axis = 0)\n",
        "print(data_2016.shape)\n",
        "print(data_2016.columns)"
      ]
    },
    {
      "cell_type": "markdown",
      "metadata": {
        "id": "UBpqM8TSv9Du"
      },
      "source": [
        "## Country"
      ]
    },
    {
      "cell_type": "code",
      "execution_count": null,
      "metadata": {
        "colab": {
          "base_uri": "https://localhost:8080/",
          "height": 417
        },
        "id": "13bLV01eXA9v",
        "outputId": "0f2687c5-86f2-4bb6-bdaa-667e41c33262"
      },
      "outputs": [
        {
          "name": "stderr",
          "output_type": "stream",
          "text": [
            " 63%|██████▎   | 89/141 [00:44<00:25,  2.02it/s]\n"
          ]
        },
        {
          "ename": "KeyboardInterrupt",
          "evalue": "ignored",
          "output_type": "error",
          "traceback": [
            "\u001b[0;31m---------------------------------------------------------------------------\u001b[0m",
            "\u001b[0;31mKeyboardInterrupt\u001b[0m                         Traceback (most recent call last)",
            "\u001b[0;32m<ipython-input-7-f2bce1c6f445>\u001b[0m in \u001b[0;36m<module>\u001b[0;34m()\u001b[0m\n\u001b[1;32m     10\u001b[0m \u001b[0;34m\u001b[0m\u001b[0m\n\u001b[1;32m     11\u001b[0m \u001b[0;32mfor\u001b[0m \u001b[0mcountry\u001b[0m \u001b[0;32min\u001b[0m \u001b[0mtqdm\u001b[0m\u001b[0;34m(\u001b[0m\u001b[0mcountries\u001b[0m\u001b[0;34m)\u001b[0m\u001b[0;34m:\u001b[0m\u001b[0;34m\u001b[0m\u001b[0;34m\u001b[0m\u001b[0m\n\u001b[0;32m---> 12\u001b[0;31m     \u001b[0mcoordinates\u001b[0m \u001b[0;34m=\u001b[0m \u001b[0mgeolocator\u001b[0m\u001b[0;34m.\u001b[0m\u001b[0mgeocode\u001b[0m\u001b[0;34m(\u001b[0m\u001b[0mcountry\u001b[0m\u001b[0;34m)\u001b[0m\u001b[0;34m\u001b[0m\u001b[0;34m\u001b[0m\u001b[0m\n\u001b[0m\u001b[1;32m     13\u001b[0m     \u001b[0mlatitudes\u001b[0m\u001b[0;34m.\u001b[0m\u001b[0mappend\u001b[0m\u001b[0;34m(\u001b[0m\u001b[0mcoordinates\u001b[0m\u001b[0;34m.\u001b[0m\u001b[0mlatitude\u001b[0m\u001b[0;34m)\u001b[0m\u001b[0;34m\u001b[0m\u001b[0;34m\u001b[0m\u001b[0m\n\u001b[1;32m     14\u001b[0m     \u001b[0mlongitudes\u001b[0m\u001b[0;34m.\u001b[0m\u001b[0mappend\u001b[0m\u001b[0;34m(\u001b[0m\u001b[0mcoordinates\u001b[0m\u001b[0;34m.\u001b[0m\u001b[0mlongitude\u001b[0m\u001b[0;34m)\u001b[0m\u001b[0;34m\u001b[0m\u001b[0;34m\u001b[0m\u001b[0m\n",
            "\u001b[0;32m/usr/local/lib/python3.7/dist-packages/geopy/geocoders/osm.py\u001b[0m in \u001b[0;36mgeocode\u001b[0;34m(self, query, exactly_one, timeout, limit, addressdetails, language, geometry, extratags)\u001b[0m\n\u001b[1;32m    305\u001b[0m \u001b[0;34m\u001b[0m\u001b[0m\n\u001b[1;32m    306\u001b[0m         return self._parse_json(\n\u001b[0;32m--> 307\u001b[0;31m             \u001b[0mself\u001b[0m\u001b[0;34m.\u001b[0m\u001b[0m_call_geocoder\u001b[0m\u001b[0;34m(\u001b[0m\u001b[0murl\u001b[0m\u001b[0;34m,\u001b[0m \u001b[0mtimeout\u001b[0m\u001b[0;34m=\u001b[0m\u001b[0mtimeout\u001b[0m\u001b[0;34m)\u001b[0m\u001b[0;34m,\u001b[0m \u001b[0mexactly_one\u001b[0m\u001b[0;34m\u001b[0m\u001b[0;34m\u001b[0m\u001b[0m\n\u001b[0m\u001b[1;32m    308\u001b[0m         )\n\u001b[1;32m    309\u001b[0m \u001b[0;34m\u001b[0m\u001b[0m\n",
            "\u001b[0;32m/usr/local/lib/python3.7/dist-packages/geopy/geocoders/base.py\u001b[0m in \u001b[0;36m_call_geocoder\u001b[0;34m(self, url, timeout, raw, requester, deserializer, **kwargs)\u001b[0m\n\u001b[1;32m    342\u001b[0m \u001b[0;34m\u001b[0m\u001b[0m\n\u001b[1;32m    343\u001b[0m         \u001b[0;32mtry\u001b[0m\u001b[0;34m:\u001b[0m\u001b[0;34m\u001b[0m\u001b[0;34m\u001b[0m\u001b[0m\n\u001b[0;32m--> 344\u001b[0;31m             \u001b[0mpage\u001b[0m \u001b[0;34m=\u001b[0m \u001b[0mrequester\u001b[0m\u001b[0;34m(\u001b[0m\u001b[0mreq\u001b[0m\u001b[0;34m,\u001b[0m \u001b[0mtimeout\u001b[0m\u001b[0;34m=\u001b[0m\u001b[0mtimeout\u001b[0m\u001b[0;34m,\u001b[0m \u001b[0;34m**\u001b[0m\u001b[0mkwargs\u001b[0m\u001b[0;34m)\u001b[0m\u001b[0;34m\u001b[0m\u001b[0;34m\u001b[0m\u001b[0m\n\u001b[0m\u001b[1;32m    345\u001b[0m         \u001b[0;32mexcept\u001b[0m \u001b[0mException\u001b[0m \u001b[0;32mas\u001b[0m \u001b[0merror\u001b[0m\u001b[0;34m:\u001b[0m\u001b[0;34m\u001b[0m\u001b[0;34m\u001b[0m\u001b[0m\n\u001b[1;32m    346\u001b[0m             message = (\n",
            "\u001b[0;32m/usr/lib/python3.7/urllib/request.py\u001b[0m in \u001b[0;36mopen\u001b[0;34m(self, fullurl, data, timeout)\u001b[0m\n\u001b[1;32m    523\u001b[0m             \u001b[0mreq\u001b[0m \u001b[0;34m=\u001b[0m \u001b[0mmeth\u001b[0m\u001b[0;34m(\u001b[0m\u001b[0mreq\u001b[0m\u001b[0;34m)\u001b[0m\u001b[0;34m\u001b[0m\u001b[0;34m\u001b[0m\u001b[0m\n\u001b[1;32m    524\u001b[0m \u001b[0;34m\u001b[0m\u001b[0m\n\u001b[0;32m--> 525\u001b[0;31m         \u001b[0mresponse\u001b[0m \u001b[0;34m=\u001b[0m \u001b[0mself\u001b[0m\u001b[0;34m.\u001b[0m\u001b[0m_open\u001b[0m\u001b[0;34m(\u001b[0m\u001b[0mreq\u001b[0m\u001b[0;34m,\u001b[0m \u001b[0mdata\u001b[0m\u001b[0;34m)\u001b[0m\u001b[0;34m\u001b[0m\u001b[0;34m\u001b[0m\u001b[0m\n\u001b[0m\u001b[1;32m    526\u001b[0m \u001b[0;34m\u001b[0m\u001b[0m\n\u001b[1;32m    527\u001b[0m         \u001b[0;31m# post-process response\u001b[0m\u001b[0;34m\u001b[0m\u001b[0;34m\u001b[0m\u001b[0;34m\u001b[0m\u001b[0m\n",
            "\u001b[0;32m/usr/lib/python3.7/urllib/request.py\u001b[0m in \u001b[0;36m_open\u001b[0;34m(self, req, data)\u001b[0m\n\u001b[1;32m    541\u001b[0m         \u001b[0mprotocol\u001b[0m \u001b[0;34m=\u001b[0m \u001b[0mreq\u001b[0m\u001b[0;34m.\u001b[0m\u001b[0mtype\u001b[0m\u001b[0;34m\u001b[0m\u001b[0;34m\u001b[0m\u001b[0m\n\u001b[1;32m    542\u001b[0m         result = self._call_chain(self.handle_open, protocol, protocol +\n\u001b[0;32m--> 543\u001b[0;31m                                   '_open', req)\n\u001b[0m\u001b[1;32m    544\u001b[0m         \u001b[0;32mif\u001b[0m \u001b[0mresult\u001b[0m\u001b[0;34m:\u001b[0m\u001b[0;34m\u001b[0m\u001b[0;34m\u001b[0m\u001b[0m\n\u001b[1;32m    545\u001b[0m             \u001b[0;32mreturn\u001b[0m \u001b[0mresult\u001b[0m\u001b[0;34m\u001b[0m\u001b[0;34m\u001b[0m\u001b[0m\n",
            "\u001b[0;32m/usr/lib/python3.7/urllib/request.py\u001b[0m in \u001b[0;36m_call_chain\u001b[0;34m(self, chain, kind, meth_name, *args)\u001b[0m\n\u001b[1;32m    501\u001b[0m         \u001b[0;32mfor\u001b[0m \u001b[0mhandler\u001b[0m \u001b[0;32min\u001b[0m \u001b[0mhandlers\u001b[0m\u001b[0;34m:\u001b[0m\u001b[0;34m\u001b[0m\u001b[0;34m\u001b[0m\u001b[0m\n\u001b[1;32m    502\u001b[0m             \u001b[0mfunc\u001b[0m \u001b[0;34m=\u001b[0m \u001b[0mgetattr\u001b[0m\u001b[0;34m(\u001b[0m\u001b[0mhandler\u001b[0m\u001b[0;34m,\u001b[0m \u001b[0mmeth_name\u001b[0m\u001b[0;34m)\u001b[0m\u001b[0;34m\u001b[0m\u001b[0;34m\u001b[0m\u001b[0m\n\u001b[0;32m--> 503\u001b[0;31m             \u001b[0mresult\u001b[0m \u001b[0;34m=\u001b[0m \u001b[0mfunc\u001b[0m\u001b[0;34m(\u001b[0m\u001b[0;34m*\u001b[0m\u001b[0margs\u001b[0m\u001b[0;34m)\u001b[0m\u001b[0;34m\u001b[0m\u001b[0;34m\u001b[0m\u001b[0m\n\u001b[0m\u001b[1;32m    504\u001b[0m             \u001b[0;32mif\u001b[0m \u001b[0mresult\u001b[0m \u001b[0;32mis\u001b[0m \u001b[0;32mnot\u001b[0m \u001b[0;32mNone\u001b[0m\u001b[0;34m:\u001b[0m\u001b[0;34m\u001b[0m\u001b[0;34m\u001b[0m\u001b[0m\n\u001b[1;32m    505\u001b[0m                 \u001b[0;32mreturn\u001b[0m \u001b[0mresult\u001b[0m\u001b[0;34m\u001b[0m\u001b[0;34m\u001b[0m\u001b[0m\n",
            "\u001b[0;32m/usr/lib/python3.7/urllib/request.py\u001b[0m in \u001b[0;36mhttps_open\u001b[0;34m(self, req)\u001b[0m\n\u001b[1;32m   1391\u001b[0m         \u001b[0;32mdef\u001b[0m \u001b[0mhttps_open\u001b[0m\u001b[0;34m(\u001b[0m\u001b[0mself\u001b[0m\u001b[0;34m,\u001b[0m \u001b[0mreq\u001b[0m\u001b[0;34m)\u001b[0m\u001b[0;34m:\u001b[0m\u001b[0;34m\u001b[0m\u001b[0;34m\u001b[0m\u001b[0m\n\u001b[1;32m   1392\u001b[0m             return self.do_open(http.client.HTTPSConnection, req,\n\u001b[0;32m-> 1393\u001b[0;31m                 context=self._context, check_hostname=self._check_hostname)\n\u001b[0m\u001b[1;32m   1394\u001b[0m \u001b[0;34m\u001b[0m\u001b[0m\n\u001b[1;32m   1395\u001b[0m         \u001b[0mhttps_request\u001b[0m \u001b[0;34m=\u001b[0m \u001b[0mAbstractHTTPHandler\u001b[0m\u001b[0;34m.\u001b[0m\u001b[0mdo_request_\u001b[0m\u001b[0;34m\u001b[0m\u001b[0;34m\u001b[0m\u001b[0m\n",
            "\u001b[0;32m/usr/lib/python3.7/urllib/request.py\u001b[0m in \u001b[0;36mdo_open\u001b[0;34m(self, http_class, req, **http_conn_args)\u001b[0m\n\u001b[1;32m   1348\u001b[0m             \u001b[0;32mtry\u001b[0m\u001b[0;34m:\u001b[0m\u001b[0;34m\u001b[0m\u001b[0;34m\u001b[0m\u001b[0m\n\u001b[1;32m   1349\u001b[0m                 h.request(req.get_method(), req.selector, req.data, headers,\n\u001b[0;32m-> 1350\u001b[0;31m                           encode_chunked=req.has_header('Transfer-encoding'))\n\u001b[0m\u001b[1;32m   1351\u001b[0m             \u001b[0;32mexcept\u001b[0m \u001b[0mOSError\u001b[0m \u001b[0;32mas\u001b[0m \u001b[0merr\u001b[0m\u001b[0;34m:\u001b[0m \u001b[0;31m# timeout error\u001b[0m\u001b[0;34m\u001b[0m\u001b[0;34m\u001b[0m\u001b[0m\n\u001b[1;32m   1352\u001b[0m                 \u001b[0;32mraise\u001b[0m \u001b[0mURLError\u001b[0m\u001b[0;34m(\u001b[0m\u001b[0merr\u001b[0m\u001b[0;34m)\u001b[0m\u001b[0;34m\u001b[0m\u001b[0;34m\u001b[0m\u001b[0m\n",
            "\u001b[0;32m/usr/lib/python3.7/http/client.py\u001b[0m in \u001b[0;36mrequest\u001b[0;34m(self, method, url, body, headers, encode_chunked)\u001b[0m\n\u001b[1;32m   1279\u001b[0m                 encode_chunked=False):\n\u001b[1;32m   1280\u001b[0m         \u001b[0;34m\"\"\"Send a complete request to the server.\"\"\"\u001b[0m\u001b[0;34m\u001b[0m\u001b[0;34m\u001b[0m\u001b[0m\n\u001b[0;32m-> 1281\u001b[0;31m         \u001b[0mself\u001b[0m\u001b[0;34m.\u001b[0m\u001b[0m_send_request\u001b[0m\u001b[0;34m(\u001b[0m\u001b[0mmethod\u001b[0m\u001b[0;34m,\u001b[0m \u001b[0murl\u001b[0m\u001b[0;34m,\u001b[0m \u001b[0mbody\u001b[0m\u001b[0;34m,\u001b[0m \u001b[0mheaders\u001b[0m\u001b[0;34m,\u001b[0m \u001b[0mencode_chunked\u001b[0m\u001b[0;34m)\u001b[0m\u001b[0;34m\u001b[0m\u001b[0;34m\u001b[0m\u001b[0m\n\u001b[0m\u001b[1;32m   1282\u001b[0m \u001b[0;34m\u001b[0m\u001b[0m\n\u001b[1;32m   1283\u001b[0m     \u001b[0;32mdef\u001b[0m \u001b[0m_send_request\u001b[0m\u001b[0;34m(\u001b[0m\u001b[0mself\u001b[0m\u001b[0;34m,\u001b[0m \u001b[0mmethod\u001b[0m\u001b[0;34m,\u001b[0m \u001b[0murl\u001b[0m\u001b[0;34m,\u001b[0m \u001b[0mbody\u001b[0m\u001b[0;34m,\u001b[0m \u001b[0mheaders\u001b[0m\u001b[0;34m,\u001b[0m \u001b[0mencode_chunked\u001b[0m\u001b[0;34m)\u001b[0m\u001b[0;34m:\u001b[0m\u001b[0;34m\u001b[0m\u001b[0;34m\u001b[0m\u001b[0m\n",
            "\u001b[0;32m/usr/lib/python3.7/http/client.py\u001b[0m in \u001b[0;36m_send_request\u001b[0;34m(self, method, url, body, headers, encode_chunked)\u001b[0m\n\u001b[1;32m   1325\u001b[0m             \u001b[0;31m# default charset of iso-8859-1.\u001b[0m\u001b[0;34m\u001b[0m\u001b[0;34m\u001b[0m\u001b[0;34m\u001b[0m\u001b[0m\n\u001b[1;32m   1326\u001b[0m             \u001b[0mbody\u001b[0m \u001b[0;34m=\u001b[0m \u001b[0m_encode\u001b[0m\u001b[0;34m(\u001b[0m\u001b[0mbody\u001b[0m\u001b[0;34m,\u001b[0m \u001b[0;34m'body'\u001b[0m\u001b[0;34m)\u001b[0m\u001b[0;34m\u001b[0m\u001b[0;34m\u001b[0m\u001b[0m\n\u001b[0;32m-> 1327\u001b[0;31m         \u001b[0mself\u001b[0m\u001b[0;34m.\u001b[0m\u001b[0mendheaders\u001b[0m\u001b[0;34m(\u001b[0m\u001b[0mbody\u001b[0m\u001b[0;34m,\u001b[0m \u001b[0mencode_chunked\u001b[0m\u001b[0;34m=\u001b[0m\u001b[0mencode_chunked\u001b[0m\u001b[0;34m)\u001b[0m\u001b[0;34m\u001b[0m\u001b[0;34m\u001b[0m\u001b[0m\n\u001b[0m\u001b[1;32m   1328\u001b[0m \u001b[0;34m\u001b[0m\u001b[0m\n\u001b[1;32m   1329\u001b[0m     \u001b[0;32mdef\u001b[0m \u001b[0mgetresponse\u001b[0m\u001b[0;34m(\u001b[0m\u001b[0mself\u001b[0m\u001b[0;34m)\u001b[0m\u001b[0;34m:\u001b[0m\u001b[0;34m\u001b[0m\u001b[0;34m\u001b[0m\u001b[0m\n",
            "\u001b[0;32m/usr/lib/python3.7/http/client.py\u001b[0m in \u001b[0;36mendheaders\u001b[0;34m(self, message_body, encode_chunked)\u001b[0m\n\u001b[1;32m   1274\u001b[0m         \u001b[0;32melse\u001b[0m\u001b[0;34m:\u001b[0m\u001b[0;34m\u001b[0m\u001b[0;34m\u001b[0m\u001b[0m\n\u001b[1;32m   1275\u001b[0m             \u001b[0;32mraise\u001b[0m \u001b[0mCannotSendHeader\u001b[0m\u001b[0;34m(\u001b[0m\u001b[0;34m)\u001b[0m\u001b[0;34m\u001b[0m\u001b[0;34m\u001b[0m\u001b[0m\n\u001b[0;32m-> 1276\u001b[0;31m         \u001b[0mself\u001b[0m\u001b[0;34m.\u001b[0m\u001b[0m_send_output\u001b[0m\u001b[0;34m(\u001b[0m\u001b[0mmessage_body\u001b[0m\u001b[0;34m,\u001b[0m \u001b[0mencode_chunked\u001b[0m\u001b[0;34m=\u001b[0m\u001b[0mencode_chunked\u001b[0m\u001b[0;34m)\u001b[0m\u001b[0;34m\u001b[0m\u001b[0;34m\u001b[0m\u001b[0m\n\u001b[0m\u001b[1;32m   1277\u001b[0m \u001b[0;34m\u001b[0m\u001b[0m\n\u001b[1;32m   1278\u001b[0m     def request(self, method, url, body=None, headers={}, *,\n",
            "\u001b[0;32m/usr/lib/python3.7/http/client.py\u001b[0m in \u001b[0;36m_send_output\u001b[0;34m(self, message_body, encode_chunked)\u001b[0m\n\u001b[1;32m   1034\u001b[0m         \u001b[0mmsg\u001b[0m \u001b[0;34m=\u001b[0m \u001b[0;34mb\"\\r\\n\"\u001b[0m\u001b[0;34m.\u001b[0m\u001b[0mjoin\u001b[0m\u001b[0;34m(\u001b[0m\u001b[0mself\u001b[0m\u001b[0;34m.\u001b[0m\u001b[0m_buffer\u001b[0m\u001b[0;34m)\u001b[0m\u001b[0;34m\u001b[0m\u001b[0;34m\u001b[0m\u001b[0m\n\u001b[1;32m   1035\u001b[0m         \u001b[0;32mdel\u001b[0m \u001b[0mself\u001b[0m\u001b[0;34m.\u001b[0m\u001b[0m_buffer\u001b[0m\u001b[0;34m[\u001b[0m\u001b[0;34m:\u001b[0m\u001b[0;34m]\u001b[0m\u001b[0;34m\u001b[0m\u001b[0;34m\u001b[0m\u001b[0m\n\u001b[0;32m-> 1036\u001b[0;31m         \u001b[0mself\u001b[0m\u001b[0;34m.\u001b[0m\u001b[0msend\u001b[0m\u001b[0;34m(\u001b[0m\u001b[0mmsg\u001b[0m\u001b[0;34m)\u001b[0m\u001b[0;34m\u001b[0m\u001b[0;34m\u001b[0m\u001b[0m\n\u001b[0m\u001b[1;32m   1037\u001b[0m \u001b[0;34m\u001b[0m\u001b[0m\n\u001b[1;32m   1038\u001b[0m         \u001b[0;32mif\u001b[0m \u001b[0mmessage_body\u001b[0m \u001b[0;32mis\u001b[0m \u001b[0;32mnot\u001b[0m \u001b[0;32mNone\u001b[0m\u001b[0;34m:\u001b[0m\u001b[0;34m\u001b[0m\u001b[0;34m\u001b[0m\u001b[0m\n",
            "\u001b[0;32m/usr/lib/python3.7/http/client.py\u001b[0m in \u001b[0;36msend\u001b[0;34m(self, data)\u001b[0m\n\u001b[1;32m    974\u001b[0m         \u001b[0;32mif\u001b[0m \u001b[0mself\u001b[0m\u001b[0;34m.\u001b[0m\u001b[0msock\u001b[0m \u001b[0;32mis\u001b[0m \u001b[0;32mNone\u001b[0m\u001b[0;34m:\u001b[0m\u001b[0;34m\u001b[0m\u001b[0;34m\u001b[0m\u001b[0m\n\u001b[1;32m    975\u001b[0m             \u001b[0;32mif\u001b[0m \u001b[0mself\u001b[0m\u001b[0;34m.\u001b[0m\u001b[0mauto_open\u001b[0m\u001b[0;34m:\u001b[0m\u001b[0;34m\u001b[0m\u001b[0;34m\u001b[0m\u001b[0m\n\u001b[0;32m--> 976\u001b[0;31m                 \u001b[0mself\u001b[0m\u001b[0;34m.\u001b[0m\u001b[0mconnect\u001b[0m\u001b[0;34m(\u001b[0m\u001b[0;34m)\u001b[0m\u001b[0;34m\u001b[0m\u001b[0;34m\u001b[0m\u001b[0m\n\u001b[0m\u001b[1;32m    977\u001b[0m             \u001b[0;32melse\u001b[0m\u001b[0;34m:\u001b[0m\u001b[0;34m\u001b[0m\u001b[0;34m\u001b[0m\u001b[0m\n\u001b[1;32m    978\u001b[0m                 \u001b[0;32mraise\u001b[0m \u001b[0mNotConnected\u001b[0m\u001b[0;34m(\u001b[0m\u001b[0;34m)\u001b[0m\u001b[0;34m\u001b[0m\u001b[0;34m\u001b[0m\u001b[0m\n",
            "\u001b[0;32m/usr/lib/python3.7/http/client.py\u001b[0m in \u001b[0;36mconnect\u001b[0;34m(self)\u001b[0m\n\u001b[1;32m   1449\u001b[0m \u001b[0;34m\u001b[0m\u001b[0m\n\u001b[1;32m   1450\u001b[0m             self.sock = self._context.wrap_socket(self.sock,\n\u001b[0;32m-> 1451\u001b[0;31m                                                   server_hostname=server_hostname)\n\u001b[0m\u001b[1;32m   1452\u001b[0m \u001b[0;34m\u001b[0m\u001b[0m\n\u001b[1;32m   1453\u001b[0m     \u001b[0m__all__\u001b[0m\u001b[0;34m.\u001b[0m\u001b[0mappend\u001b[0m\u001b[0;34m(\u001b[0m\u001b[0;34m\"HTTPSConnection\"\u001b[0m\u001b[0;34m)\u001b[0m\u001b[0;34m\u001b[0m\u001b[0;34m\u001b[0m\u001b[0m\n",
            "\u001b[0;32m/usr/lib/python3.7/ssl.py\u001b[0m in \u001b[0;36mwrap_socket\u001b[0;34m(self, sock, server_side, do_handshake_on_connect, suppress_ragged_eofs, server_hostname, session)\u001b[0m\n\u001b[1;32m    421\u001b[0m             \u001b[0mserver_hostname\u001b[0m\u001b[0;34m=\u001b[0m\u001b[0mserver_hostname\u001b[0m\u001b[0;34m,\u001b[0m\u001b[0;34m\u001b[0m\u001b[0;34m\u001b[0m\u001b[0m\n\u001b[1;32m    422\u001b[0m             \u001b[0mcontext\u001b[0m\u001b[0;34m=\u001b[0m\u001b[0mself\u001b[0m\u001b[0;34m,\u001b[0m\u001b[0;34m\u001b[0m\u001b[0;34m\u001b[0m\u001b[0m\n\u001b[0;32m--> 423\u001b[0;31m             \u001b[0msession\u001b[0m\u001b[0;34m=\u001b[0m\u001b[0msession\u001b[0m\u001b[0;34m\u001b[0m\u001b[0;34m\u001b[0m\u001b[0m\n\u001b[0m\u001b[1;32m    424\u001b[0m         )\n\u001b[1;32m    425\u001b[0m \u001b[0;34m\u001b[0m\u001b[0m\n",
            "\u001b[0;32m/usr/lib/python3.7/ssl.py\u001b[0m in \u001b[0;36m_create\u001b[0;34m(cls, sock, server_side, do_handshake_on_connect, suppress_ragged_eofs, server_hostname, context, session)\u001b[0m\n\u001b[1;32m    868\u001b[0m                         \u001b[0;31m# non-blocking\u001b[0m\u001b[0;34m\u001b[0m\u001b[0;34m\u001b[0m\u001b[0;34m\u001b[0m\u001b[0m\n\u001b[1;32m    869\u001b[0m                         \u001b[0;32mraise\u001b[0m \u001b[0mValueError\u001b[0m\u001b[0;34m(\u001b[0m\u001b[0;34m\"do_handshake_on_connect should not be specified for non-blocking sockets\"\u001b[0m\u001b[0;34m)\u001b[0m\u001b[0;34m\u001b[0m\u001b[0;34m\u001b[0m\u001b[0m\n\u001b[0;32m--> 870\u001b[0;31m                     \u001b[0mself\u001b[0m\u001b[0;34m.\u001b[0m\u001b[0mdo_handshake\u001b[0m\u001b[0;34m(\u001b[0m\u001b[0;34m)\u001b[0m\u001b[0;34m\u001b[0m\u001b[0;34m\u001b[0m\u001b[0m\n\u001b[0m\u001b[1;32m    871\u001b[0m             \u001b[0;32mexcept\u001b[0m \u001b[0;34m(\u001b[0m\u001b[0mOSError\u001b[0m\u001b[0;34m,\u001b[0m \u001b[0mValueError\u001b[0m\u001b[0;34m)\u001b[0m\u001b[0;34m:\u001b[0m\u001b[0;34m\u001b[0m\u001b[0;34m\u001b[0m\u001b[0m\n\u001b[1;32m    872\u001b[0m                 \u001b[0mself\u001b[0m\u001b[0;34m.\u001b[0m\u001b[0mclose\u001b[0m\u001b[0;34m(\u001b[0m\u001b[0;34m)\u001b[0m\u001b[0;34m\u001b[0m\u001b[0;34m\u001b[0m\u001b[0m\n",
            "\u001b[0;32m/usr/lib/python3.7/ssl.py\u001b[0m in \u001b[0;36mdo_handshake\u001b[0;34m(self, block)\u001b[0m\n\u001b[1;32m   1137\u001b[0m             \u001b[0;32mif\u001b[0m \u001b[0mtimeout\u001b[0m \u001b[0;34m==\u001b[0m \u001b[0;36m0.0\u001b[0m \u001b[0;32mand\u001b[0m \u001b[0mblock\u001b[0m\u001b[0;34m:\u001b[0m\u001b[0;34m\u001b[0m\u001b[0;34m\u001b[0m\u001b[0m\n\u001b[1;32m   1138\u001b[0m                 \u001b[0mself\u001b[0m\u001b[0;34m.\u001b[0m\u001b[0msettimeout\u001b[0m\u001b[0;34m(\u001b[0m\u001b[0;32mNone\u001b[0m\u001b[0;34m)\u001b[0m\u001b[0;34m\u001b[0m\u001b[0;34m\u001b[0m\u001b[0m\n\u001b[0;32m-> 1139\u001b[0;31m             \u001b[0mself\u001b[0m\u001b[0;34m.\u001b[0m\u001b[0m_sslobj\u001b[0m\u001b[0;34m.\u001b[0m\u001b[0mdo_handshake\u001b[0m\u001b[0;34m(\u001b[0m\u001b[0;34m)\u001b[0m\u001b[0;34m\u001b[0m\u001b[0;34m\u001b[0m\u001b[0m\n\u001b[0m\u001b[1;32m   1140\u001b[0m         \u001b[0;32mfinally\u001b[0m\u001b[0;34m:\u001b[0m\u001b[0;34m\u001b[0m\u001b[0;34m\u001b[0m\u001b[0m\n\u001b[1;32m   1141\u001b[0m             \u001b[0mself\u001b[0m\u001b[0;34m.\u001b[0m\u001b[0msettimeout\u001b[0m\u001b[0;34m(\u001b[0m\u001b[0mtimeout\u001b[0m\u001b[0;34m)\u001b[0m\u001b[0;34m\u001b[0m\u001b[0;34m\u001b[0m\u001b[0m\n",
            "\u001b[0;31mKeyboardInterrupt\u001b[0m: "
          ]
        }
      ],
      "source": [
        "# Country\n",
        "\n",
        "from geopy.geocoders import Nominatim\n",
        "from tqdm import tqdm\n",
        "geolocator = Nominatim(user_agent = 'my_user_agent')\n",
        "\n",
        "countries = np.unique(data_2016['country'])\n",
        "latitudes = []\n",
        "longitudes = []\n",
        "\n",
        "for country in tqdm(countries):\n",
        "    coordinates = geolocator.geocode(country)\n",
        "    latitudes.append(coordinates.latitude)\n",
        "    longitudes.append(coordinates.longitude)"
      ]
    },
    {
      "cell_type": "code",
      "execution_count": null,
      "metadata": {
        "id": "nFArwpvlZIT4"
      },
      "outputs": [],
      "source": [
        "data_2016['latitudes'] = ''\n",
        "data_2016['longitudes'] = ''\n",
        "for i in range(len(data_2016)):\n",
        "    country = data_2016['country'].iloc[i]\n",
        "    index = np.where(country == countries)[0][0]\n",
        "    #print(index[0])\n",
        "    data_2016['latitudes'].iloc[i] = latitudes[index]\n",
        "    data_2016['longitudes'].iloc[i] = longitudes[index]"
      ]
    },
    {
      "cell_type": "markdown",
      "metadata": {
        "id": "E57EqrHUcwXO"
      },
      "source": [
        "## Categorical Features"
      ]
    },
    {
      "cell_type": "code",
      "execution_count": null,
      "metadata": {
        "id": "HDhReCsBKaNc"
      },
      "outputs": [],
      "source": [
        "all_answers = []\n",
        "for i in range(len(data_2016)):\n",
        "    one_answer = data_2016['education'].iloc[i].split(\"; \")\n",
        "    for education in one_answer:\n",
        "        all_answers.append(education)\n",
        "education_types = list(set(all_answers))"
      ]
    },
    {
      "cell_type": "code",
      "execution_count": null,
      "metadata": {
        "id": "lvV88905QLfH"
      },
      "outputs": [],
      "source": [
        "education_types"
      ]
    },
    {
      "cell_type": "code",
      "execution_count": null,
      "metadata": {
        "id": "kD3y7UuvQxLZ"
      },
      "outputs": [],
      "source": [
        "for education in education_types:\n",
        "    data_2016[education] = ''\n",
        "    for i in range(len(data_2016)):      \n",
        "        data_2016[education].iloc[i] = data_2016['education'].iloc[i].count(education)"
      ]
    },
    {
      "cell_type": "code",
      "execution_count": null,
      "metadata": {
        "id": "NYrqTxev4Zpa"
      },
      "outputs": [],
      "source": [
        "# Gender\n",
        "print(np.unique(data_2016['gender'], return_counts = True))\n",
        "data_2016 = data_2016.drop(data_2016[data_2016['gender'] == 'Prefer not to disclose'].index, axis = 0)"
      ]
    },
    {
      "cell_type": "code",
      "execution_count": null,
      "metadata": {
        "id": "uAbmdRkbeTMA"
      },
      "outputs": [],
      "source": [
        "# Occupation group\n",
        "print(np.unique(data_2016['occupation_group'], return_counts = True))\n",
        "# Student, employee, manger\n",
        "data_2016['student'] = data_2016['occupation_group'].str.count('Student')\n",
        "data_2016['executive'] = data_2016['occupation_group'].str.count('Executive')\n",
        "data_2016['manager'] = data_2016['occupation_group'].str.count('manager')\n",
        "data_2016['employee'] = 1 - data_2016['student'] - data_2016['executive'] - data_2016['manager']\n"
      ]
    },
    {
      "cell_type": "code",
      "execution_count": null,
      "metadata": {
        "id": "jyPs-97UfUiY"
      },
      "outputs": [],
      "source": [
        "print(sum(data_2016['student']), sum(data_2016['executive']), sum(data_2016['manager']), sum(data_2016['employee']))"
      ]
    },
    {
      "cell_type": "code",
      "execution_count": null,
      "metadata": {
        "id": "MOclHNl_bCKj"
      },
      "outputs": [],
      "source": [
        "# industry\n",
        "\n",
        "print(np.unique(data_2016['industry'], return_counts = True))\n",
        "data_2016 = data_2016.drop(data_2016[data_2016['industry'] == \"I'm a student\"].index, axis = 0)\n",
        "data_2016 = data_2016.drop(data_2016[data_2016['industry'] == 'Not Currently Employed'].index, axis = 0)"
      ]
    },
    {
      "cell_type": "code",
      "execution_count": null,
      "metadata": {
        "id": "EsYkKhtCc0JF"
      },
      "outputs": [],
      "source": [
        "# company_size_range\n",
        "\n",
        "print(np.unique(data_2016['company_size_range'], return_counts = True))\n",
        "data_2016['company_size_range'] = data_2016['company_size_range'].replace('I am not part of a company', 'I am not sure')\n",
        "data_2016 = data_2016.drop(data_2016[data_2016['company_size_range'] == 'I am not sure'].index, axis = 0)"
      ]
    },
    {
      "cell_type": "code",
      "execution_count": null,
      "metadata": {
        "id": "XxWuunzry_la"
      },
      "outputs": [],
      "source": [
        "# remote\n",
        "np.unique(data_2016['remote'], return_counts = True)\n",
        "data_2016['remote'] = data_2016['remote'].replace('I rarely work remotely', 'Never')"
      ]
    },
    {
      "cell_type": "markdown",
      "metadata": {
        "id": "hnXMPz9OGyKY"
      },
      "source": [
        "\n",
        "\n",
        "```\n",
        "# job_satisfaction\n",
        "print(np.unique(data_2016['job_satisfaction']))\n",
        "data_2016 = data_2016.drop(data_2016[data_2016['job_satisfaction'] == \"I don't have a job\"].index, axis = 0)\n",
        "data_2016['job_satisfaction'] = data_2016['job_satisfaction'].replace({'I hate my job': -2,\n",
        "                                                                       \"I'm somewhat dissatisfied with my job\": -1,\n",
        "                                                                       \"I'm neither satisfied nor dissatisfied\": 0,\n",
        "                                                                       \"I'm somewhat satisfied with my job\": 1,\n",
        "                                                                       'I love my job': 2})\n",
        "```\n",
        "\n"
      ]
    },
    {
      "cell_type": "code",
      "execution_count": null,
      "metadata": {
        "id": "M0bzZP8UvnZ7"
      },
      "outputs": [],
      "source": [
        "# job_satisfaction\n",
        "print(np.unique(data_2016['job_satisfaction'], return_counts = True))\n",
        "data_2016 = data_2016.drop(data_2016[data_2016['job_satisfaction'] == \"I don't have a job\"].index, axis = 0)\n",
        "data_2016['job_satisfaction'] = data_2016['job_satisfaction'].replace({'I hate my job': -2,\n",
        "                                                                       \"I'm somewhat dissatisfied with my job\": -1,\n",
        "                                                                       \"I'm neither satisfied nor dissatisfied\": 0,\n",
        "                                                                       \"I'm somewhat satisfied with my job\": 1,\n",
        "                                                                       'I love my job': 2})"
      ]
    },
    {
      "cell_type": "code",
      "execution_count": null,
      "metadata": {
        "id": "KM8bNNTKi2qw"
      },
      "outputs": [],
      "source": [
        "print(np.unique(data_2016['employment_status'], return_counts = True))\n",
        "data_2016 = data_2016.drop(data_2016[data_2016['employment_status'] == \"Prefer not to disclose\"].index, axis = 0)\n",
        "data_2016 = data_2016.drop(data_2016[data_2016['employment_status'] == 'Unemployed'].index, axis = 0)"
      ]
    },
    {
      "cell_type": "code",
      "execution_count": null,
      "metadata": {
        "id": "A88d-lZhcarB"
      },
      "outputs": [],
      "source": [
        ""
      ]
    },
    {
      "cell_type": "code",
      "execution_count": null,
      "metadata": {
        "id": "46P7rzIWccU9"
      },
      "outputs": [],
      "source": [
        "print(np.unique(data_2016['job_discovery'], return_counts = True))\n",
        "data_2016 = data_2016.drop(data_2016[data_2016['job_discovery'] == \"I don't have a job\"].index, axis = 0)"
      ]
    },
    {
      "cell_type": "code",
      "execution_count": null,
      "metadata": {
        "id": "Gz90qCLvrBKC"
      },
      "outputs": [],
      "source": [
        "data_2016['exp/age'] = data_2016['experience_midpoint'] / data_2016['age_midpoint']"
      ]
    },
    {
      "cell_type": "code",
      "execution_count": null,
      "metadata": {
        "id": "vSKSCNUjpIYT"
      },
      "outputs": [],
      "source": [
        "data_2016[['latitudes', 'longitudes']] = data_2016[['latitudes', 'longitudes']].astype(float)"
      ]
    },
    {
      "cell_type": "code",
      "execution_count": null,
      "metadata": {
        "id": "aUVxVwrjlSvq"
      },
      "outputs": [],
      "source": [
        "data_2016[education_types] = data_2016[education_types].astype(float)"
      ]
    },
    {
      "cell_type": "code",
      "execution_count": null,
      "metadata": {
        "id": "q8cfItItgCI5"
      },
      "outputs": [],
      "source": [
        "cat_features = ['occupation_group', 'company_size_range', 'employment_status', 'gender', 'remote',\n",
        "                'industry', 'important_promotion', 'important_companymission',\n",
        "                'job_discovery', 'hobby', 'open_to_new_job', 'agree_loveboss']\n",
        "data_2016 = pd.get_dummies(data = data_2016, columns = cat_features, prefix = None)"
      ]
    },
    {
      "cell_type": "code",
      "execution_count": null,
      "metadata": {
        "id": "9f1r7AGBkh_F"
      },
      "outputs": [],
      "source": [
        "data_2016.corr().head(50)"
      ]
    },
    {
      "cell_type": "markdown",
      "metadata": {
        "id": "8i6IACUrhJSQ"
      },
      "source": [
        "\n",
        "\n",
        "```\n",
        "# save cleaned data\n",
        "data_2016.to_csv('drive/MyDrive/datasets/DS salary/2016/data_2016.csv', index = False)\n",
        "```\n",
        "\n"
      ]
    },
    {
      "cell_type": "code",
      "execution_count": null,
      "metadata": {
        "id": "oHfbVwaRk4of"
      },
      "outputs": [],
      "source": [
        ""
      ]
    },
    {
      "cell_type": "code",
      "execution_count": null,
      "metadata": {
        "id": "QyBhBOgzwlbF"
      },
      "outputs": [],
      "source": [
        "pd.read_csv('drive/MyDrive/datasets/DS salary/2016/data_2016.csv')"
      ]
    },
    {
      "cell_type": "markdown",
      "metadata": {
        "id": "tpTft123kuEa"
      },
      "source": [
        "# Labeling, Splitting and Scaling"
      ]
    },
    {
      "cell_type": "code",
      "execution_count": 6,
      "metadata": {
        "id": "fr98J0aehH3v"
      },
      "outputs": [],
      "source": [
        "# load cleaned data\n",
        "data_2016 = pd.read_csv('drive/MyDrive/datasets/DS salary/2016/data_2016.csv')"
      ]
    },
    {
      "cell_type": "code",
      "execution_count": 7,
      "metadata": {
        "id": "GyzFNd6ontJO",
        "colab": {
          "base_uri": "https://localhost:8080/",
          "height": 387
        },
        "outputId": "a272d56f-2545-4934-8ab8-ddde18b6cb56"
      },
      "outputs": [
        {
          "output_type": "execute_result",
          "data": {
            "text/plain": [
              "<seaborn.axisgrid.FacetGrid at 0x7f8cb88ab110>"
            ]
          },
          "metadata": {},
          "execution_count": 7
        },
        {
          "output_type": "display_data",
          "data": {
            "image/png": "[encoded data removed]",
            "text/plain": [
              "<Figure size 360x360 with 1 Axes>"
            ]
          },
          "metadata": {}
        }
      ],
      "source": [
        "sns.displot(data_2016['salary_midpoint'])"
      ]
    },
    {
      "cell_type": "code",
      "execution_count": 8,
      "metadata": {
        "id": "1FT0u0yQk8rB",
        "colab": {
          "base_uri": "https://localhost:8080/"
        },
        "outputId": "8193da90-3fd0-49db-b6f3-2b516429c6c4"
      },
      "outputs": [
        {
          "output_type": "execute_result",
          "data": {
            "text/plain": [
              "array([0.2309949 , 0.54655612, 0.22244898])"
            ]
          },
          "metadata": {},
          "execution_count": 8
        }
      ],
      "source": [
        "data_2016['salary_label'] = pd.cut(data_2016['salary_midpoint'],\n",
        "                                   bins = [-1, 15000, 85000, np.inf],\n",
        "                                   labels = [1, 2, 3])\n",
        "_, num_labels = np.unique(data_2016['salary_label'], return_counts = True)\n",
        "num_labels / len(data_2016)"
      ]
    },
    {
      "cell_type": "code",
      "execution_count": 9,
      "metadata": {
        "id": "qbVOotLe5Xls",
        "colab": {
          "base_uri": "https://localhost:8080/"
        },
        "outputId": "622afcdd-8ab0-435e-f9b5-66c5642b5e74"
      },
      "outputs": [
        {
          "output_type": "execute_result",
          "data": {
            "text/plain": [
              "array([0.11377551, 0.11721939, 0.09243197, 0.0889881 , 0.08715986,\n",
              "       0.08609694, 0.07653061, 0.06721939, 0.04812925, 0.04366497,\n",
              "       0.04417517, 0.02916667, 0.02397959, 0.01696429, 0.01530612,\n",
              "       0.01267007, 0.00854592, 0.00535714, 0.00331633, 0.00314626,\n",
              "       0.01615646])"
            ]
          },
          "metadata": {},
          "execution_count": 9
        }
      ],
      "source": [
        "np.unique(data_2016['salary_midpoint'], return_counts = True)[1] / len(data_2016)"
      ]
    },
    {
      "cell_type": "code",
      "execution_count": 10,
      "metadata": {
        "id": "AbQdsnfrlyru"
      },
      "outputs": [],
      "source": [
        "from sklearn.model_selection import StratifiedShuffleSplit\n",
        "\n",
        "sss1 = StratifiedShuffleSplit(n_splits = 1, test_size = 0.4, random_state = 42)\n",
        "\n",
        "X_all = np.array(data_2016.drop(['country', 'education', 'salary_midpoint', 'salary_label'], axis = 1))\n",
        "salary_label = np.array(data_2016['salary_label'])\n",
        "\n",
        "for train_index, cross_index in sss1.split(X_all, data_2016['salary_label']):\n",
        "    # print(train_index)\n",
        "    train_set, label_train_set = X_all[train_index], salary_label[train_index]\n",
        "    cross_set, label_cross_set = X_all[cross_index], salary_label[cross_index]\n",
        "\n",
        "sss2 = StratifiedShuffleSplit(n_splits = 1, test_size = 0.5, random_state = 42)\n",
        "\n",
        "for val_index, test_index in sss2.split(cross_set, label_cross_set):\n",
        "    val_set, label_val_set = cross_set[val_index], label_cross_set[val_index]\n",
        "    test_set, label_test_set = cross_set[test_index], label_cross_set[test_index]"
      ]
    },
    {
      "cell_type": "markdown",
      "metadata": {
        "id": "wx2Cus55GWls"
      },
      "source": [
        "# Over sampling and Model Selection"
      ]
    },
    {
      "cell_type": "markdown",
      "metadata": {
        "id": "rb-fbP-rOqKL"
      },
      "source": [
        "I tried a couple of classifiers, namely KNeighbor, Stochastic Gradient Descent, Random Forest, AdaBoost and Random Forest did the best so I picked this algorithm."
      ]
    },
    {
      "cell_type": "code",
      "execution_count": 11,
      "metadata": {
        "id": "qEXFG5qy6Eso"
      },
      "outputs": [],
      "source": [
        "from sklearn.preprocessing import StandardScaler\n",
        "SS = StandardScaler()\n",
        "\n",
        "X_train, X_test = SS.fit_transform(train_set), SS.transform(test_set)\n",
        "Y_train, Y_test = label_train_set, label_test_set"
      ]
    },
    {
      "cell_type": "code",
      "execution_count": 12,
      "metadata": {
        "id": "20nIdkB8GZ4D"
      },
      "outputs": [],
      "source": [
        "from imblearn.over_sampling import SMOTE\n",
        "\n",
        "over_sample = SMOTE(random_state = 42)\n",
        "X_smote, Y_smote = over_sample.fit_resample(X_train, Y_train)"
      ]
    },
    {
      "cell_type": "code",
      "execution_count": 13,
      "metadata": {
        "colab": {
          "base_uri": "https://localhost:8080/"
        },
        "id": "KsH1GO6bTn5G",
        "outputId": "d1aaff84-9664-4e9e-f265-1790b6fd3be5"
      },
      "outputs": [
        {
          "output_type": "execute_result",
          "data": {
            "text/plain": [
              "(array([1, 2, 3]), array([7713, 7713, 7713]))"
            ]
          },
          "metadata": {},
          "execution_count": 13
        }
      ],
      "source": [
        "np.unique(Y_smote, return_counts = True)"
      ]
    },
    {
      "cell_type": "code",
      "execution_count": 14,
      "metadata": {
        "colab": {
          "base_uri": "https://localhost:8080/"
        },
        "id": "wbJRdV_hIm-e",
        "outputId": "77552db6-bb16-43f0-885d-109c93430452"
      },
      "outputs": [
        {
          "output_type": "execute_result",
          "data": {
            "text/plain": [
              "RandomForestClassifier(max_depth=50, min_samples_leaf=6, n_estimators=80,\n",
              "                       n_jobs=-1, random_state=42)"
            ]
          },
          "metadata": {},
          "execution_count": 14
        }
      ],
      "source": [
        "from sklearn.ensemble import RandomForestClassifier\n",
        "RFC = RandomForestClassifier(n_estimators = 80, random_state = 42, n_jobs = -1,\n",
        "                             max_features = 'auto', max_depth = 50, min_samples_leaf = 6)\n",
        "RFC.fit(X_smote, Y_smote)"
      ]
    },
    {
      "cell_type": "code",
      "execution_count": 15,
      "metadata": {
        "id": "9sSY1YOWKDWs"
      },
      "outputs": [],
      "source": [
        "from sklearn.metrics import accuracy_score, precision_score, confusion_matrix, f1_score\n",
        "\n",
        "def model_scores(model, x, y):\n",
        "\n",
        "    y_pred = model.predict(x)\n",
        "\n",
        "    accuracy = accuracy_score(y, y_pred)\n",
        "    precision = precision_score(y, y_pred, average = None)\n",
        "    confusing_matrix = confusion_matrix(y, y_pred)\n",
        "    confusing_matrix = pd.DataFrame(confusing_matrix)\n",
        "    f1 = f1_score(y, y_pred, average = 'weighted')\n",
        "\n",
        "    return accuracy, precision, confusing_matrix, f1"
      ]
    },
    {
      "cell_type": "code",
      "execution_count": 16,
      "metadata": {
        "colab": {
          "base_uri": "https://localhost:8080/"
        },
        "id": "HW21Yd7hKggF",
        "outputId": "d0552df7-8efd-4fbb-b942-773061691b87"
      },
      "outputs": [
        {
          "output_type": "stream",
          "name": "stdout",
          "text": [
            "0.891741216128614\n",
            "[0.92801376 0.82598216 0.92902252]\n",
            "      0     1     2\n",
            "0  7013   609    91\n",
            "1   433  6854   426\n",
            "2   111   835  6767\n",
            "0.8923805388415706\n"
          ]
        }
      ],
      "source": [
        "train_accuracy, train_precision, confusing_matrix, train_f1 = model_scores(RFC, X_smote, Y_smote)\n",
        "print(train_accuracy)\n",
        "print(train_precision)\n",
        "print(confusing_matrix)\n",
        "print(train_f1)"
      ]
    },
    {
      "cell_type": "code",
      "execution_count": 17,
      "metadata": {
        "colab": {
          "base_uri": "https://localhost:8080/"
        },
        "id": "6er11krwXCrl",
        "outputId": "5bb10d5c-fd26-4210-ab28-b868f870c0da"
      },
      "outputs": [
        {
          "output_type": "execute_result",
          "data": {
            "text/plain": [
              "array([0.7653575 , 0.74857347, 0.71113561])"
            ]
          },
          "metadata": {},
          "execution_count": 17
        }
      ],
      "source": [
        "test_accuracy, test_precision, confusing_matrix, test_f1 = model_scores(RFC, X_test, Y_test)\n",
        "test_precision"
      ]
    },
    {
      "cell_type": "code",
      "execution_count": 18,
      "metadata": {
        "colab": {
          "base_uri": "https://localhost:8080/"
        },
        "id": "isLPRJ03pJwu",
        "outputId": "93c31cba-951d-43b1-8c62-a8d0335e3144"
      },
      "outputs": [
        {
          "output_type": "execute_result",
          "data": {
            "text/plain": [
              "(113,)"
            ]
          },
          "metadata": {},
          "execution_count": 18
        }
      ],
      "source": [
        "feature_importances = RFC.feature_importances_\n",
        "RFC.feature_importances_.shape"
      ]
    },
    {
      "cell_type": "code",
      "execution_count": 19,
      "metadata": {
        "colab": {
          "base_uri": "https://localhost:8080/",
          "height": 1000
        },
        "id": "0c7iuMt_s8Bi",
        "outputId": "3e91e66e-d75f-42cf-8137-c40a130b00cf"
      },
      "outputs": [
        {
          "output_type": "display_data",
          "data": {
            "image/png": "[encoded data removed]",
            "text/plain": [
              "<Figure size 1440x2880 with 1 Axes>"
            ]
          },
          "metadata": {}
        }
      ],
      "source": [
        "final_features = data_2016.drop(['country', 'education', 'salary_midpoint', 'salary_label'], axis = 1).keys()\n",
        "plt.figure(figsize = (20, 40))\n",
        "indices = np.argsort(feature_importances)\n",
        "plt.barh(range(len(indices)), feature_importances[indices], color='b', align='center')\n",
        "plt.yticks(range(len(indices)), [final_features[i] for i in indices])\n",
        "plt.xlabel('Relative Importance')\n",
        "plt.show()"
      ]
    },
    {
      "cell_type": "markdown",
      "metadata": {
        "id": "LH7TwDXDyhz4"
      },
      "source": [
        "# Feature Selection"
      ]
    },
    {
      "cell_type": "markdown",
      "metadata": {
        "id": "duf4ijLVh2xi"
      },
      "source": [
        "### Using all features"
      ]
    },
    {
      "cell_type": "code",
      "execution_count": 53,
      "metadata": {
        "id": "e-Q-o5ZFdxUP"
      },
      "outputs": [],
      "source": [
        "data_2016 = pd.read_csv('drive/MyDrive/datasets/DS salary/2016/data_2016.csv')"
      ]
    },
    {
      "cell_type": "code",
      "execution_count": 54,
      "metadata": {
        "colab": {
          "base_uri": "https://localhost:8080/"
        },
        "id": "W9Ikx2VKaNQC",
        "outputId": "15b62e6c-3993-4003-d61c-8b94107250ef"
      },
      "outputs": [
        {
          "output_type": "execute_result",
          "data": {
            "text/plain": [
              "array([0.2309949 , 0.54655612, 0.22244898])"
            ]
          },
          "metadata": {},
          "execution_count": 54
        }
      ],
      "source": [
        "data_2016['salary_label'] = pd.cut(data_2016['salary_midpoint'],\n",
        "                                   bins = [-1, 15000, 85000, np.inf],\n",
        "                                   labels = [1, 2, 3])\n",
        "_, num_labels = np.unique(data_2016['salary_label'], return_counts = True)\n",
        "num_labels / len(data_2016)"
      ]
    },
    {
      "cell_type": "code",
      "execution_count": 55,
      "metadata": {
        "id": "zcr31HUCaNQD"
      },
      "outputs": [],
      "source": [
        "def split_and_smote(data):\n",
        "\n",
        "    from sklearn.model_selection import StratifiedShuffleSplit\n",
        "\n",
        "    sss1 = StratifiedShuffleSplit(n_splits = 1, test_size = 0.4, random_state = 42)\n",
        "\n",
        "    X_all = np.array(data.drop(['country', 'education', 'salary_midpoint', 'salary_label'], axis = 1))\n",
        "    salary_label = np.array(data['salary_label'])\n",
        "\n",
        "    for train_index, cross_index in sss1.split(X_all, data['salary_label']):\n",
        "        # print(train_index)\n",
        "        train_set, label_train_set = X_all[train_index], salary_label[train_index]\n",
        "        cross_set, label_cross_set = X_all[cross_index], salary_label[cross_index]\n",
        "\n",
        "    sss2 = StratifiedShuffleSplit(n_splits = 1, test_size = 0.5, random_state = 42)\n",
        "\n",
        "    for val_index, test_index in sss2.split(cross_set, label_cross_set):\n",
        "        val_set, label_val_set = cross_set[val_index], label_cross_set[val_index]\n",
        "        test_set, label_test_set = cross_set[test_index], label_cross_set[test_index]\n",
        "\n",
        "    from sklearn.preprocessing import StandardScaler\n",
        "    SS = StandardScaler()\n",
        "\n",
        "    X_train, X_val, X_test = SS.fit_transform(train_set), SS.transform(val_set), SS.transform(test_set)\n",
        "    Y_train, Y_val, Y_test = label_train_set, label_val_set, label_test_set\n",
        "\n",
        "    from imblearn.over_sampling import SMOTE\n",
        "\n",
        "    over_sample = SMOTE(random_state = 42)\n",
        "    X_smote, Y_smote = over_sample.fit_resample(X_train, Y_train)\n",
        "\n",
        "    return X_smote, Y_smote, X_train, X_val, X_test, Y_train, Y_val, Y_test\n"
      ]
    },
    {
      "cell_type": "code",
      "execution_count": 56,
      "metadata": {
        "id": "F-UQnApag9Vc",
        "colab": {
          "base_uri": "https://localhost:8080/"
        },
        "outputId": "a5d1407b-6de8-4881-f96c-8c5877e00485"
      },
      "outputs": [
        {
          "output_type": "stream",
          "name": "stdout",
          "text": [
            "(14112, 113) (4704, 113) (4704, 113)\n"
          ]
        },
        {
          "output_type": "execute_result",
          "data": {
            "text/plain": [
              "GradientBoostingClassifier(learning_rate=1, random_state=42)"
            ]
          },
          "metadata": {},
          "execution_count": 56
        }
      ],
      "source": [
        "X_smote, Y_smote, X_train, X_val, X_test, Y_train, Y_val, Y_test = split_and_smote(data_2016)\n",
        "print(X_train.shape, X_val.shape, X_test.shape)\n",
        "\n",
        "from sklearn.ensemble import GradientBoostingClassifier\n",
        "GBC_full = GradientBoostingClassifier(learning_rate = 1, random_state = 42)\n",
        "GBC_full.fit(X_smote, Y_smote)"
      ]
    },
    {
      "cell_type": "code",
      "execution_count": 57,
      "metadata": {
        "id": "RP8q_AI2hlO_"
      },
      "outputs": [],
      "source": [
        "_, train_precision, _, _ = model_scores(GBC_full, X_train, Y_train)\n",
        "_, val_precision, _, _ = model_scores(GBC_full, X_val, Y_val)\n",
        "_, test_precision, _, _ = model_scores(GBC_full, X_test, Y_test)\n",
        "\n",
        "precision_table = np.round(np.c_[train_precision, val_precision, test_precision], 2)\n",
        "rows = np.array(['train_set', 'val_set', 'test_set']).reshape(3, 1)\n",
        "precision_table = pd.DataFrame(np.hstack((rows, precision_table)), columns = ['set', 'label 1', 'label 2', 'label 3'])"
      ]
    },
    {
      "cell_type": "markdown",
      "metadata": {
        "id": "uGz5s-G4h8Hu"
      },
      "source": [
        "### Using 1/4 features"
      ]
    },
    {
      "cell_type": "code",
      "execution_count": 44,
      "metadata": {
        "colab": {
          "base_uri": "https://localhost:8080/"
        },
        "id": "uSO54i2mh0_C",
        "outputId": "f04d54fb-e44a-429c-e814-b43e57dc2de7"
      },
      "outputs": [
        {
          "output_type": "stream",
          "name": "stdout",
          "text": [
            "113\n"
          ]
        }
      ],
      "source": [
        "final_features = data_2016.drop(['country', 'education', 'salary_midpoint', 'salary_label'], axis = 1).keys()\n",
        "importances = GBC_full.feature_importances_\n",
        "feature_importances = np.c_[final_features, importances]\n",
        "print(len(final_features))\n",
        "\n",
        "indices = np.argsort(importances)\n",
        "drop_rate = 1/4\n",
        "drop_features = final_features[indices][:int(np.round(113*drop_rate))]"
      ]
    },
    {
      "cell_type": "code",
      "execution_count": 45,
      "metadata": {
        "colab": {
          "base_uri": "https://localhost:8080/"
        },
        "id": "VEhHShVWiylC",
        "outputId": "6093a7ac-e4a4-4ff9-c33d-e7bd8e610193"
      },
      "outputs": [
        {
          "output_type": "execute_result",
          "data": {
            "text/plain": [
              "(23520, 89)"
            ]
          },
          "metadata": {},
          "execution_count": 45
        }
      ],
      "source": [
        "copied_data = data_2016.copy()\n",
        "copied_data = copied_data.drop([feature for feature in drop_features], axis = 1)\n",
        "copied_data.shape"
      ]
    },
    {
      "cell_type": "code",
      "execution_count": 46,
      "metadata": {
        "colab": {
          "base_uri": "https://localhost:8080/"
        },
        "id": "vn4tQH2HZ8Ql",
        "outputId": "1373cedd-68c4-4458-d43e-2d3c4655b02a"
      },
      "outputs": [
        {
          "output_type": "stream",
          "name": "stdout",
          "text": [
            "(14112, 85) (4704, 85) (4704, 85)\n"
          ]
        },
        {
          "output_type": "execute_result",
          "data": {
            "text/plain": [
              "GradientBoostingClassifier(learning_rate=1)"
            ]
          },
          "metadata": {},
          "execution_count": 46
        }
      ],
      "source": [
        "X_smote, Y_smote, X_train, X_val, X_test, Y_train, Y_val, Y_test = split_and_smote(copied_data)\n",
        "print(X_train.shape, X_val.shape, X_test.shape)\n",
        "\n",
        "GBC_drop = GradientBoostingClassifier(learning_rate = 1)\n",
        "GBC_drop.fit(X_smote, Y_smote)"
      ]
    },
    {
      "cell_type": "code",
      "execution_count": 47,
      "metadata": {
        "id": "BSF9KetofmvB"
      },
      "outputs": [],
      "source": [
        "_, train_precision, _, _ = model_scores(GBC_drop, X_train, Y_train)\n",
        "_, val_precision, _, _ = model_scores(GBC_drop, X_val, Y_val)\n",
        "_, test_precision, _, _ = model_scores(GBC_drop, X_test, Y_test)\n",
        "\n",
        "precision_table = np.round(np.c_[train_precision, val_precision, test_precision], 2)\n",
        "rows = np.array(['train_set', 'val_set', 'test_set']).reshape(3, 1)\n",
        "precision_table = pd.DataFrame(np.hstack((rows, precision_table)), columns = ['set', 'label 1', 'label 2', 'label 3'])"
      ]
    },
    {
      "cell_type": "markdown",
      "metadata": {
        "id": "gpPpv_uEliNe"
      },
      "source": [
        "# Parameteres Tuning"
      ]
    },
    {
      "cell_type": "markdown",
      "source": [
        "### all features\n"
      ],
      "metadata": {
        "id": "1vaU2_njP1Ed"
      }
    },
    {
      "cell_type": "code",
      "execution_count": 58,
      "metadata": {
        "id": "nGQSf6BUliN9",
        "colab": {
          "base_uri": "https://localhost:8080/"
        },
        "outputId": "11d9357d-7a4e-40c4-eb36-09ebe45c20d8"
      },
      "outputs": [
        {
          "output_type": "execute_result",
          "data": {
            "text/plain": [
              "RandomizedSearchCV(cv=5,\n",
              "                   estimator=GradientBoostingClassifier(learning_rate=1,\n",
              "                                                        random_state=42),\n",
              "                   param_distributions={'learning_rate': [0.005, 0.01, 0.1, 1,\n",
              "                                                          2],\n",
              "                                        'n_estimators': array([815, 505, 681, 475, 567, 523, 807, 493, 861, 392])},\n",
              "                   scoring='f1_weighted')"
            ]
          },
          "metadata": {},
          "execution_count": 58
        }
      ],
      "source": [
        "from sklearn.model_selection import RandomizedSearchCV\n",
        "\n",
        "param_distributions = {'n_estimators': np.random.randint(200, 900, [10]),\n",
        "                       'learning_rate': [0.005, 0.01, 0.1, 1, 2]}\n",
        "random_search = RandomizedSearchCV(GBC_full, param_distributions = param_distributions, \n",
        "                                   scoring = 'f1_weighted', cv = 5, n_iter = 10)\n",
        "random_search.fit(X_val, Y_val)"
      ]
    },
    {
      "cell_type": "code",
      "execution_count": 59,
      "metadata": {
        "colab": {
          "base_uri": "https://localhost:8080/"
        },
        "id": "l3MnxCbYliN-",
        "outputId": "2fc8cf5b-df3d-4663-9db5-570df90b2793"
      },
      "outputs": [
        {
          "output_type": "stream",
          "name": "stdout",
          "text": [
            "{'n_estimators': 807, 'learning_rate': 0.1}\n"
          ]
        }
      ],
      "source": [
        "best_params = random_search.best_params_\n",
        "print(best_params)\n",
        "learning_rate = best_params['learning_rate']\n",
        "n_estimators = best_params['n_estimators']"
      ]
    },
    {
      "cell_type": "code",
      "execution_count": 60,
      "metadata": {
        "colab": {
          "base_uri": "https://localhost:8080/"
        },
        "id": "urlwJU3nliN_",
        "outputId": "046e2287-9ee1-40f1-cb42-bf621b2bd1ad"
      },
      "outputs": [
        {
          "output_type": "execute_result",
          "data": {
            "text/plain": [
              "GradientBoostingClassifier(n_estimators=807)"
            ]
          },
          "metadata": {},
          "execution_count": 60
        }
      ],
      "source": [
        "GBC_optimized = GradientBoostingClassifier(learning_rate = learning_rate, n_estimators = n_estimators)\n",
        "GBC_optimized.fit(X_smote, Y_smote)"
      ]
    },
    {
      "cell_type": "code",
      "execution_count": 61,
      "metadata": {
        "id": "TQb5wcaYliOA"
      },
      "outputs": [],
      "source": [
        "_, train_precision, _, f1_train = model_scores(GBC_optimized, X_train, Y_train)\n",
        "_, val_precision, _, f1_val = model_scores(GBC_optimized, X_val, Y_val)\n",
        "_, test_precision, _, f1_test = model_scores(GBC_optimized, X_test, Y_test)\n",
        "\n",
        "precision_table = np.c_[train_precision, val_precision, test_precision]\n",
        "f1_table = np.array([f1_train, f1_val, f1_test]).reshape(3, 1)\n",
        "pre_and_f1_table = np.round(np.c_[precision_table, f1_table], 2)\n",
        "rows = np.array(['train_set', 'val_set', 'test_set']).reshape(3, 1)\n",
        "pre_and_f1_table = pd.DataFrame(np.hstack((rows, pre_and_f1_table)), columns = ['set', 'label 1', 'label 2', 'label 3', 'f1_score'])"
      ]
    },
    {
      "cell_type": "code",
      "source": [
        "pre_and_f1_table"
      ],
      "metadata": {
        "colab": {
          "base_uri": "https://localhost:8080/",
          "height": 143
        },
        "id": "yp6rXtDCrf9u",
        "outputId": "7b06709c-842b-459e-bd29-fc7fe5a2ea83"
      },
      "execution_count": 62,
      "outputs": [
        {
          "output_type": "execute_result",
          "data": {
            "text/html": [
              "\n",
              "  <div id=\"df-c1e4b9e6-8f4e-4580-8f41-ba24388913b0\">\n",
              "    <div class=\"colab-df-container\">\n",
              "      <div>\n",
              "<style scoped>\n",
              "    .dataframe tbody tr th:only-of-type {\n",
              "        vertical-align: middle;\n",
              "    }\n",
              "\n",
              "    .dataframe tbody tr th {\n",
              "        vertical-align: top;\n",
              "    }\n",
              "\n",
              "    .dataframe thead th {\n",
              "        text-align: right;\n",
              "    }\n",
              "</style>\n",
              "<table border=\"1\" class=\"dataframe\">\n",
              "  <thead>\n",
              "    <tr style=\"text-align: right;\">\n",
              "      <th></th>\n",
              "      <th>set</th>\n",
              "      <th>label 1</th>\n",
              "      <th>label 2</th>\n",
              "      <th>label 3</th>\n",
              "      <th>f1_score</th>\n",
              "    </tr>\n",
              "  </thead>\n",
              "  <tbody>\n",
              "    <tr>\n",
              "      <th>0</th>\n",
              "      <td>train_set</td>\n",
              "      <td>0.87</td>\n",
              "      <td>0.78</td>\n",
              "      <td>0.78</td>\n",
              "      <td>0.86</td>\n",
              "    </tr>\n",
              "    <tr>\n",
              "      <th>1</th>\n",
              "      <td>val_set</td>\n",
              "      <td>0.86</td>\n",
              "      <td>0.78</td>\n",
              "      <td>0.78</td>\n",
              "      <td>0.77</td>\n",
              "    </tr>\n",
              "    <tr>\n",
              "      <th>2</th>\n",
              "      <td>test_set</td>\n",
              "      <td>0.85</td>\n",
              "      <td>0.74</td>\n",
              "      <td>0.74</td>\n",
              "      <td>0.77</td>\n",
              "    </tr>\n",
              "  </tbody>\n",
              "</table>\n",
              "</div>\n",
              "      <button class=\"colab-df-convert\" onclick=\"convertToInteractive('df-c1e4b9e6-8f4e-4580-8f41-ba24388913b0')\"\n",
              "              title=\"Convert this dataframe to an interactive table.\"\n",
              "              style=\"display:none;\">\n",
              "        \n",
              "  <svg xmlns=\"http://www.w3.org/2000/svg\" height=\"24px\"viewBox=\"0 0 24 24\"\n",
              "       width=\"24px\">\n",
              "    <path d=\"M0 0h24v24H0V0z\" fill=\"none\"/>\n",
              "    <path d=\"M18.56 5.44l.94 2.06.94-2.06 2.06-.94-2.06-.94-.94-2.06-.94 2.06-2.06.94zm-11 1L8.5 8.5l.94-2.06 2.06-.94-2.06-.94L8.5 2.5l-.94 2.06-2.06.94zm10 10l.94 2.06.94-2.06 2.06-.94-2.06-.94-.94-2.06-.94 2.06-2.06.94z\"/><path d=\"M17.41 7.96l-1.37-1.37c-.4-.4-.92-.59-1.43-.59-.52 0-1.04.2-1.43.59L10.3 9.45l-7.72 7.72c-.78.78-.78 2.05 0 2.83L4 21.41c.39.39.9.59 1.41.59.51 0 1.02-.2 1.41-.59l7.78-7.78 2.81-2.81c.8-.78.8-2.07 0-2.86zM5.41 20L4 18.59l7.72-7.72 1.47 1.35L5.41 20z\"/>\n",
              "  </svg>\n",
              "      </button>\n",
              "      \n",
              "  <style>\n",
              "    .colab-df-container {\n",
              "      display:flex;\n",
              "      flex-wrap:wrap;\n",
              "      gap: 12px;\n",
              "    }\n",
              "\n",
              "    .colab-df-convert {\n",
              "      background-color: #E8F0FE;\n",
              "      border: none;\n",
              "      border-radius: 50%;\n",
              "      cursor: pointer;\n",
              "      display: none;\n",
              "      fill: #1967D2;\n",
              "      height: 32px;\n",
              "      padding: 0 0 0 0;\n",
              "      width: 32px;\n",
              "    }\n",
              "\n",
              "    .colab-df-convert:hover {\n",
              "      background-color: #E2EBFA;\n",
              "      box-shadow: 0px 1px 2px rgba(60, 64, 67, 0.3), 0px 1px 3px 1px rgba(60, 64, 67, 0.15);\n",
              "      fill: #174EA6;\n",
              "    }\n",
              "\n",
              "    [theme=dark] .colab-df-convert {\n",
              "      background-color: #3B4455;\n",
              "      fill: #D2E3FC;\n",
              "    }\n",
              "\n",
              "    [theme=dark] .colab-df-convert:hover {\n",
              "      background-color: #434B5C;\n",
              "      box-shadow: 0px 1px 3px 1px rgba(0, 0, 0, 0.15);\n",
              "      filter: drop-shadow(0px 1px 2px rgba(0, 0, 0, 0.3));\n",
              "      fill: #FFFFFF;\n",
              "    }\n",
              "  </style>\n",
              "\n",
              "      <script>\n",
              "        const buttonEl =\n",
              "          document.querySelector('#df-c1e4b9e6-8f4e-4580-8f41-ba24388913b0 button.colab-df-convert');\n",
              "        buttonEl.style.display =\n",
              "          google.colab.kernel.accessAllowed ? 'block' : 'none';\n",
              "\n",
              "        async function convertToInteractive(key) {\n",
              "          const element = document.querySelector('#df-c1e4b9e6-8f4e-4580-8f41-ba24388913b0');\n",
              "          const dataTable =\n",
              "            await google.colab.kernel.invokeFunction('convertToInteractive',\n",
              "                                                     [key], {});\n",
              "          if (!dataTable) return;\n",
              "\n",
              "          const docLinkHtml = 'Like what you see? Visit the ' +\n",
              "            '<a target=\"_blank\" href=https://colab.research.google.com/notebooks/data_table.ipynb>data table notebook</a>'\n",
              "            + ' to learn more about interactive tables.';\n",
              "          element.innerHTML = '';\n",
              "          dataTable['output_type'] = 'display_data';\n",
              "          await google.colab.output.renderOutput(dataTable, element);\n",
              "          const docLink = document.createElement('div');\n",
              "          docLink.innerHTML = docLinkHtml;\n",
              "          element.appendChild(docLink);\n",
              "        }\n",
              "      </script>\n",
              "    </div>\n",
              "  </div>\n",
              "  "
            ],
            "text/plain": [
              "         set label 1 label 2 label 3 f1_score\n",
              "0  train_set    0.87    0.78    0.78     0.86\n",
              "1    val_set    0.86    0.78    0.78     0.77\n",
              "2   test_set    0.85    0.74    0.74     0.77"
            ]
          },
          "metadata": {},
          "execution_count": 62
        }
      ]
    },
    {
      "cell_type": "markdown",
      "source": [
        "### 1/4 features"
      ],
      "metadata": {
        "id": "UO61L2hBQE7p"
      }
    },
    {
      "cell_type": "code",
      "execution_count": 48,
      "metadata": {
        "colab": {
          "base_uri": "https://localhost:8080/"
        },
        "outputId": "768da5b5-c5d9-4729-d38d-4080b04c79bc",
        "id": "3hTQ6CvFQH1Z"
      },
      "outputs": [
        {
          "output_type": "execute_result",
          "data": {
            "text/plain": [
              "RandomizedSearchCV(cv=5, estimator=GradientBoostingClassifier(learning_rate=1),\n",
              "                   param_distributions={'learning_rate': [0.005, 0.01, 0.1, 1,\n",
              "                                                          2],\n",
              "                                        'n_estimators': array([348, 587, 302, 614, 241, 217, 216, 555, 507, 637])},\n",
              "                   scoring='f1_weighted')"
            ]
          },
          "metadata": {},
          "execution_count": 48
        }
      ],
      "source": [
        "from sklearn.model_selection import RandomizedSearchCV\n",
        "\n",
        "param_distributions = {'n_estimators': np.random.randint(200, 900, [10]),\n",
        "                       'learning_rate': [0.005, 0.01, 0.1, 1, 2]}\n",
        "random_search = RandomizedSearchCV(GBC_drop, param_distributions = param_distributions, \n",
        "                                   scoring = 'f1_weighted', cv = 5, n_iter = 10)\n",
        "random_search.fit(X_val, Y_val)"
      ]
    },
    {
      "cell_type": "code",
      "execution_count": 49,
      "metadata": {
        "colab": {
          "base_uri": "https://localhost:8080/"
        },
        "outputId": "cfe9c186-3d5c-4c9e-dd2a-83394f50a45a",
        "id": "hzZLBQ25QH1a"
      },
      "outputs": [
        {
          "output_type": "stream",
          "name": "stdout",
          "text": [
            "{'n_estimators': 216, 'learning_rate': 0.1}\n"
          ]
        }
      ],
      "source": [
        "best_params = random_search.best_params_\n",
        "print(best_params)\n",
        "learning_rate = best_params['learning_rate']\n",
        "n_estimators = best_params['n_estimators']"
      ]
    },
    {
      "cell_type": "code",
      "execution_count": 50,
      "metadata": {
        "colab": {
          "base_uri": "https://localhost:8080/"
        },
        "id": "e450J4BLQH1b",
        "outputId": "33eeb9c1-e863-4f30-ed58-d76fc8f37d05"
      },
      "outputs": [
        {
          "output_type": "execute_result",
          "data": {
            "text/plain": [
              "GradientBoostingClassifier(n_estimators=216)"
            ]
          },
          "metadata": {},
          "execution_count": 50
        }
      ],
      "source": [
        "GBC_optimized = GradientBoostingClassifier(learning_rate = learning_rate, n_estimators = n_estimators)\n",
        "GBC_optimized.fit(X_smote, Y_smote)"
      ]
    },
    {
      "cell_type": "code",
      "execution_count": 51,
      "metadata": {
        "id": "Pua5u2RIQH1b"
      },
      "outputs": [],
      "source": [
        "_, train_precision, _, f1_train = model_scores(GBC_optimized, X_train, Y_train)\n",
        "_, val_precision, _, f1_val = model_scores(GBC_optimized, X_val, Y_val)\n",
        "_, test_precision, _, f1_test = model_scores(GBC_optimized, X_test, Y_test)\n",
        "\n",
        "precision_table = np.c_[train_precision, val_precision, test_precision]\n",
        "f1_table = np.array([f1_train, f1_val, f1_test]).reshape(3, 1)\n",
        "pre_and_f1_table = np.round(np.c_[precision_table, f1_table], 2)\n",
        "rows = np.array(['train_set', 'val_set', 'test_set']).reshape(3, 1)\n",
        "pre_and_f1_table = pd.DataFrame(np.hstack((rows, pre_and_f1_table)), columns = ['set', 'label 1', 'label 2', 'label 3', 'f1_score'])"
      ]
    },
    {
      "cell_type": "code",
      "source": [
        "pre_and_f1_table"
      ],
      "metadata": {
        "colab": {
          "base_uri": "https://localhost:8080/",
          "height": 143
        },
        "id": "J6y8yktMcUhT",
        "outputId": "e25d49f9-1dc7-497f-c171-0adf5b1abc3b"
      },
      "execution_count": 52,
      "outputs": [
        {
          "output_type": "execute_result",
          "data": {
            "text/html": [
              "\n",
              "  <div id=\"df-536218ab-4c6d-41ed-b469-4e764b9ce69e\">\n",
              "    <div class=\"colab-df-container\">\n",
              "      <div>\n",
              "<style scoped>\n",
              "    .dataframe tbody tr th:only-of-type {\n",
              "        vertical-align: middle;\n",
              "    }\n",
              "\n",
              "    .dataframe tbody tr th {\n",
              "        vertical-align: top;\n",
              "    }\n",
              "\n",
              "    .dataframe thead th {\n",
              "        text-align: right;\n",
              "    }\n",
              "</style>\n",
              "<table border=\"1\" class=\"dataframe\">\n",
              "  <thead>\n",
              "    <tr style=\"text-align: right;\">\n",
              "      <th></th>\n",
              "      <th>set</th>\n",
              "      <th>label 1</th>\n",
              "      <th>label 2</th>\n",
              "      <th>label 3</th>\n",
              "      <th>f1_score</th>\n",
              "    </tr>\n",
              "  </thead>\n",
              "  <tbody>\n",
              "    <tr>\n",
              "      <th>0</th>\n",
              "      <td>train_set</td>\n",
              "      <td>0.8</td>\n",
              "      <td>0.78</td>\n",
              "      <td>0.79</td>\n",
              "      <td>0.8</td>\n",
              "    </tr>\n",
              "    <tr>\n",
              "      <th>1</th>\n",
              "      <td>val_set</td>\n",
              "      <td>0.8</td>\n",
              "      <td>0.77</td>\n",
              "      <td>0.78</td>\n",
              "      <td>0.77</td>\n",
              "    </tr>\n",
              "    <tr>\n",
              "      <th>2</th>\n",
              "      <td>test_set</td>\n",
              "      <td>0.78</td>\n",
              "      <td>0.74</td>\n",
              "      <td>0.76</td>\n",
              "      <td>0.78</td>\n",
              "    </tr>\n",
              "  </tbody>\n",
              "</table>\n",
              "</div>\n",
              "      <button class=\"colab-df-convert\" onclick=\"convertToInteractive('df-536218ab-4c6d-41ed-b469-4e764b9ce69e')\"\n",
              "              title=\"Convert this dataframe to an interactive table.\"\n",
              "              style=\"display:none;\">\n",
              "        \n",
              "  <svg xmlns=\"http://www.w3.org/2000/svg\" height=\"24px\"viewBox=\"0 0 24 24\"\n",
              "       width=\"24px\">\n",
              "    <path d=\"M0 0h24v24H0V0z\" fill=\"none\"/>\n",
              "    <path d=\"M18.56 5.44l.94 2.06.94-2.06 2.06-.94-2.06-.94-.94-2.06-.94 2.06-2.06.94zm-11 1L8.5 8.5l.94-2.06 2.06-.94-2.06-.94L8.5 2.5l-.94 2.06-2.06.94zm10 10l.94 2.06.94-2.06 2.06-.94-2.06-.94-.94-2.06-.94 2.06-2.06.94z\"/><path d=\"M17.41 7.96l-1.37-1.37c-.4-.4-.92-.59-1.43-.59-.52 0-1.04.2-1.43.59L10.3 9.45l-7.72 7.72c-.78.78-.78 2.05 0 2.83L4 21.41c.39.39.9.59 1.41.59.51 0 1.02-.2 1.41-.59l7.78-7.78 2.81-2.81c.8-.78.8-2.07 0-2.86zM5.41 20L4 18.59l7.72-7.72 1.47 1.35L5.41 20z\"/>\n",
              "  </svg>\n",
              "      </button>\n",
              "      \n",
              "  <style>\n",
              "    .colab-df-container {\n",
              "      display:flex;\n",
              "      flex-wrap:wrap;\n",
              "      gap: 12px;\n",
              "    }\n",
              "\n",
              "    .colab-df-convert {\n",
              "      background-color: #E8F0FE;\n",
              "      border: none;\n",
              "      border-radius: 50%;\n",
              "      cursor: pointer;\n",
              "      display: none;\n",
              "      fill: #1967D2;\n",
              "      height: 32px;\n",
              "      padding: 0 0 0 0;\n",
              "      width: 32px;\n",
              "    }\n",
              "\n",
              "    .colab-df-convert:hover {\n",
              "      background-color: #E2EBFA;\n",
              "      box-shadow: 0px 1px 2px rgba(60, 64, 67, 0.3), 0px 1px 3px 1px rgba(60, 64, 67, 0.15);\n",
              "      fill: #174EA6;\n",
              "    }\n",
              "\n",
              "    [theme=dark] .colab-df-convert {\n",
              "      background-color: #3B4455;\n",
              "      fill: #D2E3FC;\n",
              "    }\n",
              "\n",
              "    [theme=dark] .colab-df-convert:hover {\n",
              "      background-color: #434B5C;\n",
              "      box-shadow: 0px 1px 3px 1px rgba(0, 0, 0, 0.15);\n",
              "      filter: drop-shadow(0px 1px 2px rgba(0, 0, 0, 0.3));\n",
              "      fill: #FFFFFF;\n",
              "    }\n",
              "  </style>\n",
              "\n",
              "      <script>\n",
              "        const buttonEl =\n",
              "          document.querySelector('#df-536218ab-4c6d-41ed-b469-4e764b9ce69e button.colab-df-convert');\n",
              "        buttonEl.style.display =\n",
              "          google.colab.kernel.accessAllowed ? 'block' : 'none';\n",
              "\n",
              "        async function convertToInteractive(key) {\n",
              "          const element = document.querySelector('#df-536218ab-4c6d-41ed-b469-4e764b9ce69e');\n",
              "          const dataTable =\n",
              "            await google.colab.kernel.invokeFunction('convertToInteractive',\n",
              "                                                     [key], {});\n",
              "          if (!dataTable) return;\n",
              "\n",
              "          const docLinkHtml = 'Like what you see? Visit the ' +\n",
              "            '<a target=\"_blank\" href=https://colab.research.google.com/notebooks/data_table.ipynb>data table notebook</a>'\n",
              "            + ' to learn more about interactive tables.';\n",
              "          element.innerHTML = '';\n",
              "          dataTable['output_type'] = 'display_data';\n",
              "          await google.colab.output.renderOutput(dataTable, element);\n",
              "          const docLink = document.createElement('div');\n",
              "          docLink.innerHTML = docLinkHtml;\n",
              "          element.appendChild(docLink);\n",
              "        }\n",
              "      </script>\n",
              "    </div>\n",
              "  </div>\n",
              "  "
            ],
            "text/plain": [
              "         set label 1 label 2 label 3 f1_score\n",
              "0  train_set     0.8    0.78    0.79      0.8\n",
              "1    val_set     0.8    0.77    0.78     0.77\n",
              "2   test_set    0.78    0.74    0.76     0.78"
            ]
          },
          "metadata": {},
          "execution_count": 52
        }
      ]
    },
    {
      "cell_type": "markdown",
      "metadata": {
        "id": "xAfliHLDcVKC"
      },
      "source": [
        "# Draft"
      ]
    },
    {
      "cell_type": "code",
      "execution_count": null,
      "metadata": {
        "id": "ZJIu4pAxliOA"
      },
      "outputs": [],
      "source": [
        "small_data = data_2016[data_2016['salary_midpoint'] <= 25000]"
      ]
    },
    {
      "cell_type": "code",
      "execution_count": null,
      "metadata": {
        "colab": {
          "base_uri": "https://localhost:8080/"
        },
        "id": "Hj84OUXKnQM0",
        "outputId": "89e42a83-735e-4236-8ff6-7845f7a160dc"
      },
      "outputs": [
        {
          "name": "stderr",
          "output_type": "stream",
          "text": [
            "/usr/local/lib/python3.7/dist-packages/ipykernel_launcher.py:3: SettingWithCopyWarning: \n",
            "A value is trying to be set on a copy of a slice from a DataFrame.\n",
            "Try using .loc[row_indexer,col_indexer] = value instead\n",
            "\n",
            "See the caveats in the documentation: https://pandas.pydata.org/pandas-docs/stable/user_guide/indexing.html#returning-a-view-versus-a-copy\n",
            "  This is separate from the ipykernel package so we can avoid doing imports until\n"
          ]
        },
        {
          "data": {
            "text/plain": [
              "array([0.35178125, 0.36242934, 0.2857894 ])"
            ]
          },
          "execution_count": 127,
          "metadata": {},
          "output_type": "execute_result"
        }
      ],
      "source": [
        "small_data['salary_label'] = pd.cut(small_data['salary_midpoint'],\n",
        "                                    bins = [-1, 5000, 15000, 25000],\n",
        "                                    labels = [1, 2, 3])\n",
        "_, num_labels = np.unique(small_data['salary_label'], return_counts = True)\n",
        "num_labels / len(small_data)"
      ]
    },
    {
      "cell_type": "code",
      "execution_count": null,
      "metadata": {
        "id": "ZsO76hornqGo"
      },
      "outputs": [],
      "source": [
        "X_smote_small, Y_smote_small, X_train_small, X_val_small, X_test_small, Y_train_small, Y_val_small, Y_test_small = split_and_smote(small_data)"
      ]
    },
    {
      "cell_type": "code",
      "execution_count": null,
      "metadata": {
        "colab": {
          "base_uri": "https://localhost:8080/"
        },
        "id": "N_JQRZ4kqG3I",
        "outputId": "af0fa3ec-59a0-4a8b-9465-065eeea23037"
      },
      "outputs": [
        {
          "data": {
            "text/plain": [
              "GradientBoostingClassifier()"
            ]
          },
          "execution_count": 129,
          "metadata": {},
          "output_type": "execute_result"
        }
      ],
      "source": [
        "GBC_small = GradientBoostingClassifier(learning_rate = 0.1)\n",
        "GBC_small.fit(X_smote_small, Y_smote_small)"
      ]
    },
    {
      "cell_type": "code",
      "execution_count": null,
      "metadata": {
        "id": "V5XRVqewqaLo"
      },
      "outputs": [],
      "source": [
        "val_accuracy_small, val_precision_small, val_confusing_matrix_small, val_f1_small = model_scores(GBC_small, X_val_small, Y_val_small)"
      ]
    },
    {
      "cell_type": "code",
      "execution_count": null,
      "metadata": {
        "colab": {
          "base_uri": "https://localhost:8080/",
          "height": 81
        },
        "id": "33qCTR2uqzB5",
        "outputId": "35059816-89dd-4d3d-a75c-a28582b3fb46"
      },
      "outputs": [
        {
          "data": {
            "text/html": [
              "\n",
              "  <div id=\"df-60ecfdec-3424-40e4-8bf8-62938ef8c9c9\">\n",
              "    <div class=\"colab-df-container\">\n",
              "      <div>\n",
              "<style scoped>\n",
              "    .dataframe tbody tr th:only-of-type {\n",
              "        vertical-align: middle;\n",
              "    }\n",
              "\n",
              "    .dataframe tbody tr th {\n",
              "        vertical-align: top;\n",
              "    }\n",
              "\n",
              "    .dataframe thead th {\n",
              "        text-align: right;\n",
              "    }\n",
              "</style>\n",
              "<table border=\"1\" class=\"dataframe\">\n",
              "  <thead>\n",
              "    <tr style=\"text-align: right;\">\n",
              "      <th></th>\n",
              "      <th>0</th>\n",
              "      <th>1</th>\n",
              "      <th>2</th>\n",
              "    </tr>\n",
              "  </thead>\n",
              "  <tbody>\n",
              "    <tr>\n",
              "      <th>0</th>\n",
              "      <td>0.641818</td>\n",
              "      <td>0.494141</td>\n",
              "      <td>0.54902</td>\n",
              "    </tr>\n",
              "  </tbody>\n",
              "</table>\n",
              "</div>\n",
              "      <button class=\"colab-df-convert\" onclick=\"convertToInteractive('df-60ecfdec-3424-40e4-8bf8-62938ef8c9c9')\"\n",
              "              title=\"Convert this dataframe to an interactive table.\"\n",
              "              style=\"display:none;\">\n",
              "        \n",
              "  <svg xmlns=\"http://www.w3.org/2000/svg\" height=\"24px\"viewBox=\"0 0 24 24\"\n",
              "       width=\"24px\">\n",
              "    <path d=\"M0 0h24v24H0V0z\" fill=\"none\"/>\n",
              "    <path d=\"M18.56 5.44l.94 2.06.94-2.06 2.06-.94-2.06-.94-.94-2.06-.94 2.06-2.06.94zm-11 1L8.5 8.5l.94-2.06 2.06-.94-2.06-.94L8.5 2.5l-.94 2.06-2.06.94zm10 10l.94 2.06.94-2.06 2.06-.94-2.06-.94-.94-2.06-.94 2.06-2.06.94z\"/><path d=\"M17.41 7.96l-1.37-1.37c-.4-.4-.92-.59-1.43-.59-.52 0-1.04.2-1.43.59L10.3 9.45l-7.72 7.72c-.78.78-.78 2.05 0 2.83L4 21.41c.39.39.9.59 1.41.59.51 0 1.02-.2 1.41-.59l7.78-7.78 2.81-2.81c.8-.78.8-2.07 0-2.86zM5.41 20L4 18.59l7.72-7.72 1.47 1.35L5.41 20z\"/>\n",
              "  </svg>\n",
              "      </button>\n",
              "      \n",
              "  <style>\n",
              "    .colab-df-container {\n",
              "      display:flex;\n",
              "      flex-wrap:wrap;\n",
              "      gap: 12px;\n",
              "    }\n",
              "\n",
              "    .colab-df-convert {\n",
              "      background-color: #E8F0FE;\n",
              "      border: none;\n",
              "      border-radius: 50%;\n",
              "      cursor: pointer;\n",
              "      display: none;\n",
              "      fill: #1967D2;\n",
              "      height: 32px;\n",
              "      padding: 0 0 0 0;\n",
              "      width: 32px;\n",
              "    }\n",
              "\n",
              "    .colab-df-convert:hover {\n",
              "      background-color: #E2EBFA;\n",
              "      box-shadow: 0px 1px 2px rgba(60, 64, 67, 0.3), 0px 1px 3px 1px rgba(60, 64, 67, 0.15);\n",
              "      fill: #174EA6;\n",
              "    }\n",
              "\n",
              "    [theme=dark] .colab-df-convert {\n",
              "      background-color: #3B4455;\n",
              "      fill: #D2E3FC;\n",
              "    }\n",
              "\n",
              "    [theme=dark] .colab-df-convert:hover {\n",
              "      background-color: #434B5C;\n",
              "      box-shadow: 0px 1px 3px 1px rgba(0, 0, 0, 0.15);\n",
              "      filter: drop-shadow(0px 1px 2px rgba(0, 0, 0, 0.3));\n",
              "      fill: #FFFFFF;\n",
              "    }\n",
              "  </style>\n",
              "\n",
              "      <script>\n",
              "        const buttonEl =\n",
              "          document.querySelector('#df-60ecfdec-3424-40e4-8bf8-62938ef8c9c9 button.colab-df-convert');\n",
              "        buttonEl.style.display =\n",
              "          google.colab.kernel.accessAllowed ? 'block' : 'none';\n",
              "\n",
              "        async function convertToInteractive(key) {\n",
              "          const element = document.querySelector('#df-60ecfdec-3424-40e4-8bf8-62938ef8c9c9');\n",
              "          const dataTable =\n",
              "            await google.colab.kernel.invokeFunction('convertToInteractive',\n",
              "                                                     [key], {});\n",
              "          if (!dataTable) return;\n",
              "\n",
              "          const docLinkHtml = 'Like what you see? Visit the ' +\n",
              "            '<a target=\"_blank\" href=https://colab.research.google.com/notebooks/data_table.ipynb>data table notebook</a>'\n",
              "            + ' to learn more about interactive tables.';\n",
              "          element.innerHTML = '';\n",
              "          dataTable['output_type'] = 'display_data';\n",
              "          await google.colab.output.renderOutput(dataTable, element);\n",
              "          const docLink = document.createElement('div');\n",
              "          docLink.innerHTML = docLinkHtml;\n",
              "          element.appendChild(docLink);\n",
              "        }\n",
              "      </script>\n",
              "    </div>\n",
              "  </div>\n",
              "  "
            ],
            "text/plain": [
              "          0         1        2\n",
              "0  0.641818  0.494141  0.54902"
            ]
          },
          "execution_count": 131,
          "metadata": {},
          "output_type": "execute_result"
        }
      ],
      "source": [
        "val_precision_small"
      ]
    }
  ],
  "metadata": {
    "colab": {
      "collapsed_sections": [
        "wjDl5P5PlsT3",
        "XRYGN30cl1j8",
        "wTz9SZWImCgZ",
        "kYUGd9MfnSz3",
        "UBpqM8TSv9Du",
        "E57EqrHUcwXO",
        "tpTft123kuEa",
        "wx2Cus55GWls",
        "duf4ijLVh2xi",
        "xAfliHLDcVKC"
      ],
      "name": "DS salary.ipynb",
      "provenance": []
    },
    "kernelspec": {
      "display_name": "Python 3",
      "name": "python3"
    },
    "language_info": {
      "name": "python"
    }
  },
  "nbformat": 4,
  "nbformat_minor": 0
}